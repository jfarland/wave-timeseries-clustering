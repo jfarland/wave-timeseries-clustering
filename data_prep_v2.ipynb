{
 "cells": [
  {
   "cell_type": "code",
   "execution_count": 1,
   "id": "133d0ee5",
   "metadata": {},
   "outputs": [
    {
     "data": {
      "text/plain": [
       "'/Users/jfarland/Documents/research/solution-engineering/sales-engineering/megan/wave_apps/ts_clustering'"
      ]
     },
     "execution_count": 1,
     "metadata": {},
     "output_type": "execute_result"
    }
   ],
   "source": [
    "import pandas as pd\n",
    "import os \n",
    "os.getcwd()"
   ]
  },
  {
   "cell_type": "code",
   "execution_count": 2,
   "id": "a8f8ada2",
   "metadata": {},
   "outputs": [],
   "source": [
    "df = pd.read_csv(\"s3://h2o-public-test-data/bigdata/server/energy-data-science/energy-df-sample.tar.gz\")"
   ]
  },
  {
   "cell_type": "code",
   "execution_count": 4,
   "id": "2538fd96",
   "metadata": {
    "scrolled": true
   },
   "outputs": [
    {
     "name": "stdout",
     "output_type": "stream",
     "text": [
      "Index(['energy-df-sample.csv', 'date', 'hour', 'LCLid', 'kw', 'visibility',\n",
      "       'windBearing', 'temperature', 'timestamp', 'dewPoint', 'pressure',\n",
      "       'apparentTemperature', 'windSpeed', 'precipType', 'icon', 'humidity',\n",
      "       'summary', 'time'],\n",
      "      dtype='object')\n"
     ]
    },
    {
     "data": {
      "text/html": [
       "<div>\n",
       "<style scoped>\n",
       "    .dataframe tbody tr th:only-of-type {\n",
       "        vertical-align: middle;\n",
       "    }\n",
       "\n",
       "    .dataframe tbody tr th {\n",
       "        vertical-align: top;\n",
       "    }\n",
       "\n",
       "    .dataframe thead th {\n",
       "        text-align: right;\n",
       "    }\n",
       "</style>\n",
       "<table border=\"1\" class=\"dataframe\">\n",
       "  <thead>\n",
       "    <tr style=\"text-align: right;\">\n",
       "      <th></th>\n",
       "      <th>energy-df-sample.csv</th>\n",
       "      <th>date</th>\n",
       "      <th>hour</th>\n",
       "      <th>LCLid</th>\n",
       "      <th>kw</th>\n",
       "      <th>visibility</th>\n",
       "      <th>windBearing</th>\n",
       "      <th>temperature</th>\n",
       "      <th>timestamp</th>\n",
       "      <th>dewPoint</th>\n",
       "      <th>pressure</th>\n",
       "      <th>apparentTemperature</th>\n",
       "      <th>windSpeed</th>\n",
       "      <th>precipType</th>\n",
       "      <th>icon</th>\n",
       "      <th>humidity</th>\n",
       "      <th>summary</th>\n",
       "      <th>time</th>\n",
       "    </tr>\n",
       "  </thead>\n",
       "  <tbody>\n",
       "    <tr>\n",
       "      <th>0</th>\n",
       "      <td>5.0</td>\n",
       "      <td>2011-11-24</td>\n",
       "      <td>0.0</td>\n",
       "      <td>MAC000150</td>\n",
       "      <td>0.386</td>\n",
       "      <td>8.88</td>\n",
       "      <td>217.0</td>\n",
       "      <td>9.01</td>\n",
       "      <td>2011-11-24 00:00:00</td>\n",
       "      <td>8.33</td>\n",
       "      <td>1029.52</td>\n",
       "      <td>7.37</td>\n",
       "      <td>2.92</td>\n",
       "      <td>rain</td>\n",
       "      <td>clear-night</td>\n",
       "      <td>0.96</td>\n",
       "      <td>Clear</td>\n",
       "      <td>00:00:00</td>\n",
       "    </tr>\n",
       "    <tr>\n",
       "      <th>1</th>\n",
       "      <td>18.0</td>\n",
       "      <td>2011-11-24</td>\n",
       "      <td>1.0</td>\n",
       "      <td>MAC000150</td>\n",
       "      <td>0.362</td>\n",
       "      <td>9.91</td>\n",
       "      <td>222.0</td>\n",
       "      <td>8.99</td>\n",
       "      <td>2011-11-24 01:00:00</td>\n",
       "      <td>8.04</td>\n",
       "      <td>1029.40</td>\n",
       "      <td>7.51</td>\n",
       "      <td>2.67</td>\n",
       "      <td>rain</td>\n",
       "      <td>clear-night</td>\n",
       "      <td>0.94</td>\n",
       "      <td>Clear</td>\n",
       "      <td>01:00:00</td>\n",
       "    </tr>\n",
       "    <tr>\n",
       "      <th>2</th>\n",
       "      <td>31.0</td>\n",
       "      <td>2011-11-24</td>\n",
       "      <td>2.0</td>\n",
       "      <td>MAC000150</td>\n",
       "      <td>0.314</td>\n",
       "      <td>9.27</td>\n",
       "      <td>215.0</td>\n",
       "      <td>8.56</td>\n",
       "      <td>2011-11-24 02:00:00</td>\n",
       "      <td>7.97</td>\n",
       "      <td>1029.38</td>\n",
       "      <td>7.01</td>\n",
       "      <td>2.65</td>\n",
       "      <td>rain</td>\n",
       "      <td>clear-night</td>\n",
       "      <td>0.96</td>\n",
       "      <td>Clear</td>\n",
       "      <td>02:00:00</td>\n",
       "    </tr>\n",
       "    <tr>\n",
       "      <th>3</th>\n",
       "      <td>44.0</td>\n",
       "      <td>2011-11-24</td>\n",
       "      <td>3.0</td>\n",
       "      <td>MAC000150</td>\n",
       "      <td>0.272</td>\n",
       "      <td>8.21</td>\n",
       "      <td>221.0</td>\n",
       "      <td>9.03</td>\n",
       "      <td>2011-11-24 03:00:00</td>\n",
       "      <td>8.36</td>\n",
       "      <td>1029.18</td>\n",
       "      <td>7.32</td>\n",
       "      <td>3.05</td>\n",
       "      <td>rain</td>\n",
       "      <td>clear-night</td>\n",
       "      <td>0.96</td>\n",
       "      <td>Clear</td>\n",
       "      <td>03:00:00</td>\n",
       "    </tr>\n",
       "    <tr>\n",
       "      <th>4</th>\n",
       "      <td>57.0</td>\n",
       "      <td>2011-11-24</td>\n",
       "      <td>4.0</td>\n",
       "      <td>MAC000150</td>\n",
       "      <td>0.160</td>\n",
       "      <td>8.93</td>\n",
       "      <td>215.0</td>\n",
       "      <td>8.78</td>\n",
       "      <td>2011-11-24 04:00:00</td>\n",
       "      <td>8.19</td>\n",
       "      <td>1028.89</td>\n",
       "      <td>7.01</td>\n",
       "      <td>3.06</td>\n",
       "      <td>rain</td>\n",
       "      <td>clear-night</td>\n",
       "      <td>0.96</td>\n",
       "      <td>Clear</td>\n",
       "      <td>04:00:00</td>\n",
       "    </tr>\n",
       "  </tbody>\n",
       "</table>\n",
       "</div>"
      ],
      "text/plain": [
       "   energy-df-sample.csv        date  hour      LCLid     kw  visibility  \\\n",
       "0                   5.0  2011-11-24   0.0  MAC000150  0.386        8.88   \n",
       "1                  18.0  2011-11-24   1.0  MAC000150  0.362        9.91   \n",
       "2                  31.0  2011-11-24   2.0  MAC000150  0.314        9.27   \n",
       "3                  44.0  2011-11-24   3.0  MAC000150  0.272        8.21   \n",
       "4                  57.0  2011-11-24   4.0  MAC000150  0.160        8.93   \n",
       "\n",
       "   windBearing  temperature            timestamp  dewPoint  pressure  \\\n",
       "0        217.0         9.01  2011-11-24 00:00:00      8.33   1029.52   \n",
       "1        222.0         8.99  2011-11-24 01:00:00      8.04   1029.40   \n",
       "2        215.0         8.56  2011-11-24 02:00:00      7.97   1029.38   \n",
       "3        221.0         9.03  2011-11-24 03:00:00      8.36   1029.18   \n",
       "4        215.0         8.78  2011-11-24 04:00:00      8.19   1028.89   \n",
       "\n",
       "   apparentTemperature  windSpeed precipType         icon  humidity summary  \\\n",
       "0                 7.37       2.92       rain  clear-night      0.96   Clear   \n",
       "1                 7.51       2.67       rain  clear-night      0.94   Clear   \n",
       "2                 7.01       2.65       rain  clear-night      0.96   Clear   \n",
       "3                 7.32       3.05       rain  clear-night      0.96   Clear   \n",
       "4                 7.01       3.06       rain  clear-night      0.96   Clear   \n",
       "\n",
       "       time  \n",
       "0  00:00:00  \n",
       "1  01:00:00  \n",
       "2  02:00:00  \n",
       "3  03:00:00  \n",
       "4  04:00:00  "
      ]
     },
     "execution_count": 4,
     "metadata": {},
     "output_type": "execute_result"
    }
   ],
   "source": [
    "#df = df[['Store', 'Date', 'Weekly_Sales']].groupby(['Store', 'Date']).sum('Weekly_Sales').reset_index()\n",
    "print(df.columns)\n",
    "df.head()\n"
   ]
  },
  {
   "cell_type": "code",
   "execution_count": 5,
   "id": "26122b26",
   "metadata": {},
   "outputs": [
    {
     "data": {
      "text/html": [
       "<div>\n",
       "<style scoped>\n",
       "    .dataframe tbody tr th:only-of-type {\n",
       "        vertical-align: middle;\n",
       "    }\n",
       "\n",
       "    .dataframe tbody tr th {\n",
       "        vertical-align: top;\n",
       "    }\n",
       "\n",
       "    .dataframe thead th {\n",
       "        text-align: right;\n",
       "    }\n",
       "</style>\n",
       "<table border=\"1\" class=\"dataframe\">\n",
       "  <thead>\n",
       "    <tr style=\"text-align: right;\">\n",
       "      <th></th>\n",
       "      <th>timestamp</th>\n",
       "      <th>sensor_id</th>\n",
       "      <th>kw</th>\n",
       "    </tr>\n",
       "  </thead>\n",
       "  <tbody>\n",
       "    <tr>\n",
       "      <th>0</th>\n",
       "      <td>2011-11-24 00:00:00</td>\n",
       "      <td>MAC000150</td>\n",
       "      <td>0.386</td>\n",
       "    </tr>\n",
       "    <tr>\n",
       "      <th>1</th>\n",
       "      <td>2011-11-24 01:00:00</td>\n",
       "      <td>MAC000150</td>\n",
       "      <td>0.362</td>\n",
       "    </tr>\n",
       "    <tr>\n",
       "      <th>2</th>\n",
       "      <td>2011-11-24 02:00:00</td>\n",
       "      <td>MAC000150</td>\n",
       "      <td>0.314</td>\n",
       "    </tr>\n",
       "    <tr>\n",
       "      <th>3</th>\n",
       "      <td>2011-11-24 03:00:00</td>\n",
       "      <td>MAC000150</td>\n",
       "      <td>0.272</td>\n",
       "    </tr>\n",
       "    <tr>\n",
       "      <th>4</th>\n",
       "      <td>2011-11-24 04:00:00</td>\n",
       "      <td>MAC000150</td>\n",
       "      <td>0.160</td>\n",
       "    </tr>\n",
       "  </tbody>\n",
       "</table>\n",
       "</div>"
      ],
      "text/plain": [
       "             timestamp  sensor_id     kw\n",
       "0  2011-11-24 00:00:00  MAC000150  0.386\n",
       "1  2011-11-24 01:00:00  MAC000150  0.362\n",
       "2  2011-11-24 02:00:00  MAC000150  0.314\n",
       "3  2011-11-24 03:00:00  MAC000150  0.272\n",
       "4  2011-11-24 04:00:00  MAC000150  0.160"
      ]
     },
     "execution_count": 5,
     "metadata": {},
     "output_type": "execute_result"
    }
   ],
   "source": [
    "df[\"sensor_id\"] = df[\"LCLid\"]\n",
    "df = df[['timestamp', 'kw', 'sensor_id']].groupby(['timestamp', 'sensor_id']).sum('kw').reset_index()\n",
    "df.head()"
   ]
  },
  {
   "cell_type": "code",
   "execution_count": 6,
   "id": "b7036230",
   "metadata": {},
   "outputs": [
    {
     "name": "stderr",
     "output_type": "stream",
     "text": [
      "Feature Extraction: 100%|██████████| 25/25 [00:06<00:00,  4.05it/s]\n"
     ]
    }
   ],
   "source": [
    "from tsfresh import extract_features\n",
    "from tsfresh.feature_extraction import MinimalFCParameters\n",
    "\n",
    "settings = MinimalFCParameters()\n",
    "\n",
    "extracted_features = extract_features(df, column_id=\"sensor_id\", column_sort=\"timestamp\", default_fc_parameters=settings)"
   ]
  },
  {
   "cell_type": "code",
   "execution_count": 7,
   "id": "c6df2102",
   "metadata": {},
   "outputs": [
    {
     "data": {
      "text/html": [
       "<div>\n",
       "<style scoped>\n",
       "    .dataframe tbody tr th:only-of-type {\n",
       "        vertical-align: middle;\n",
       "    }\n",
       "\n",
       "    .dataframe tbody tr th {\n",
       "        vertical-align: top;\n",
       "    }\n",
       "\n",
       "    .dataframe thead th {\n",
       "        text-align: right;\n",
       "    }\n",
       "</style>\n",
       "<table border=\"1\" class=\"dataframe\">\n",
       "  <thead>\n",
       "    <tr style=\"text-align: right;\">\n",
       "      <th></th>\n",
       "      <th>kw__sum_values</th>\n",
       "      <th>kw__median</th>\n",
       "      <th>kw__mean</th>\n",
       "      <th>kw__length</th>\n",
       "      <th>kw__standard_deviation</th>\n",
       "      <th>kw__variance</th>\n",
       "      <th>kw__root_mean_square</th>\n",
       "      <th>kw__maximum</th>\n",
       "      <th>kw__absolute_maximum</th>\n",
       "      <th>kw__minimum</th>\n",
       "    </tr>\n",
       "  </thead>\n",
       "  <tbody>\n",
       "    <tr>\n",
       "      <th>MAC000002</th>\n",
       "      <td>6023.221001</td>\n",
       "      <td>0.3410</td>\n",
       "      <td>0.504035</td>\n",
       "      <td>11950.0</td>\n",
       "      <td>0.445471</td>\n",
       "      <td>0.198444</td>\n",
       "      <td>0.672678</td>\n",
       "      <td>4.780</td>\n",
       "      <td>4.780</td>\n",
       "      <td>0.135</td>\n",
       "    </tr>\n",
       "    <tr>\n",
       "      <th>MAC000010</th>\n",
       "      <td>13738.266997</td>\n",
       "      <td>0.8730</td>\n",
       "      <td>1.100999</td>\n",
       "      <td>12478.0</td>\n",
       "      <td>0.777066</td>\n",
       "      <td>0.603831</td>\n",
       "      <td>1.347602</td>\n",
       "      <td>7.582</td>\n",
       "      <td>7.582</td>\n",
       "      <td>0.244</td>\n",
       "    </tr>\n",
       "    <tr>\n",
       "      <th>MAC000041</th>\n",
       "      <td>6736.777000</td>\n",
       "      <td>0.2250</td>\n",
       "      <td>0.351790</td>\n",
       "      <td>19150.0</td>\n",
       "      <td>0.350721</td>\n",
       "      <td>0.123005</td>\n",
       "      <td>0.496751</td>\n",
       "      <td>2.947</td>\n",
       "      <td>2.947</td>\n",
       "      <td>0.000</td>\n",
       "    </tr>\n",
       "    <tr>\n",
       "      <th>MAC000061</th>\n",
       "      <td>4701.709000</td>\n",
       "      <td>0.1705</td>\n",
       "      <td>0.243385</td>\n",
       "      <td>19318.0</td>\n",
       "      <td>0.179528</td>\n",
       "      <td>0.032230</td>\n",
       "      <td>0.302434</td>\n",
       "      <td>1.678</td>\n",
       "      <td>1.678</td>\n",
       "      <td>0.000</td>\n",
       "    </tr>\n",
       "    <tr>\n",
       "      <th>MAC000069</th>\n",
       "      <td>6402.874000</td>\n",
       "      <td>0.2660</td>\n",
       "      <td>0.330215</td>\n",
       "      <td>19390.0</td>\n",
       "      <td>0.257220</td>\n",
       "      <td>0.066162</td>\n",
       "      <td>0.418574</td>\n",
       "      <td>4.466</td>\n",
       "      <td>4.466</td>\n",
       "      <td>0.032</td>\n",
       "    </tr>\n",
       "  </tbody>\n",
       "</table>\n",
       "</div>"
      ],
      "text/plain": [
       "           kw__sum_values  kw__median  kw__mean  kw__length  \\\n",
       "MAC000002     6023.221001      0.3410  0.504035     11950.0   \n",
       "MAC000010    13738.266997      0.8730  1.100999     12478.0   \n",
       "MAC000041     6736.777000      0.2250  0.351790     19150.0   \n",
       "MAC000061     4701.709000      0.1705  0.243385     19318.0   \n",
       "MAC000069     6402.874000      0.2660  0.330215     19390.0   \n",
       "\n",
       "           kw__standard_deviation  kw__variance  kw__root_mean_square  \\\n",
       "MAC000002                0.445471      0.198444              0.672678   \n",
       "MAC000010                0.777066      0.603831              1.347602   \n",
       "MAC000041                0.350721      0.123005              0.496751   \n",
       "MAC000061                0.179528      0.032230              0.302434   \n",
       "MAC000069                0.257220      0.066162              0.418574   \n",
       "\n",
       "           kw__maximum  kw__absolute_maximum  kw__minimum  \n",
       "MAC000002        4.780                 4.780        0.135  \n",
       "MAC000010        7.582                 7.582        0.244  \n",
       "MAC000041        2.947                 2.947        0.000  \n",
       "MAC000061        1.678                 1.678        0.000  \n",
       "MAC000069        4.466                 4.466        0.032  "
      ]
     },
     "execution_count": 7,
     "metadata": {},
     "output_type": "execute_result"
    }
   ],
   "source": [
    "extracted_features.head()"
   ]
  },
  {
   "cell_type": "code",
   "execution_count": 159,
   "id": "4c20fc1c",
   "metadata": {},
   "outputs": [],
   "source": [
    "#df = df.set_index(\"sensor_id\")\n",
    "#df = df.pivot_table(index='sensor_id',columns='Date', values='Weekly_Sales', aggfunc='sum').reset_index()\n",
    "#df = df.drop(columns=['Store'])"
   ]
  },
  {
   "cell_type": "code",
   "execution_count": 8,
   "id": "94d93b16",
   "metadata": {},
   "outputs": [
    {
     "name": "stdout",
     "output_type": "stream",
     "text": [
      "Checking whether there is an H2O instance running at http://localhost:54321 ..... not found.\n",
      "Attempting to start a local H2O server...\n",
      "  Java Version: openjdk version \"15.0.5\" 2021-10-19; OpenJDK Runtime Environment Zulu15.36+13-CA (build 15.0.5+3-MTS); OpenJDK 64-Bit Server VM Zulu15.36+13-CA (build 15.0.5+3-MTS, mixed mode)\n",
      "  Starting server from /Users/jfarland/opt/anaconda3/envs/ts_clustering/lib/python3.9/site-packages/h2o/backend/bin/h2o.jar\n",
      "  Ice root: /var/folders/01/4mysj8cx1bjg_w8rbw097jwr0000gp/T/tmp28zya9gr\n",
      "  JVM stdout: /var/folders/01/4mysj8cx1bjg_w8rbw097jwr0000gp/T/tmp28zya9gr/h2o_jfarland_started_from_python.out\n",
      "  JVM stderr: /var/folders/01/4mysj8cx1bjg_w8rbw097jwr0000gp/T/tmp28zya9gr/h2o_jfarland_started_from_python.err\n",
      "  Server is running at http://127.0.0.1:54321\n",
      "Connecting to H2O server at http://127.0.0.1:54321 ... successful.\n"
     ]
    },
    {
     "data": {
      "text/html": [
       "<div style=\"overflow:auto\"><table style=\"width:50%\"><tr><td>H2O_cluster_uptime:</td>\n",
       "<td>01 secs</td></tr>\n",
       "<tr><td>H2O_cluster_timezone:</td>\n",
       "<td>America/Los_Angeles</td></tr>\n",
       "<tr><td>H2O_data_parsing_timezone:</td>\n",
       "<td>UTC</td></tr>\n",
       "<tr><td>H2O_cluster_version:</td>\n",
       "<td>3.36.1.4</td></tr>\n",
       "<tr><td>H2O_cluster_version_age:</td>\n",
       "<td>1 month and 9 days </td></tr>\n",
       "<tr><td>H2O_cluster_name:</td>\n",
       "<td>H2O_from_python_jfarland_agvcpi</td></tr>\n",
       "<tr><td>H2O_cluster_total_nodes:</td>\n",
       "<td>1</td></tr>\n",
       "<tr><td>H2O_cluster_free_memory:</td>\n",
       "<td>4 Gb</td></tr>\n",
       "<tr><td>H2O_cluster_total_cores:</td>\n",
       "<td>10</td></tr>\n",
       "<tr><td>H2O_cluster_allowed_cores:</td>\n",
       "<td>10</td></tr>\n",
       "<tr><td>H2O_cluster_status:</td>\n",
       "<td>locked, healthy</td></tr>\n",
       "<tr><td>H2O_connection_url:</td>\n",
       "<td>http://127.0.0.1:54321</td></tr>\n",
       "<tr><td>H2O_connection_proxy:</td>\n",
       "<td>{\"http\": null, \"https\": null}</td></tr>\n",
       "<tr><td>H2O_internal_security:</td>\n",
       "<td>False</td></tr>\n",
       "<tr><td>Python_version:</td>\n",
       "<td>3.9.13 final</td></tr></table></div>"
      ],
      "text/plain": [
       "--------------------------  -------------------------------\n",
       "H2O_cluster_uptime:         01 secs\n",
       "H2O_cluster_timezone:       America/Los_Angeles\n",
       "H2O_data_parsing_timezone:  UTC\n",
       "H2O_cluster_version:        3.36.1.4\n",
       "H2O_cluster_version_age:    1 month and 9 days\n",
       "H2O_cluster_name:           H2O_from_python_jfarland_agvcpi\n",
       "H2O_cluster_total_nodes:    1\n",
       "H2O_cluster_free_memory:    4 Gb\n",
       "H2O_cluster_total_cores:    10\n",
       "H2O_cluster_allowed_cores:  10\n",
       "H2O_cluster_status:         locked, healthy\n",
       "H2O_connection_url:         http://127.0.0.1:54321\n",
       "H2O_connection_proxy:       {\"http\": null, \"https\": null}\n",
       "H2O_internal_security:      False\n",
       "Python_version:             3.9.13 final\n",
       "--------------------------  -------------------------------"
      ]
     },
     "metadata": {},
     "output_type": "display_data"
    }
   ],
   "source": [
    "import h2o\n",
    "h2o.init()"
   ]
  },
  {
   "cell_type": "code",
   "execution_count": 9,
   "id": "70b3f46c",
   "metadata": {},
   "outputs": [
    {
     "name": "stdout",
     "output_type": "stream",
     "text": [
      "Parse progress: |████████████████████████████████████████████████████████████████| (done) 100%\n"
     ]
    }
   ],
   "source": [
    "df_h2o = h2o.H2OFrame(extracted_features)"
   ]
  },
  {
   "cell_type": "code",
   "execution_count": 12,
   "id": "91c4bb69",
   "metadata": {},
   "outputs": [
    {
     "data": {
      "text/html": [
       "<table>\n",
       "<thead>\n",
       "<tr><th style=\"text-align: right;\">  kw__sum_values</th><th style=\"text-align: right;\">  kw__median</th><th style=\"text-align: right;\">  kw__mean</th><th style=\"text-align: right;\">  kw__length</th><th style=\"text-align: right;\">  kw__standard_deviation</th><th style=\"text-align: right;\">  kw__variance</th><th style=\"text-align: right;\">  kw__root_mean_square</th><th style=\"text-align: right;\">  kw__maximum</th><th style=\"text-align: right;\">  kw__absolute_maximum</th><th style=\"text-align: right;\">  kw__minimum</th></tr>\n",
       "</thead>\n",
       "<tbody>\n",
       "<tr><td style=\"text-align: right;\">         6023.22</td><td style=\"text-align: right;\">      0.341 </td><td style=\"text-align: right;\">  0.504035</td><td style=\"text-align: right;\">       11950</td><td style=\"text-align: right;\">                0.445471</td><td style=\"text-align: right;\">     0.198444 </td><td style=\"text-align: right;\">              0.672678</td><td style=\"text-align: right;\">        4.78 </td><td style=\"text-align: right;\">                 4.78 </td><td style=\"text-align: right;\">        0.135</td></tr>\n",
       "<tr><td style=\"text-align: right;\">        13738.3 </td><td style=\"text-align: right;\">      0.873 </td><td style=\"text-align: right;\">  1.101   </td><td style=\"text-align: right;\">       12478</td><td style=\"text-align: right;\">                0.777066</td><td style=\"text-align: right;\">     0.603831 </td><td style=\"text-align: right;\">              1.3476  </td><td style=\"text-align: right;\">        7.582</td><td style=\"text-align: right;\">                 7.582</td><td style=\"text-align: right;\">        0.244</td></tr>\n",
       "<tr><td style=\"text-align: right;\">         6736.78</td><td style=\"text-align: right;\">      0.225 </td><td style=\"text-align: right;\">  0.35179 </td><td style=\"text-align: right;\">       19150</td><td style=\"text-align: right;\">                0.350721</td><td style=\"text-align: right;\">     0.123005 </td><td style=\"text-align: right;\">              0.496751</td><td style=\"text-align: right;\">        2.947</td><td style=\"text-align: right;\">                 2.947</td><td style=\"text-align: right;\">        0    </td></tr>\n",
       "<tr><td style=\"text-align: right;\">         4701.71</td><td style=\"text-align: right;\">      0.1705</td><td style=\"text-align: right;\">  0.243385</td><td style=\"text-align: right;\">       19318</td><td style=\"text-align: right;\">                0.179528</td><td style=\"text-align: right;\">     0.0322302</td><td style=\"text-align: right;\">              0.302434</td><td style=\"text-align: right;\">        1.678</td><td style=\"text-align: right;\">                 1.678</td><td style=\"text-align: right;\">        0    </td></tr>\n",
       "<tr><td style=\"text-align: right;\">         6402.87</td><td style=\"text-align: right;\">      0.266 </td><td style=\"text-align: right;\">  0.330215</td><td style=\"text-align: right;\">       19390</td><td style=\"text-align: right;\">                0.25722 </td><td style=\"text-align: right;\">     0.0661619</td><td style=\"text-align: right;\">              0.418574</td><td style=\"text-align: right;\">        4.466</td><td style=\"text-align: right;\">                 4.466</td><td style=\"text-align: right;\">        0.032</td></tr>\n",
       "<tr><td style=\"text-align: right;\">         4952.03</td><td style=\"text-align: right;\">      0.189 </td><td style=\"text-align: right;\">  0.31602 </td><td style=\"text-align: right;\">       15670</td><td style=\"text-align: right;\">                0.283594</td><td style=\"text-align: right;\">     0.0804254</td><td style=\"text-align: right;\">              0.42461 </td><td style=\"text-align: right;\">        3.324</td><td style=\"text-align: right;\">                 3.324</td><td style=\"text-align: right;\">        0.049</td></tr>\n",
       "<tr><td style=\"text-align: right;\">         9063.55</td><td style=\"text-align: right;\">      0.316 </td><td style=\"text-align: right;\">  0.469176</td><td style=\"text-align: right;\">       19318</td><td style=\"text-align: right;\">                0.469113</td><td style=\"text-align: right;\">     0.220067 </td><td style=\"text-align: right;\">              0.663471</td><td style=\"text-align: right;\">        4.26 </td><td style=\"text-align: right;\">                 4.26 </td><td style=\"text-align: right;\">        0.073</td></tr>\n",
       "<tr><td style=\"text-align: right;\">         2772.24</td><td style=\"text-align: right;\">      0.141 </td><td style=\"text-align: right;\">  0.143863</td><td style=\"text-align: right;\">       19270</td><td style=\"text-align: right;\">                0.109523</td><td style=\"text-align: right;\">     0.0119953</td><td style=\"text-align: right;\">              0.180809</td><td style=\"text-align: right;\">        0.563</td><td style=\"text-align: right;\">                 0.563</td><td style=\"text-align: right;\">        0.01 </td></tr>\n",
       "<tr><td style=\"text-align: right;\">        19639.2 </td><td style=\"text-align: right;\">      0.8535</td><td style=\"text-align: right;\">  1.03725 </td><td style=\"text-align: right;\">       18934</td><td style=\"text-align: right;\">                0.712833</td><td style=\"text-align: right;\">     0.508131 </td><td style=\"text-align: right;\">              1.25858 </td><td style=\"text-align: right;\">        5.717</td><td style=\"text-align: right;\">                 5.717</td><td style=\"text-align: right;\">        0.172</td></tr>\n",
       "<tr><td style=\"text-align: right;\">         8269.33</td><td style=\"text-align: right;\">      0.195 </td><td style=\"text-align: right;\">  0.432904</td><td style=\"text-align: right;\">       19102</td><td style=\"text-align: right;\">                0.501288</td><td style=\"text-align: right;\">     0.25129  </td><td style=\"text-align: right;\">              0.662341</td><td style=\"text-align: right;\">        4.782</td><td style=\"text-align: right;\">                 4.782</td><td style=\"text-align: right;\">        0.062</td></tr>\n",
       "</tbody>\n",
       "</table>"
      ]
     },
     "metadata": {},
     "output_type": "display_data"
    },
    {
     "data": {
      "text/plain": []
     },
     "execution_count": 12,
     "metadata": {},
     "output_type": "execute_result"
    }
   ],
   "source": [
    "df_h2o.head()"
   ]
  },
  {
   "cell_type": "code",
   "execution_count": 10,
   "id": "4d31201f",
   "metadata": {},
   "outputs": [
    {
     "name": "stdout",
     "output_type": "stream",
     "text": [
      "kmeans Model Build progress: |███████████████████████████████████████████████████| (done) 100%\n"
     ]
    }
   ],
   "source": [
    "from h2o.estimators.kmeans import H2OKMeansEstimator\n",
    "\n",
    "kmeans_default = H2OKMeansEstimator(estimate_k = True, # Let Kmeans chose the optimal number of clusters\n",
    "                                    k = 20, # Max number of clusters\n",
    "                                    model_id = \"kmeans_default.hex\")\n",
    "\n",
    "kmeans_default.train(training_frame = df_h2o, x=[i for i in df_h2o.col_names if i != 'sensor_id']);"
   ]
  },
  {
   "cell_type": "code",
   "execution_count": 11,
   "id": "a2be4bfa",
   "metadata": {},
   "outputs": [],
   "source": [
    "def get_table_data(data, model):\n",
    "    clusters = model.predict(data)\n",
    "    clusters.col_names = ['cluster']\n",
    "    ext_data = clusters.cbind(data)\n",
    "    \n",
    "    return ext_data"
   ]
  },
  {
   "cell_type": "code",
   "execution_count": 12,
   "id": "a4c9e283",
   "metadata": {},
   "outputs": [],
   "source": [
    "def get_cluster_plot(data, model):\n",
    "    ext_data = data[[i for i in df_h2o.col_names if i != 'sensor_id']].cbind(model.predict(data))\n",
    "    \n",
    "    ts_clusters = ext_data.group_by('predict').mean().get_frame()\n",
    "    ts_clusters.col_names = [i.replace(\"mean_\", \"\") for i in ts_clusters.col_names]\n",
    "    ts_clusters.col_names = [\"cluster\"] + ts_clusters.col_names[1::]\n",
    "    \n",
    "    return ts_clusters"
   ]
  },
  {
   "cell_type": "code",
   "execution_count": 15,
   "id": "a862657a",
   "metadata": {},
   "outputs": [
    {
     "name": "stdout",
     "output_type": "stream",
     "text": [
      "kmeans prediction progress: |████████████████████████████████████████████████████| (done) 100%\n"
     ]
    },
    {
     "data": {
      "text/html": [
       "<table>\n",
       "<thead>\n",
       "<tr><th style=\"text-align: right;\">  cluster</th><th style=\"text-align: right;\">  kw__sum_values</th><th style=\"text-align: right;\">  kw__median</th><th style=\"text-align: right;\">  kw__mean</th><th style=\"text-align: right;\">  kw__length</th><th style=\"text-align: right;\">  kw__standard_deviation</th><th style=\"text-align: right;\">  kw__variance</th><th style=\"text-align: right;\">  kw__root_square</th><th style=\"text-align: right;\">  kw__maximum</th><th style=\"text-align: right;\">  kw__absolute_maximum</th><th style=\"text-align: right;\">  kw__minimum</th></tr>\n",
       "</thead>\n",
       "<tbody>\n",
       "<tr><td style=\"text-align: right;\">        0</td><td style=\"text-align: right;\">         2788.73</td><td style=\"text-align: right;\">    0.179144</td><td style=\"text-align: right;\">  0.261356</td><td style=\"text-align: right;\">     10857.6</td><td style=\"text-align: right;\">                0.261368</td><td style=\"text-align: right;\">     0.0778989</td><td style=\"text-align: right;\">         0.374107</td><td style=\"text-align: right;\">      2.80702</td><td style=\"text-align: right;\">               2.80702</td><td style=\"text-align: right;\">    0.0237797</td></tr>\n",
       "<tr><td style=\"text-align: right;\">        1</td><td style=\"text-align: right;\">         6786.37</td><td style=\"text-align: right;\">    0.308615</td><td style=\"text-align: right;\">  0.437901</td><td style=\"text-align: right;\">     15597.1</td><td style=\"text-align: right;\">                0.384253</td><td style=\"text-align: right;\">     0.156589 </td><td style=\"text-align: right;\">         0.587769</td><td style=\"text-align: right;\">      3.87211</td><td style=\"text-align: right;\">               3.87211</td><td style=\"text-align: right;\">    0.0612095</td></tr>\n",
       "<tr><td style=\"text-align: right;\">        2</td><td style=\"text-align: right;\">         9903.27</td><td style=\"text-align: right;\">    0.377527</td><td style=\"text-align: right;\">  0.654617</td><td style=\"text-align: right;\">     15275.6</td><td style=\"text-align: right;\">                0.677893</td><td style=\"text-align: right;\">     0.477844 </td><td style=\"text-align: right;\">         0.947185</td><td style=\"text-align: right;\">      5.83189</td><td style=\"text-align: right;\">               5.83189</td><td style=\"text-align: right;\">    0.0477091</td></tr>\n",
       "<tr><td style=\"text-align: right;\">        3</td><td style=\"text-align: right;\">        12890.5 </td><td style=\"text-align: right;\">    0.655867</td><td style=\"text-align: right;\">  0.826331</td><td style=\"text-align: right;\">     15573.3</td><td style=\"text-align: right;\">                0.581848</td><td style=\"text-align: right;\">     0.355955 </td><td style=\"text-align: right;\">         1.0136  </td><td style=\"text-align: right;\">      5.1849 </td><td style=\"text-align: right;\">               5.1849 </td><td style=\"text-align: right;\">    0.151467 </td></tr>\n",
       "<tr><td style=\"text-align: right;\">        4</td><td style=\"text-align: right;\">        16879.4 </td><td style=\"text-align: right;\">    0.709875</td><td style=\"text-align: right;\">  1.12194 </td><td style=\"text-align: right;\">     15084.3</td><td style=\"text-align: right;\">                1.14059 </td><td style=\"text-align: right;\">     1.32089  </td><td style=\"text-align: right;\">         1.60961 </td><td style=\"text-align: right;\">      8.56683</td><td style=\"text-align: right;\">               8.56683</td><td style=\"text-align: right;\">    0.0676667</td></tr>\n",
       "<tr><td style=\"text-align: right;\">        5</td><td style=\"text-align: right;\">        36931.8 </td><td style=\"text-align: right;\">    2.2295  </td><td style=\"text-align: right;\">  2.61298 </td><td style=\"text-align: right;\">     14134  </td><td style=\"text-align: right;\">                1.33108 </td><td style=\"text-align: right;\">     1.77178  </td><td style=\"text-align: right;\">         2.93248 </td><td style=\"text-align: right;\">      8.971  </td><td style=\"text-align: right;\">               8.971  </td><td style=\"text-align: right;\">    0.25     </td></tr>\n",
       "<tr><td style=\"text-align: right;\">        6</td><td style=\"text-align: right;\">         3132.04</td><td style=\"text-align: right;\">    0.13982 </td><td style=\"text-align: right;\">  0.196363</td><td style=\"text-align: right;\">     15884.3</td><td style=\"text-align: right;\">                0.182143</td><td style=\"text-align: right;\">     0.0383751</td><td style=\"text-align: right;\">         0.271871</td><td style=\"text-align: right;\">      2.15668</td><td style=\"text-align: right;\">               2.15668</td><td style=\"text-align: right;\">    0.0209892</td></tr>\n",
       "<tr><td style=\"text-align: right;\">        7</td><td style=\"text-align: right;\">        18306.1 </td><td style=\"text-align: right;\">    0.957333</td><td style=\"text-align: right;\">  1.27347 </td><td style=\"text-align: right;\">     14566.4</td><td style=\"text-align: right;\">                0.875925</td><td style=\"text-align: right;\">     0.776978 </td><td style=\"text-align: right;\">         1.54904 </td><td style=\"text-align: right;\">      7.20956</td><td style=\"text-align: right;\">               7.20956</td><td style=\"text-align: right;\">    0.272556 </td></tr>\n",
       "</tbody>\n",
       "</table>"
      ]
     },
     "metadata": {},
     "output_type": "display_data"
    },
    {
     "data": {
      "text/plain": []
     },
     "execution_count": 15,
     "metadata": {},
     "output_type": "execute_result"
    }
   ],
   "source": [
    "clusters = get_cluster_plot(df_h2o, kmeans_default)\n",
    "clusters"
   ]
  },
  {
   "cell_type": "code",
   "execution_count": 107,
   "id": "620e9628",
   "metadata": {},
   "outputs": [
    {
     "name": "stdout",
     "output_type": "stream",
     "text": [
      "Export File progress: |██████████████████████████████████████████████████████████| (done) 100%\n"
     ]
    }
   ],
   "source": [
    "h2o.export_file(clusters, \"/Users/megankurka/AutoML/h2o3_apps/clustering/static/ts_clusters.csv\", force=True)"
   ]
  },
  {
   "cell_type": "code",
   "execution_count": 174,
   "id": "2be29b05",
   "metadata": {},
   "outputs": [
    {
     "name": "stdout",
     "output_type": "stream",
     "text": [
      "kmeans prediction progress: |████████████████████████████████████████████████████| (done) 100%\n",
      "Export File progress: |██████████████████████████████████████████████████████████| (done) 100%\n"
     ]
    }
   ],
   "source": [
    "tbl_data = get_table_data(df_h2o, kmeans_default)\n",
    "h2o.export_file(tbl_data, \"/Users/megankurka/AutoML/h2o3_apps/clustering/static/data.csv\", force=True)"
   ]
  },
  {
   "cell_type": "code",
   "execution_count": 175,
   "id": "f8abbfd4",
   "metadata": {},
   "outputs": [],
   "source": [
    "df = pd.read_csv(\"/Users/megankurka/AutoML/h2o3_apps/clustering/static/data.csv\")"
   ]
  },
  {
   "cell_type": "code",
   "execution_count": 177,
   "id": "f02fc886",
   "metadata": {},
   "outputs": [],
   "source": [
    "df = df[df.Store == 1]"
   ]
  },
  {
   "cell_type": "code",
   "execution_count": 181,
   "id": "b136cc31",
   "metadata": {},
   "outputs": [
    {
     "data": {
      "text/html": [
       "<div>\n",
       "<style scoped>\n",
       "    .dataframe tbody tr th:only-of-type {\n",
       "        vertical-align: middle;\n",
       "    }\n",
       "\n",
       "    .dataframe tbody tr th {\n",
       "        vertical-align: top;\n",
       "    }\n",
       "\n",
       "    .dataframe thead th {\n",
       "        text-align: right;\n",
       "    }\n",
       "</style>\n",
       "<table border=\"1\" class=\"dataframe\">\n",
       "  <thead>\n",
       "    <tr style=\"text-align: right;\">\n",
       "      <th></th>\n",
       "      <th>index</th>\n",
       "      <th>0</th>\n",
       "    </tr>\n",
       "  </thead>\n",
       "  <tbody>\n",
       "    <tr>\n",
       "      <th>0</th>\n",
       "      <td>2010-02-05</td>\n",
       "      <td>1643690.90</td>\n",
       "    </tr>\n",
       "    <tr>\n",
       "      <th>1</th>\n",
       "      <td>2010-02-12</td>\n",
       "      <td>1641957.44</td>\n",
       "    </tr>\n",
       "    <tr>\n",
       "      <th>2</th>\n",
       "      <td>2010-02-19</td>\n",
       "      <td>1611968.17</td>\n",
       "    </tr>\n",
       "    <tr>\n",
       "      <th>3</th>\n",
       "      <td>2010-02-26</td>\n",
       "      <td>1409727.59</td>\n",
       "    </tr>\n",
       "    <tr>\n",
       "      <th>4</th>\n",
       "      <td>2010-03-05</td>\n",
       "      <td>1554806.68</td>\n",
       "    </tr>\n",
       "    <tr>\n",
       "      <th>...</th>\n",
       "      <td>...</td>\n",
       "      <td>...</td>\n",
       "    </tr>\n",
       "    <tr>\n",
       "      <th>130</th>\n",
       "      <td>2012-08-03</td>\n",
       "      <td>1631135.81</td>\n",
       "    </tr>\n",
       "    <tr>\n",
       "      <th>131</th>\n",
       "      <td>2012-08-10</td>\n",
       "      <td>1592409.96</td>\n",
       "    </tr>\n",
       "    <tr>\n",
       "      <th>132</th>\n",
       "      <td>2012-08-17</td>\n",
       "      <td>1597868.07</td>\n",
       "    </tr>\n",
       "    <tr>\n",
       "      <th>133</th>\n",
       "      <td>2012-08-24</td>\n",
       "      <td>1494122.29</td>\n",
       "    </tr>\n",
       "    <tr>\n",
       "      <th>134</th>\n",
       "      <td>2012-08-31</td>\n",
       "      <td>1582083.39</td>\n",
       "    </tr>\n",
       "  </tbody>\n",
       "</table>\n",
       "<p>135 rows × 2 columns</p>\n",
       "</div>"
      ],
      "text/plain": [
       "          index           0\n",
       "0    2010-02-05  1643690.90\n",
       "1    2010-02-12  1641957.44\n",
       "2    2010-02-19  1611968.17\n",
       "3    2010-02-26  1409727.59\n",
       "4    2010-03-05  1554806.68\n",
       "..          ...         ...\n",
       "130  2012-08-03  1631135.81\n",
       "131  2012-08-10  1592409.96\n",
       "132  2012-08-17  1597868.07\n",
       "133  2012-08-24  1494122.29\n",
       "134  2012-08-31  1582083.39\n",
       "\n",
       "[135 rows x 2 columns]"
      ]
     },
     "execution_count": 181,
     "metadata": {},
     "output_type": "execute_result"
    }
   ],
   "source": [
    "df = df[[i for i in df.columns if i not in ['cluster', 'Store']]].transpose().reset_index()\n",
    "df.columns = ['Date', 'Weekly_Sales']"
   ]
  },
  {
   "cell_type": "code",
   "execution_count": 139,
   "id": "fb194c7f",
   "metadata": {},
   "outputs": [],
   "source": [
    "plot_data = pd.read_csv(\"/Users/megankurka/AutoML/h2o3_apps/clustering/static/ts_clusters.csv\")"
   ]
  },
  {
   "cell_type": "code",
   "execution_count": 140,
   "id": "f614ff74",
   "metadata": {
    "scrolled": true
   },
   "outputs": [],
   "source": [
    "plot_data = plot_data.transpose().reset_index()\n",
    "plot_data = plot_data.iloc[1::]\n",
    "plot_data.columns = ['Date'] + [\"cluster: {}\".format(i) for i in plot_data.columns[1::]]\n",
    "plot_data = pd.melt(plot_data, id_vars=['Date'], value_vars=['cluster: 0', 'cluster: 1', 'cluster: 2', 'cluster: 3'])"
   ]
  },
  {
   "cell_type": "code",
   "execution_count": 141,
   "id": "f22bfc21",
   "metadata": {},
   "outputs": [
    {
     "data": {
      "text/html": [
       "<div>\n",
       "<style scoped>\n",
       "    .dataframe tbody tr th:only-of-type {\n",
       "        vertical-align: middle;\n",
       "    }\n",
       "\n",
       "    .dataframe tbody tr th {\n",
       "        vertical-align: top;\n",
       "    }\n",
       "\n",
       "    .dataframe thead th {\n",
       "        text-align: right;\n",
       "    }\n",
       "</style>\n",
       "<table border=\"1\" class=\"dataframe\">\n",
       "  <thead>\n",
       "    <tr style=\"text-align: right;\">\n",
       "      <th></th>\n",
       "      <th>Date</th>\n",
       "      <th>variable</th>\n",
       "      <th>value</th>\n",
       "    </tr>\n",
       "  </thead>\n",
       "  <tbody>\n",
       "    <tr>\n",
       "      <th>0</th>\n",
       "      <td>2010-02-05</td>\n",
       "      <td>cluster: 0</td>\n",
       "      <td>483979.996250</td>\n",
       "    </tr>\n",
       "    <tr>\n",
       "      <th>1</th>\n",
       "      <td>2010-02-12</td>\n",
       "      <td>cluster: 0</td>\n",
       "      <td>484765.011875</td>\n",
       "    </tr>\n",
       "    <tr>\n",
       "      <th>2</th>\n",
       "      <td>2010-02-19</td>\n",
       "      <td>cluster: 0</td>\n",
       "      <td>474784.978125</td>\n",
       "    </tr>\n",
       "    <tr>\n",
       "      <th>3</th>\n",
       "      <td>2010-02-26</td>\n",
       "      <td>cluster: 0</td>\n",
       "      <td>450464.778750</td>\n",
       "    </tr>\n",
       "    <tr>\n",
       "      <th>4</th>\n",
       "      <td>2010-03-05</td>\n",
       "      <td>cluster: 0</td>\n",
       "      <td>474192.820625</td>\n",
       "    </tr>\n",
       "  </tbody>\n",
       "</table>\n",
       "</div>"
      ],
      "text/plain": [
       "         Date    variable          value\n",
       "0  2010-02-05  cluster: 0  483979.996250\n",
       "1  2010-02-12  cluster: 0  484765.011875\n",
       "2  2010-02-19  cluster: 0  474784.978125\n",
       "3  2010-02-26  cluster: 0  450464.778750\n",
       "4  2010-03-05  cluster: 0  474192.820625"
      ]
     },
     "execution_count": 141,
     "metadata": {},
     "output_type": "execute_result"
    }
   ],
   "source": [
    "plot_data.head()"
   ]
  },
  {
   "cell_type": "code",
   "execution_count": 132,
   "id": "bd26a425",
   "metadata": {},
   "outputs": [
    {
     "data": {
      "application/vnd.plotly.v1+json": {
       "config": {
        "plotlyServerURL": "https://plot.ly"
       },
       "data": [
        {
         "hovertemplate": "variable=cluster: 0<br>Date=%{x}<br>value=%{y}<extra></extra>",
         "legendgroup": "cluster: 0",
         "line": {
          "color": "#636efa",
          "dash": "solid"
         },
         "marker": {
          "symbol": "circle"
         },
         "mode": "lines",
         "name": "cluster: 0",
         "orientation": "v",
         "showlegend": true,
         "type": "scatter",
         "x": [
          "2010-02-05",
          "2010-02-12",
          "2010-02-19",
          "2010-02-26",
          "2010-03-05",
          "2010-03-12",
          "2010-03-19",
          "2010-03-26",
          "2010-04-02",
          "2010-04-09",
          "2010-04-16",
          "2010-04-23",
          "2010-04-30",
          "2010-05-07",
          "2010-05-14",
          "2010-05-21",
          "2010-05-28",
          "2010-06-04",
          "2010-06-11",
          "2010-06-18",
          "2010-06-25",
          "2010-07-02",
          "2010-07-09",
          "2010-07-16",
          "2010-07-23",
          "2010-07-30",
          "2010-08-06",
          "2010-08-13",
          "2010-08-20",
          "2010-08-27",
          "2010-09-03",
          "2010-09-10",
          "2010-09-17",
          "2010-09-24",
          "2010-10-01",
          "2010-10-08",
          "2010-10-15",
          "2010-10-22",
          "2010-10-29",
          "2010-11-05",
          "2010-11-12",
          "2010-11-19",
          "2010-11-26",
          "2010-12-03",
          "2010-12-10",
          "2010-12-17",
          "2010-12-24",
          "2010-12-31",
          "2011-01-07",
          "2011-01-14",
          "2011-01-21",
          "2011-01-28",
          "2011-02-04",
          "2011-02-11",
          "2011-02-18",
          "2011-02-25",
          "2011-03-04",
          "2011-03-11",
          "2011-03-18",
          "2011-03-25",
          "2011-04-01",
          "2011-04-08",
          "2011-04-15",
          "2011-04-22",
          "2011-04-29",
          "2011-05-06",
          "2011-05-13",
          "2011-05-20",
          "2011-05-27",
          "2011-06-03",
          "2011-06-10",
          "2011-06-17",
          "2011-06-24",
          "2011-07-01",
          "2011-07-08",
          "2011-07-15",
          "2011-07-22",
          "2011-07-29",
          "2011-08-05",
          "2011-08-12",
          "2011-08-19",
          "2011-08-26",
          "2011-09-02",
          "2011-09-09",
          "2011-09-16",
          "2011-09-23",
          "2011-09-30",
          "2011-10-07",
          "2011-10-14",
          "2011-10-21",
          "2011-10-28",
          "2011-11-04",
          "2011-11-11",
          "2011-11-18",
          "2011-11-25",
          "2011-12-02",
          "2011-12-09",
          "2011-12-16",
          "2011-12-23",
          "2011-12-30",
          "2012-01-06",
          "2012-01-13",
          "2012-01-20",
          "2012-01-27",
          "2012-02-03",
          "2012-02-10",
          "2012-02-17",
          "2012-02-24",
          "2012-03-02",
          "2012-03-09",
          "2012-03-16",
          "2012-03-23",
          "2012-03-30",
          "2012-04-06",
          "2012-04-13",
          "2012-04-20",
          "2012-04-27",
          "2012-05-04",
          "2012-05-11",
          "2012-05-18",
          "2012-05-25",
          "2012-06-01",
          "2012-06-08",
          "2012-06-15",
          "2012-06-22",
          "2012-06-29",
          "2012-07-06",
          "2012-07-13",
          "2012-07-20",
          "2012-07-27",
          "2012-08-03",
          "2012-08-10",
          "2012-08-17",
          "2012-08-24",
          "2012-08-31"
         ],
         "xaxis": "x",
         "y": [
          483979.99625,
          484765.0118750001,
          474784.978125,
          450464.7787500001,
          474192.82062499993,
          466755.48625,
          461212.64875000005,
          456043.551875,
          500747.515,
          482485.1325,
          467839.92125,
          447939.13062499993,
          444669.506875,
          485794.01875,
          463907.989375,
          457771.205625,
          481814.92875,
          498876.4831250001,
          484662.910625,
          485870.689375,
          475637.2475,
          496194.90125000005,
          495918.37125,
          480367.65375000006,
          463601.1775,
          460398.5662500001,
          496991.51375,
          478403.965625,
          472849.65,
          470570.8925000001,
          481714.50375,
          475602.738125,
          458643.5306250001,
          441945.73125,
          448235.8499999999,
          471939.9943750001,
          449762.0775,
          457680.513125,
          448095.8062500001,
          470196.639375,
          467584.97125,
          455633.496875,
          623360.4450000001,
          494127.92,
          534360.8987499999,
          574582.9975,
          718953.93625,
          439060.93875,
          463514.18875,
          445944.6075,
          432907.51875,
          424967.22125000006,
          481986.856875,
          480814.63812500006,
          484566.149375,
          447027.630625,
          475013.815,
          460230.016875,
          462980.82,
          446727.78687499993,
          449632.906875,
          473596.675625,
          462582.94625,
          469830.6875,
          434210.349375,
          472257.51,
          467419.394375,
          452102.166875,
          456180.365625,
          490468.7168750001,
          495459.560625,
          488537.6156250001,
          476594.7618750001,
          488543.910625,
          500501.498125,
          478675.764375,
          469164.33,
          449666.531875,
          490153.705625,
          475064.89,
          474439.376875,
          474993.74375,
          475179.64,
          479020.350625,
          456877.975,
          445527.14875000005,
          430958.778125,
          477709.0325,
          455062.4731250001,
          470654.975625,
          460111.240625,
          497643.47,
          484193.38875,
          471677.43875,
          634435.3812499999,
          499178.6056249999,
          533925.0843749999,
          572216.855625,
          696412.954375,
          470494.108125,
          490803.48625,
          463257.925,
          449972.89125,
          431744.329375,
          473931.51125,
          501970.26375,
          499404.14875000005,
          466188.574375,
          483971.9018749999,
          486088.45375,
          483889.51562500006,
          471796.65125000005,
          472116.1006250001,
          534793.3475,
          481060.36625,
          463155.133125,
          450422.6225,
          481021.87875,
          487079.1675,
          483230.92749999993,
          489856.545625,
          490848.3825,
          511091.24875,
          505901.521875,
          496405.70375,
          486359.970625,
          526440.60125,
          491888.485,
          481132.641875,
          462941.105,
          491126.6625,
          487864.676875,
          475417.21875,
          486971.895,
          481192.169375
         ],
         "yaxis": "y"
        },
        {
         "hovertemplate": "variable=cluster: 1<br>Date=%{x}<br>value=%{y}<extra></extra>",
         "legendgroup": "cluster: 1",
         "line": {
          "color": "#EF553B",
          "dash": "solid"
         },
         "marker": {
          "symbol": "circle"
         },
         "mode": "lines",
         "name": "cluster: 1",
         "orientation": "v",
         "showlegend": true,
         "type": "scatter",
         "x": [
          "2010-02-05",
          "2010-02-12",
          "2010-02-19",
          "2010-02-26",
          "2010-03-05",
          "2010-03-12",
          "2010-03-19",
          "2010-03-26",
          "2010-04-02",
          "2010-04-09",
          "2010-04-16",
          "2010-04-23",
          "2010-04-30",
          "2010-05-07",
          "2010-05-14",
          "2010-05-21",
          "2010-05-28",
          "2010-06-04",
          "2010-06-11",
          "2010-06-18",
          "2010-06-25",
          "2010-07-02",
          "2010-07-09",
          "2010-07-16",
          "2010-07-23",
          "2010-07-30",
          "2010-08-06",
          "2010-08-13",
          "2010-08-20",
          "2010-08-27",
          "2010-09-03",
          "2010-09-10",
          "2010-09-17",
          "2010-09-24",
          "2010-10-01",
          "2010-10-08",
          "2010-10-15",
          "2010-10-22",
          "2010-10-29",
          "2010-11-05",
          "2010-11-12",
          "2010-11-19",
          "2010-11-26",
          "2010-12-03",
          "2010-12-10",
          "2010-12-17",
          "2010-12-24",
          "2010-12-31",
          "2011-01-07",
          "2011-01-14",
          "2011-01-21",
          "2011-01-28",
          "2011-02-04",
          "2011-02-11",
          "2011-02-18",
          "2011-02-25",
          "2011-03-04",
          "2011-03-11",
          "2011-03-18",
          "2011-03-25",
          "2011-04-01",
          "2011-04-08",
          "2011-04-15",
          "2011-04-22",
          "2011-04-29",
          "2011-05-06",
          "2011-05-13",
          "2011-05-20",
          "2011-05-27",
          "2011-06-03",
          "2011-06-10",
          "2011-06-17",
          "2011-06-24",
          "2011-07-01",
          "2011-07-08",
          "2011-07-15",
          "2011-07-22",
          "2011-07-29",
          "2011-08-05",
          "2011-08-12",
          "2011-08-19",
          "2011-08-26",
          "2011-09-02",
          "2011-09-09",
          "2011-09-16",
          "2011-09-23",
          "2011-09-30",
          "2011-10-07",
          "2011-10-14",
          "2011-10-21",
          "2011-10-28",
          "2011-11-04",
          "2011-11-11",
          "2011-11-18",
          "2011-11-25",
          "2011-12-02",
          "2011-12-09",
          "2011-12-16",
          "2011-12-23",
          "2011-12-30",
          "2012-01-06",
          "2012-01-13",
          "2012-01-20",
          "2012-01-27",
          "2012-02-03",
          "2012-02-10",
          "2012-02-17",
          "2012-02-24",
          "2012-03-02",
          "2012-03-09",
          "2012-03-16",
          "2012-03-23",
          "2012-03-30",
          "2012-04-06",
          "2012-04-13",
          "2012-04-20",
          "2012-04-27",
          "2012-05-04",
          "2012-05-11",
          "2012-05-18",
          "2012-05-25",
          "2012-06-01",
          "2012-06-08",
          "2012-06-15",
          "2012-06-22",
          "2012-06-29",
          "2012-07-06",
          "2012-07-13",
          "2012-07-20",
          "2012-07-27",
          "2012-08-03",
          "2012-08-10",
          "2012-08-17",
          "2012-08-24",
          "2012-08-31"
         ],
         "xaxis": "x",
         "y": [
          1010945.7833333332,
          990782.7891666666,
          996716.0716666668,
          900343.6699999999,
          966621.0175,
          935127.1950000002,
          915516.3708333336,
          910310.3866666668,
          1017413.5575,
          975567.0766666668,
          926019.0716666668,
          934423.7133333334,
          895133.8916666667,
          999152.3783333332,
          933211.2825,
          932848.355,
          1005274.1325,
          1029027.5416666666,
          998204.6675,
          983725.6233333334,
          976044.1925,
          1014337.7058333332,
          985777.9825,
          948881.4541666668,
          925518.2808333334,
          921300.3166666664,
          984442.905,
          940464.3558333332,
          955661.985,
          948544.4808333332,
          967661.2491666664,
          933201.9591666666,
          868153.285,
          840677.5066666667,
          851551.4641666667,
          919212.8208333332,
          879964.3816666667,
          885747.5933333333,
          903857.5425,
          922776.0225,
          936189.9299999998,
          898501.8383333333,
          1391155.475833333,
          1025049.9666666668,
          1143040.9025,
          1285689.326666667,
          1701764.1125,
          786492.2366666665,
          867695.8583333334,
          788984.5216666666,
          803173.2558333334,
          781493.7691666667,
          897572.1000000001,
          958943.7841666668,
          989555.9716666668,
          899868.3224999999,
          941616.2925,
          898778.3158333334,
          896647.995,
          864152.7791666667,
          866944.5874999999,
          922282.3408333332,
          904174.6291666664,
          989874.49,
          888584.0866666666,
          957971.3025,
          921808.6824999998,
          896161.1941666668,
          941643.2808333331,
          995806.4583333334,
          967196.4658333332,
          955656.7941666666,
          941479.0266666664,
          969274.93,
          949623.9583333334,
          911586.7291666666,
          920904.19,
          886767.3025000002,
          952088.6891666664,
          921750.3483333336,
          925002.4691666669,
          978230.5891666668,
          880503.7975,
          946791.6025000002,
          884181.7566666667,
          853968.6683333333,
          856493.8616666665,
          943739.445,
          895811.2208333333,
          923831.5741666668,
          949738.1866666664,
          965533.0508333334,
          982901.0325,
          926853.9324999998,
          1406580.6766666668,
          1014341.845,
          1125590.4741666669,
          1231807.8624999998,
          1603440,
          939052.11,
          907881.0725,
          819789.4141666667,
          831345.7333333334,
          782211.9525,
          921612.7275,
          998243.475,
          1017561.3316666668,
          918304.045,
          943237.4,
          951809.1275,
          929032.78,
          907386.9066666664,
          905564.0775,
          1057752.5083333335,
          921250.8608333332,
          937558.9641666668,
          887963.4691666667,
          947187.8841666668,
          946191.4500000002,
          942372.0791666666,
          973081.9841666664,
          976275.7716666666,
          998541.4291666668,
          970035.7566666664,
          984332.4266666666,
          958134.4616666666,
          1030099.8891666668,
          932522.2416666668,
          933960.1633333334,
          896612.0283333332,
          949558.0825,
          949056.7000000002,
          954266.6208333336,
          974842.9275,
          969253.755
         ],
         "yaxis": "y"
        },
        {
         "hovertemplate": "variable=cluster: 2<br>Date=%{x}<br>value=%{y}<extra></extra>",
         "legendgroup": "cluster: 2",
         "line": {
          "color": "#00cc96",
          "dash": "solid"
         },
         "marker": {
          "symbol": "circle"
         },
         "mode": "lines",
         "name": "cluster: 2",
         "orientation": "v",
         "showlegend": true,
         "type": "scatter",
         "x": [
          "2010-02-05",
          "2010-02-12",
          "2010-02-19",
          "2010-02-26",
          "2010-03-05",
          "2010-03-12",
          "2010-03-19",
          "2010-03-26",
          "2010-04-02",
          "2010-04-09",
          "2010-04-16",
          "2010-04-23",
          "2010-04-30",
          "2010-05-07",
          "2010-05-14",
          "2010-05-21",
          "2010-05-28",
          "2010-06-04",
          "2010-06-11",
          "2010-06-18",
          "2010-06-25",
          "2010-07-02",
          "2010-07-09",
          "2010-07-16",
          "2010-07-23",
          "2010-07-30",
          "2010-08-06",
          "2010-08-13",
          "2010-08-20",
          "2010-08-27",
          "2010-09-03",
          "2010-09-10",
          "2010-09-17",
          "2010-09-24",
          "2010-10-01",
          "2010-10-08",
          "2010-10-15",
          "2010-10-22",
          "2010-10-29",
          "2010-11-05",
          "2010-11-12",
          "2010-11-19",
          "2010-11-26",
          "2010-12-03",
          "2010-12-10",
          "2010-12-17",
          "2010-12-24",
          "2010-12-31",
          "2011-01-07",
          "2011-01-14",
          "2011-01-21",
          "2011-01-28",
          "2011-02-04",
          "2011-02-11",
          "2011-02-18",
          "2011-02-25",
          "2011-03-04",
          "2011-03-11",
          "2011-03-18",
          "2011-03-25",
          "2011-04-01",
          "2011-04-08",
          "2011-04-15",
          "2011-04-22",
          "2011-04-29",
          "2011-05-06",
          "2011-05-13",
          "2011-05-20",
          "2011-05-27",
          "2011-06-03",
          "2011-06-10",
          "2011-06-17",
          "2011-06-24",
          "2011-07-01",
          "2011-07-08",
          "2011-07-15",
          "2011-07-22",
          "2011-07-29",
          "2011-08-05",
          "2011-08-12",
          "2011-08-19",
          "2011-08-26",
          "2011-09-02",
          "2011-09-09",
          "2011-09-16",
          "2011-09-23",
          "2011-09-30",
          "2011-10-07",
          "2011-10-14",
          "2011-10-21",
          "2011-10-28",
          "2011-11-04",
          "2011-11-11",
          "2011-11-18",
          "2011-11-25",
          "2011-12-02",
          "2011-12-09",
          "2011-12-16",
          "2011-12-23",
          "2011-12-30",
          "2012-01-06",
          "2012-01-13",
          "2012-01-20",
          "2012-01-27",
          "2012-02-03",
          "2012-02-10",
          "2012-02-17",
          "2012-02-24",
          "2012-03-02",
          "2012-03-09",
          "2012-03-16",
          "2012-03-23",
          "2012-03-30",
          "2012-04-06",
          "2012-04-13",
          "2012-04-20",
          "2012-04-27",
          "2012-05-04",
          "2012-05-11",
          "2012-05-18",
          "2012-05-25",
          "2012-06-01",
          "2012-06-08",
          "2012-06-15",
          "2012-06-22",
          "2012-06-29",
          "2012-07-06",
          "2012-07-13",
          "2012-07-20",
          "2012-07-27",
          "2012-08-03",
          "2012-08-10",
          "2012-08-17",
          "2012-08-24",
          "2012-08-31"
         ],
         "xaxis": "x",
         "y": [
          2190222.5457142857,
          2013109.761428572,
          2081313.687142857,
          1857167.32,
          1937089.8971428573,
          1965566.28,
          1912695.1271428573,
          1867174.23,
          2183078.235714286,
          1990703.4714285715,
          1905350.524285714,
          1890104.89,
          1857647.842857143,
          2059556.601428572,
          1922875.431428572,
          1905782.922857143,
          1978890.0571428568,
          2085752.2028571428,
          1997919.06,
          2000025.1928571423,
          1958147.484285714,
          2036072.2457142856,
          1970915.1571428569,
          1935346.005714286,
          1874587.6742857147,
          1868380.6328571425,
          1979419.0942857144,
          1961669.2042857143,
          1987356.5485714283,
          1883639.1357142853,
          1961555.0957142855,
          1902548.7385714285,
          1818968.1171428573,
          1737502.1757142858,
          1773527.8,
          1900749.7314285715,
          1832601.3014285716,
          1818179,
          1847261.652857143,
          1941157.2785714287,
          1980062.5442857144,
          1958203.8342857144,
          2787970.81,
          2144540.348571429,
          2435266.4271428576,
          2694952.9271428576,
          3567316.845714286,
          1684615.8357142855,
          1765045.387142857,
          1731223.6157142855,
          1732505.2528571428,
          1665054.4885714282,
          1977114.34,
          2034821.985714286,
          2070686.9514285717,
          1887827.082857143,
          1968399.7771428572,
          1891446.3842857145,
          1892130.0614285716,
          1798926.3057142857,
          1831194.5157142857,
          1919341.6242857145,
          1901337.1214285716,
          2104009.511428572,
          1835346.1085714283,
          1953236.7057142856,
          1902474.087142857,
          1846332.774285714,
          1891364.472857143,
          2006113.1857142856,
          1975201.0442857144,
          1994480.7985714283,
          1907435.9600000004,
          1970714.184285714,
          1975479.3957142856,
          1903098.8857142853,
          1875619.2971428572,
          1824476.442857143,
          2000279.587142857,
          1935090.5928571431,
          1970139.1957142856,
          1973531.7371428567,
          1857733.0257142857,
          1935628.1614285717,
          1828365.182857143,
          1799990.218571429,
          1771239.2557142857,
          1963838.594285715,
          1862353.437142857,
          1937819.0542857144,
          1924874.6828571428,
          2037279.1442857145,
          2066307.937142857,
          1985022.0585714283,
          2789894.2171428567,
          2072020.9057142856,
          2388995.107142857,
          2583230.205714286,
          3372710.1885714284,
          1912725.4528571428,
          1822224.9842857143,
          1756155.0542857142,
          1775436.6242857142,
          1653704.1957142856,
          1935576.728571428,
          2136814.765714286,
          2134759.032857143,
          1946732.69,
          1957591.448571429,
          1973065.1314285717,
          1969923.3228571431,
          1875804.9628571428,
          1900979.24,
          2267790.9214285715,
          1954600.972857143,
          1874950.0985714288,
          1821048.652857143,
          1960076.8542857144,
          1964032.3185714283,
          1973403.3085714283,
          1986568.9528571428,
          1997943.847142857,
          2053533.9057142856,
          2000757.407142857,
          1927634.634285714,
          1892128.1942857143,
          2077056.5628571429,
          1876234.6657142856,
          1881802.9485714284,
          1793647.0357142857,
          1937345.7285714285,
          1927842.44,
          1939422.48,
          1890585.492857143,
          1880023.5157142857
         ],
         "yaxis": "y"
        },
        {
         "hovertemplate": "variable=cluster: 3<br>Date=%{x}<br>value=%{y}<extra></extra>",
         "legendgroup": "cluster: 3",
         "line": {
          "color": "#ab63fa",
          "dash": "solid"
         },
         "marker": {
          "symbol": "circle"
         },
         "mode": "lines",
         "name": "cluster: 3",
         "orientation": "v",
         "showlegend": true,
         "type": "scatter",
         "x": [
          "2010-02-05",
          "2010-02-12",
          "2010-02-19",
          "2010-02-26",
          "2010-03-05",
          "2010-03-12",
          "2010-03-19",
          "2010-03-26",
          "2010-04-02",
          "2010-04-09",
          "2010-04-16",
          "2010-04-23",
          "2010-04-30",
          "2010-05-07",
          "2010-05-14",
          "2010-05-21",
          "2010-05-28",
          "2010-06-04",
          "2010-06-11",
          "2010-06-18",
          "2010-06-25",
          "2010-07-02",
          "2010-07-09",
          "2010-07-16",
          "2010-07-23",
          "2010-07-30",
          "2010-08-06",
          "2010-08-13",
          "2010-08-20",
          "2010-08-27",
          "2010-09-03",
          "2010-09-10",
          "2010-09-17",
          "2010-09-24",
          "2010-10-01",
          "2010-10-08",
          "2010-10-15",
          "2010-10-22",
          "2010-10-29",
          "2010-11-05",
          "2010-11-12",
          "2010-11-19",
          "2010-11-26",
          "2010-12-03",
          "2010-12-10",
          "2010-12-17",
          "2010-12-24",
          "2010-12-31",
          "2011-01-07",
          "2011-01-14",
          "2011-01-21",
          "2011-01-28",
          "2011-02-04",
          "2011-02-11",
          "2011-02-18",
          "2011-02-25",
          "2011-03-04",
          "2011-03-11",
          "2011-03-18",
          "2011-03-25",
          "2011-04-01",
          "2011-04-08",
          "2011-04-15",
          "2011-04-22",
          "2011-04-29",
          "2011-05-06",
          "2011-05-13",
          "2011-05-20",
          "2011-05-27",
          "2011-06-03",
          "2011-06-10",
          "2011-06-17",
          "2011-06-24",
          "2011-07-01",
          "2011-07-08",
          "2011-07-15",
          "2011-07-22",
          "2011-07-29",
          "2011-08-05",
          "2011-08-12",
          "2011-08-19",
          "2011-08-26",
          "2011-09-02",
          "2011-09-09",
          "2011-09-16",
          "2011-09-23",
          "2011-09-30",
          "2011-10-07",
          "2011-10-14",
          "2011-10-21",
          "2011-10-28",
          "2011-11-04",
          "2011-11-11",
          "2011-11-18",
          "2011-11-25",
          "2011-12-02",
          "2011-12-09",
          "2011-12-16",
          "2011-12-23",
          "2011-12-30",
          "2012-01-06",
          "2012-01-13",
          "2012-01-20",
          "2012-01-27",
          "2012-02-03",
          "2012-02-10",
          "2012-02-17",
          "2012-02-24",
          "2012-03-02",
          "2012-03-09",
          "2012-03-16",
          "2012-03-23",
          "2012-03-30",
          "2012-04-06",
          "2012-04-13",
          "2012-04-20",
          "2012-04-27",
          "2012-05-04",
          "2012-05-11",
          "2012-05-18",
          "2012-05-25",
          "2012-06-01",
          "2012-06-08",
          "2012-06-15",
          "2012-06-22",
          "2012-06-29",
          "2012-07-06",
          "2012-07-13",
          "2012-07-20",
          "2012-07-27",
          "2012-08-03",
          "2012-08-10",
          "2012-08-17",
          "2012-08-24",
          "2012-08-31"
         ],
         "xaxis": "x",
         "y": [
          1454415.334,
          1459927.564,
          1415064.546,
          1295683.939,
          1412530.3679999998,
          1347681.843,
          1323450.992,
          1284331.997,
          1492136.068,
          1400379.91,
          1324854.5809999998,
          1312360.768,
          1284527.2999999998,
          1432381.4470000004,
          1324888.896,
          1326110.8050000002,
          1413294.371,
          1525792.3469999998,
          1410805.0720000002,
          1404323.137,
          1357927.7630000005,
          1455380.7889999996,
          1433909.3540000005,
          1362401.7629999998,
          1324289.718,
          1312971.8129999998,
          1458388.638,
          1379269.826,
          1411591.886,
          1381259.844,
          1414400.489,
          1350848.935,
          1259181.378,
          1203673.7399999998,
          1243479.01,
          1321613.235,
          1256549.852,
          1238755.719,
          1265617.597,
          1359742.244,
          1354872.432,
          1334599.933,
          1963757.474,
          1469059.912,
          1635364.019,
          1833452.948,
          2403576.535,
          1217732.64,
          1259189.26,
          1195218.447,
          1196251.207,
          1176707.0939999998,
          1383065.56,
          1389207.9159999995,
          1459362.5529999998,
          1296020.8400000003,
          1430218.897,
          1323817.4670000002,
          1345994.645,
          1276623.7,
          1304316.816,
          1380714.062,
          1341254.578,
          1455284.0810000002,
          1307223.555,
          1413752.5400000005,
          1358841.17,
          1313469.9619999998,
          1345530.0280000002,
          1493202.5,
          1430961.664,
          1420171.2730000005,
          1360877.827,
          1433551.826,
          1462739.6379999998,
          1359638.4959999998,
          1358759.705,
          1307606.693,
          1474598.6179999998,
          1404189.2569999998,
          1443531.333,
          1426355.9300000002,
          1420357.224,
          1418800.546,
          1307517.5229999998,
          1274210.66,
          1262388.9190000002,
          1449660.0359999998,
          1330761.189,
          1363776.181,
          1362306.025,
          1484589.8050000002,
          1446816.252,
          1387473.9789999998,
          2003441.149,
          1472745.0340000002,
          1678829.53,
          1806592.071,
          2300538.256,
          1385685.179,
          1345241.8180000002,
          1248039.327,
          1247722.517,
          1196459.257,
          1389431.42,
          1504125.8409999995,
          1505254.132,
          1366571.198,
          1409549.5510000002,
          1446987.331,
          1422141.62,
          1342577.018,
          1354538.082,
          1637805.5629999998,
          1419507.8269999998,
          1328668.943,
          1310713.463,
          1434105.5340000002,
          1403008.89,
          1396995.6549999998,
          1447179.1999999995,
          1472715.95,
          1511647.731,
          1467195.574,
          1442036.221,
          1407284.142,
          1592937.7610000002,
          1390560.6719999998,
          1398127.87,
          1337522.3809999998,
          1467175.5810000002,
          1471403.8619999995,
          1472062.004,
          1472355.971,
          1466935.4840000004
         ],
         "yaxis": "y"
        }
       ],
       "layout": {
        "legend": {
         "title": {
          "text": "variable"
         },
         "tracegroupgap": 0
        },
        "template": {
         "data": {
          "bar": [
           {
            "error_x": {
             "color": "#2a3f5f"
            },
            "error_y": {
             "color": "#2a3f5f"
            },
            "marker": {
             "line": {
              "color": "#E5ECF6",
              "width": 0.5
             },
             "pattern": {
              "fillmode": "overlay",
              "size": 10,
              "solidity": 0.2
             }
            },
            "type": "bar"
           }
          ],
          "barpolar": [
           {
            "marker": {
             "line": {
              "color": "#E5ECF6",
              "width": 0.5
             },
             "pattern": {
              "fillmode": "overlay",
              "size": 10,
              "solidity": 0.2
             }
            },
            "type": "barpolar"
           }
          ],
          "carpet": [
           {
            "aaxis": {
             "endlinecolor": "#2a3f5f",
             "gridcolor": "white",
             "linecolor": "white",
             "minorgridcolor": "white",
             "startlinecolor": "#2a3f5f"
            },
            "baxis": {
             "endlinecolor": "#2a3f5f",
             "gridcolor": "white",
             "linecolor": "white",
             "minorgridcolor": "white",
             "startlinecolor": "#2a3f5f"
            },
            "type": "carpet"
           }
          ],
          "choropleth": [
           {
            "colorbar": {
             "outlinewidth": 0,
             "ticks": ""
            },
            "type": "choropleth"
           }
          ],
          "contour": [
           {
            "colorbar": {
             "outlinewidth": 0,
             "ticks": ""
            },
            "colorscale": [
             [
              0,
              "#0d0887"
             ],
             [
              0.1111111111111111,
              "#46039f"
             ],
             [
              0.2222222222222222,
              "#7201a8"
             ],
             [
              0.3333333333333333,
              "#9c179e"
             ],
             [
              0.4444444444444444,
              "#bd3786"
             ],
             [
              0.5555555555555556,
              "#d8576b"
             ],
             [
              0.6666666666666666,
              "#ed7953"
             ],
             [
              0.7777777777777778,
              "#fb9f3a"
             ],
             [
              0.8888888888888888,
              "#fdca26"
             ],
             [
              1,
              "#f0f921"
             ]
            ],
            "type": "contour"
           }
          ],
          "contourcarpet": [
           {
            "colorbar": {
             "outlinewidth": 0,
             "ticks": ""
            },
            "type": "contourcarpet"
           }
          ],
          "heatmap": [
           {
            "colorbar": {
             "outlinewidth": 0,
             "ticks": ""
            },
            "colorscale": [
             [
              0,
              "#0d0887"
             ],
             [
              0.1111111111111111,
              "#46039f"
             ],
             [
              0.2222222222222222,
              "#7201a8"
             ],
             [
              0.3333333333333333,
              "#9c179e"
             ],
             [
              0.4444444444444444,
              "#bd3786"
             ],
             [
              0.5555555555555556,
              "#d8576b"
             ],
             [
              0.6666666666666666,
              "#ed7953"
             ],
             [
              0.7777777777777778,
              "#fb9f3a"
             ],
             [
              0.8888888888888888,
              "#fdca26"
             ],
             [
              1,
              "#f0f921"
             ]
            ],
            "type": "heatmap"
           }
          ],
          "heatmapgl": [
           {
            "colorbar": {
             "outlinewidth": 0,
             "ticks": ""
            },
            "colorscale": [
             [
              0,
              "#0d0887"
             ],
             [
              0.1111111111111111,
              "#46039f"
             ],
             [
              0.2222222222222222,
              "#7201a8"
             ],
             [
              0.3333333333333333,
              "#9c179e"
             ],
             [
              0.4444444444444444,
              "#bd3786"
             ],
             [
              0.5555555555555556,
              "#d8576b"
             ],
             [
              0.6666666666666666,
              "#ed7953"
             ],
             [
              0.7777777777777778,
              "#fb9f3a"
             ],
             [
              0.8888888888888888,
              "#fdca26"
             ],
             [
              1,
              "#f0f921"
             ]
            ],
            "type": "heatmapgl"
           }
          ],
          "histogram": [
           {
            "marker": {
             "pattern": {
              "fillmode": "overlay",
              "size": 10,
              "solidity": 0.2
             }
            },
            "type": "histogram"
           }
          ],
          "histogram2d": [
           {
            "colorbar": {
             "outlinewidth": 0,
             "ticks": ""
            },
            "colorscale": [
             [
              0,
              "#0d0887"
             ],
             [
              0.1111111111111111,
              "#46039f"
             ],
             [
              0.2222222222222222,
              "#7201a8"
             ],
             [
              0.3333333333333333,
              "#9c179e"
             ],
             [
              0.4444444444444444,
              "#bd3786"
             ],
             [
              0.5555555555555556,
              "#d8576b"
             ],
             [
              0.6666666666666666,
              "#ed7953"
             ],
             [
              0.7777777777777778,
              "#fb9f3a"
             ],
             [
              0.8888888888888888,
              "#fdca26"
             ],
             [
              1,
              "#f0f921"
             ]
            ],
            "type": "histogram2d"
           }
          ],
          "histogram2dcontour": [
           {
            "colorbar": {
             "outlinewidth": 0,
             "ticks": ""
            },
            "colorscale": [
             [
              0,
              "#0d0887"
             ],
             [
              0.1111111111111111,
              "#46039f"
             ],
             [
              0.2222222222222222,
              "#7201a8"
             ],
             [
              0.3333333333333333,
              "#9c179e"
             ],
             [
              0.4444444444444444,
              "#bd3786"
             ],
             [
              0.5555555555555556,
              "#d8576b"
             ],
             [
              0.6666666666666666,
              "#ed7953"
             ],
             [
              0.7777777777777778,
              "#fb9f3a"
             ],
             [
              0.8888888888888888,
              "#fdca26"
             ],
             [
              1,
              "#f0f921"
             ]
            ],
            "type": "histogram2dcontour"
           }
          ],
          "mesh3d": [
           {
            "colorbar": {
             "outlinewidth": 0,
             "ticks": ""
            },
            "type": "mesh3d"
           }
          ],
          "parcoords": [
           {
            "line": {
             "colorbar": {
              "outlinewidth": 0,
              "ticks": ""
             }
            },
            "type": "parcoords"
           }
          ],
          "pie": [
           {
            "automargin": true,
            "type": "pie"
           }
          ],
          "scatter": [
           {
            "fillpattern": {
             "fillmode": "overlay",
             "size": 10,
             "solidity": 0.2
            },
            "type": "scatter"
           }
          ],
          "scatter3d": [
           {
            "line": {
             "colorbar": {
              "outlinewidth": 0,
              "ticks": ""
             }
            },
            "marker": {
             "colorbar": {
              "outlinewidth": 0,
              "ticks": ""
             }
            },
            "type": "scatter3d"
           }
          ],
          "scattercarpet": [
           {
            "marker": {
             "colorbar": {
              "outlinewidth": 0,
              "ticks": ""
             }
            },
            "type": "scattercarpet"
           }
          ],
          "scattergeo": [
           {
            "marker": {
             "colorbar": {
              "outlinewidth": 0,
              "ticks": ""
             }
            },
            "type": "scattergeo"
           }
          ],
          "scattergl": [
           {
            "marker": {
             "colorbar": {
              "outlinewidth": 0,
              "ticks": ""
             }
            },
            "type": "scattergl"
           }
          ],
          "scattermapbox": [
           {
            "marker": {
             "colorbar": {
              "outlinewidth": 0,
              "ticks": ""
             }
            },
            "type": "scattermapbox"
           }
          ],
          "scatterpolar": [
           {
            "marker": {
             "colorbar": {
              "outlinewidth": 0,
              "ticks": ""
             }
            },
            "type": "scatterpolar"
           }
          ],
          "scatterpolargl": [
           {
            "marker": {
             "colorbar": {
              "outlinewidth": 0,
              "ticks": ""
             }
            },
            "type": "scatterpolargl"
           }
          ],
          "scatterternary": [
           {
            "marker": {
             "colorbar": {
              "outlinewidth": 0,
              "ticks": ""
             }
            },
            "type": "scatterternary"
           }
          ],
          "surface": [
           {
            "colorbar": {
             "outlinewidth": 0,
             "ticks": ""
            },
            "colorscale": [
             [
              0,
              "#0d0887"
             ],
             [
              0.1111111111111111,
              "#46039f"
             ],
             [
              0.2222222222222222,
              "#7201a8"
             ],
             [
              0.3333333333333333,
              "#9c179e"
             ],
             [
              0.4444444444444444,
              "#bd3786"
             ],
             [
              0.5555555555555556,
              "#d8576b"
             ],
             [
              0.6666666666666666,
              "#ed7953"
             ],
             [
              0.7777777777777778,
              "#fb9f3a"
             ],
             [
              0.8888888888888888,
              "#fdca26"
             ],
             [
              1,
              "#f0f921"
             ]
            ],
            "type": "surface"
           }
          ],
          "table": [
           {
            "cells": {
             "fill": {
              "color": "#EBF0F8"
             },
             "line": {
              "color": "white"
             }
            },
            "header": {
             "fill": {
              "color": "#C8D4E3"
             },
             "line": {
              "color": "white"
             }
            },
            "type": "table"
           }
          ]
         },
         "layout": {
          "annotationdefaults": {
           "arrowcolor": "#2a3f5f",
           "arrowhead": 0,
           "arrowwidth": 1
          },
          "autotypenumbers": "strict",
          "coloraxis": {
           "colorbar": {
            "outlinewidth": 0,
            "ticks": ""
           }
          },
          "colorscale": {
           "diverging": [
            [
             0,
             "#8e0152"
            ],
            [
             0.1,
             "#c51b7d"
            ],
            [
             0.2,
             "#de77ae"
            ],
            [
             0.3,
             "#f1b6da"
            ],
            [
             0.4,
             "#fde0ef"
            ],
            [
             0.5,
             "#f7f7f7"
            ],
            [
             0.6,
             "#e6f5d0"
            ],
            [
             0.7,
             "#b8e186"
            ],
            [
             0.8,
             "#7fbc41"
            ],
            [
             0.9,
             "#4d9221"
            ],
            [
             1,
             "#276419"
            ]
           ],
           "sequential": [
            [
             0,
             "#0d0887"
            ],
            [
             0.1111111111111111,
             "#46039f"
            ],
            [
             0.2222222222222222,
             "#7201a8"
            ],
            [
             0.3333333333333333,
             "#9c179e"
            ],
            [
             0.4444444444444444,
             "#bd3786"
            ],
            [
             0.5555555555555556,
             "#d8576b"
            ],
            [
             0.6666666666666666,
             "#ed7953"
            ],
            [
             0.7777777777777778,
             "#fb9f3a"
            ],
            [
             0.8888888888888888,
             "#fdca26"
            ],
            [
             1,
             "#f0f921"
            ]
           ],
           "sequentialminus": [
            [
             0,
             "#0d0887"
            ],
            [
             0.1111111111111111,
             "#46039f"
            ],
            [
             0.2222222222222222,
             "#7201a8"
            ],
            [
             0.3333333333333333,
             "#9c179e"
            ],
            [
             0.4444444444444444,
             "#bd3786"
            ],
            [
             0.5555555555555556,
             "#d8576b"
            ],
            [
             0.6666666666666666,
             "#ed7953"
            ],
            [
             0.7777777777777778,
             "#fb9f3a"
            ],
            [
             0.8888888888888888,
             "#fdca26"
            ],
            [
             1,
             "#f0f921"
            ]
           ]
          },
          "colorway": [
           "#636efa",
           "#EF553B",
           "#00cc96",
           "#ab63fa",
           "#FFA15A",
           "#19d3f3",
           "#FF6692",
           "#B6E880",
           "#FF97FF",
           "#FECB52"
          ],
          "font": {
           "color": "#2a3f5f"
          },
          "geo": {
           "bgcolor": "white",
           "lakecolor": "white",
           "landcolor": "#E5ECF6",
           "showlakes": true,
           "showland": true,
           "subunitcolor": "white"
          },
          "hoverlabel": {
           "align": "left"
          },
          "hovermode": "closest",
          "mapbox": {
           "style": "light"
          },
          "paper_bgcolor": "white",
          "plot_bgcolor": "#E5ECF6",
          "polar": {
           "angularaxis": {
            "gridcolor": "white",
            "linecolor": "white",
            "ticks": ""
           },
           "bgcolor": "#E5ECF6",
           "radialaxis": {
            "gridcolor": "white",
            "linecolor": "white",
            "ticks": ""
           }
          },
          "scene": {
           "xaxis": {
            "backgroundcolor": "#E5ECF6",
            "gridcolor": "white",
            "gridwidth": 2,
            "linecolor": "white",
            "showbackground": true,
            "ticks": "",
            "zerolinecolor": "white"
           },
           "yaxis": {
            "backgroundcolor": "#E5ECF6",
            "gridcolor": "white",
            "gridwidth": 2,
            "linecolor": "white",
            "showbackground": true,
            "ticks": "",
            "zerolinecolor": "white"
           },
           "zaxis": {
            "backgroundcolor": "#E5ECF6",
            "gridcolor": "white",
            "gridwidth": 2,
            "linecolor": "white",
            "showbackground": true,
            "ticks": "",
            "zerolinecolor": "white"
           }
          },
          "shapedefaults": {
           "line": {
            "color": "#2a3f5f"
           }
          },
          "ternary": {
           "aaxis": {
            "gridcolor": "white",
            "linecolor": "white",
            "ticks": ""
           },
           "baxis": {
            "gridcolor": "white",
            "linecolor": "white",
            "ticks": ""
           },
           "bgcolor": "#E5ECF6",
           "caxis": {
            "gridcolor": "white",
            "linecolor": "white",
            "ticks": ""
           }
          },
          "title": {
           "x": 0.05
          },
          "xaxis": {
           "automargin": true,
           "gridcolor": "white",
           "linecolor": "white",
           "ticks": "",
           "title": {
            "standoff": 15
           },
           "zerolinecolor": "white",
           "zerolinewidth": 2
          },
          "yaxis": {
           "automargin": true,
           "gridcolor": "white",
           "linecolor": "white",
           "ticks": "",
           "title": {
            "standoff": 15
           },
           "zerolinecolor": "white",
           "zerolinewidth": 2
          }
         }
        },
        "title": {
         "text": "Clusters"
        },
        "xaxis": {
         "anchor": "y",
         "domain": [
          0,
          1
         ],
         "title": {
          "text": "Date"
         }
        },
        "yaxis": {
         "anchor": "x",
         "domain": [
          0,
          1
         ],
         "title": {
          "text": "Weekly_Sales"
         }
        }
       }
      },
      "text/html": [
       "<div>                            <div id=\"f5039223-e368-4686-9cfc-60b2fbbf7cf7\" class=\"plotly-graph-div\" style=\"height:525px; width:100%;\"></div>            <script type=\"text/javascript\">                require([\"plotly\"], function(Plotly) {                    window.PLOTLYENV=window.PLOTLYENV || {};                                    if (document.getElementById(\"f5039223-e368-4686-9cfc-60b2fbbf7cf7\")) {                    Plotly.newPlot(                        \"f5039223-e368-4686-9cfc-60b2fbbf7cf7\",                        [{\"hovertemplate\":\"variable=cluster: 0<br>Date=%{x}<br>value=%{y}<extra></extra>\",\"legendgroup\":\"cluster: 0\",\"line\":{\"color\":\"#636efa\",\"dash\":\"solid\"},\"marker\":{\"symbol\":\"circle\"},\"mode\":\"lines\",\"name\":\"cluster: 0\",\"orientation\":\"v\",\"showlegend\":true,\"x\":[\"2010-02-05\",\"2010-02-12\",\"2010-02-19\",\"2010-02-26\",\"2010-03-05\",\"2010-03-12\",\"2010-03-19\",\"2010-03-26\",\"2010-04-02\",\"2010-04-09\",\"2010-04-16\",\"2010-04-23\",\"2010-04-30\",\"2010-05-07\",\"2010-05-14\",\"2010-05-21\",\"2010-05-28\",\"2010-06-04\",\"2010-06-11\",\"2010-06-18\",\"2010-06-25\",\"2010-07-02\",\"2010-07-09\",\"2010-07-16\",\"2010-07-23\",\"2010-07-30\",\"2010-08-06\",\"2010-08-13\",\"2010-08-20\",\"2010-08-27\",\"2010-09-03\",\"2010-09-10\",\"2010-09-17\",\"2010-09-24\",\"2010-10-01\",\"2010-10-08\",\"2010-10-15\",\"2010-10-22\",\"2010-10-29\",\"2010-11-05\",\"2010-11-12\",\"2010-11-19\",\"2010-11-26\",\"2010-12-03\",\"2010-12-10\",\"2010-12-17\",\"2010-12-24\",\"2010-12-31\",\"2011-01-07\",\"2011-01-14\",\"2011-01-21\",\"2011-01-28\",\"2011-02-04\",\"2011-02-11\",\"2011-02-18\",\"2011-02-25\",\"2011-03-04\",\"2011-03-11\",\"2011-03-18\",\"2011-03-25\",\"2011-04-01\",\"2011-04-08\",\"2011-04-15\",\"2011-04-22\",\"2011-04-29\",\"2011-05-06\",\"2011-05-13\",\"2011-05-20\",\"2011-05-27\",\"2011-06-03\",\"2011-06-10\",\"2011-06-17\",\"2011-06-24\",\"2011-07-01\",\"2011-07-08\",\"2011-07-15\",\"2011-07-22\",\"2011-07-29\",\"2011-08-05\",\"2011-08-12\",\"2011-08-19\",\"2011-08-26\",\"2011-09-02\",\"2011-09-09\",\"2011-09-16\",\"2011-09-23\",\"2011-09-30\",\"2011-10-07\",\"2011-10-14\",\"2011-10-21\",\"2011-10-28\",\"2011-11-04\",\"2011-11-11\",\"2011-11-18\",\"2011-11-25\",\"2011-12-02\",\"2011-12-09\",\"2011-12-16\",\"2011-12-23\",\"2011-12-30\",\"2012-01-06\",\"2012-01-13\",\"2012-01-20\",\"2012-01-27\",\"2012-02-03\",\"2012-02-10\",\"2012-02-17\",\"2012-02-24\",\"2012-03-02\",\"2012-03-09\",\"2012-03-16\",\"2012-03-23\",\"2012-03-30\",\"2012-04-06\",\"2012-04-13\",\"2012-04-20\",\"2012-04-27\",\"2012-05-04\",\"2012-05-11\",\"2012-05-18\",\"2012-05-25\",\"2012-06-01\",\"2012-06-08\",\"2012-06-15\",\"2012-06-22\",\"2012-06-29\",\"2012-07-06\",\"2012-07-13\",\"2012-07-20\",\"2012-07-27\",\"2012-08-03\",\"2012-08-10\",\"2012-08-17\",\"2012-08-24\",\"2012-08-31\"],\"xaxis\":\"x\",\"y\":[483979.99625,484765.0118750001,474784.978125,450464.7787500001,474192.82062499993,466755.48625,461212.64875000005,456043.551875,500747.515,482485.1325,467839.92125,447939.13062499993,444669.506875,485794.01875,463907.989375,457771.205625,481814.92875,498876.4831250001,484662.910625,485870.689375,475637.2475,496194.90125000005,495918.37125,480367.65375000006,463601.1775,460398.5662500001,496991.51375,478403.965625,472849.65,470570.8925000001,481714.50375,475602.738125,458643.5306250001,441945.73125,448235.8499999999,471939.9943750001,449762.0775,457680.513125,448095.8062500001,470196.639375,467584.97125,455633.496875,623360.4450000001,494127.92,534360.8987499999,574582.9975,718953.93625,439060.93875,463514.18875,445944.6075,432907.51875,424967.22125000006,481986.856875,480814.63812500006,484566.149375,447027.630625,475013.815,460230.016875,462980.82,446727.78687499993,449632.906875,473596.675625,462582.94625,469830.6875,434210.349375,472257.51,467419.394375,452102.166875,456180.365625,490468.7168750001,495459.560625,488537.6156250001,476594.7618750001,488543.910625,500501.498125,478675.764375,469164.33,449666.531875,490153.705625,475064.89,474439.376875,474993.74375,475179.64,479020.350625,456877.975,445527.14875000005,430958.778125,477709.0325,455062.4731250001,470654.975625,460111.240625,497643.47,484193.38875,471677.43875,634435.3812499999,499178.6056249999,533925.0843749999,572216.855625,696412.954375,470494.108125,490803.48625,463257.925,449972.89125,431744.329375,473931.51125,501970.26375,499404.14875000005,466188.574375,483971.9018749999,486088.45375,483889.51562500006,471796.65125000005,472116.1006250001,534793.3475,481060.36625,463155.133125,450422.6225,481021.87875,487079.1675,483230.92749999993,489856.545625,490848.3825,511091.24875,505901.521875,496405.70375,486359.970625,526440.60125,491888.485,481132.641875,462941.105,491126.6625,487864.676875,475417.21875,486971.895,481192.169375],\"yaxis\":\"y\",\"type\":\"scatter\"},{\"hovertemplate\":\"variable=cluster: 1<br>Date=%{x}<br>value=%{y}<extra></extra>\",\"legendgroup\":\"cluster: 1\",\"line\":{\"color\":\"#EF553B\",\"dash\":\"solid\"},\"marker\":{\"symbol\":\"circle\"},\"mode\":\"lines\",\"name\":\"cluster: 1\",\"orientation\":\"v\",\"showlegend\":true,\"x\":[\"2010-02-05\",\"2010-02-12\",\"2010-02-19\",\"2010-02-26\",\"2010-03-05\",\"2010-03-12\",\"2010-03-19\",\"2010-03-26\",\"2010-04-02\",\"2010-04-09\",\"2010-04-16\",\"2010-04-23\",\"2010-04-30\",\"2010-05-07\",\"2010-05-14\",\"2010-05-21\",\"2010-05-28\",\"2010-06-04\",\"2010-06-11\",\"2010-06-18\",\"2010-06-25\",\"2010-07-02\",\"2010-07-09\",\"2010-07-16\",\"2010-07-23\",\"2010-07-30\",\"2010-08-06\",\"2010-08-13\",\"2010-08-20\",\"2010-08-27\",\"2010-09-03\",\"2010-09-10\",\"2010-09-17\",\"2010-09-24\",\"2010-10-01\",\"2010-10-08\",\"2010-10-15\",\"2010-10-22\",\"2010-10-29\",\"2010-11-05\",\"2010-11-12\",\"2010-11-19\",\"2010-11-26\",\"2010-12-03\",\"2010-12-10\",\"2010-12-17\",\"2010-12-24\",\"2010-12-31\",\"2011-01-07\",\"2011-01-14\",\"2011-01-21\",\"2011-01-28\",\"2011-02-04\",\"2011-02-11\",\"2011-02-18\",\"2011-02-25\",\"2011-03-04\",\"2011-03-11\",\"2011-03-18\",\"2011-03-25\",\"2011-04-01\",\"2011-04-08\",\"2011-04-15\",\"2011-04-22\",\"2011-04-29\",\"2011-05-06\",\"2011-05-13\",\"2011-05-20\",\"2011-05-27\",\"2011-06-03\",\"2011-06-10\",\"2011-06-17\",\"2011-06-24\",\"2011-07-01\",\"2011-07-08\",\"2011-07-15\",\"2011-07-22\",\"2011-07-29\",\"2011-08-05\",\"2011-08-12\",\"2011-08-19\",\"2011-08-26\",\"2011-09-02\",\"2011-09-09\",\"2011-09-16\",\"2011-09-23\",\"2011-09-30\",\"2011-10-07\",\"2011-10-14\",\"2011-10-21\",\"2011-10-28\",\"2011-11-04\",\"2011-11-11\",\"2011-11-18\",\"2011-11-25\",\"2011-12-02\",\"2011-12-09\",\"2011-12-16\",\"2011-12-23\",\"2011-12-30\",\"2012-01-06\",\"2012-01-13\",\"2012-01-20\",\"2012-01-27\",\"2012-02-03\",\"2012-02-10\",\"2012-02-17\",\"2012-02-24\",\"2012-03-02\",\"2012-03-09\",\"2012-03-16\",\"2012-03-23\",\"2012-03-30\",\"2012-04-06\",\"2012-04-13\",\"2012-04-20\",\"2012-04-27\",\"2012-05-04\",\"2012-05-11\",\"2012-05-18\",\"2012-05-25\",\"2012-06-01\",\"2012-06-08\",\"2012-06-15\",\"2012-06-22\",\"2012-06-29\",\"2012-07-06\",\"2012-07-13\",\"2012-07-20\",\"2012-07-27\",\"2012-08-03\",\"2012-08-10\",\"2012-08-17\",\"2012-08-24\",\"2012-08-31\"],\"xaxis\":\"x\",\"y\":[1010945.7833333332,990782.7891666666,996716.0716666668,900343.6699999999,966621.0175,935127.1950000002,915516.3708333336,910310.3866666668,1017413.5575,975567.0766666668,926019.0716666668,934423.7133333334,895133.8916666667,999152.3783333332,933211.2825,932848.355,1005274.1325,1029027.5416666666,998204.6675,983725.6233333334,976044.1925,1014337.7058333332,985777.9825,948881.4541666668,925518.2808333334,921300.3166666664,984442.905,940464.3558333332,955661.985,948544.4808333332,967661.2491666664,933201.9591666666,868153.285,840677.5066666667,851551.4641666667,919212.8208333332,879964.3816666667,885747.5933333333,903857.5425,922776.0225,936189.9299999998,898501.8383333333,1391155.475833333,1025049.9666666668,1143040.9025,1285689.326666667,1701764.1125,786492.2366666665,867695.8583333334,788984.5216666666,803173.2558333334,781493.7691666667,897572.1000000001,958943.7841666668,989555.9716666668,899868.3224999999,941616.2925,898778.3158333334,896647.995,864152.7791666667,866944.5874999999,922282.3408333332,904174.6291666664,989874.49,888584.0866666666,957971.3025,921808.6824999998,896161.1941666668,941643.2808333331,995806.4583333334,967196.4658333332,955656.7941666666,941479.0266666664,969274.93,949623.9583333334,911586.7291666666,920904.19,886767.3025000002,952088.6891666664,921750.3483333336,925002.4691666669,978230.5891666668,880503.7975,946791.6025000002,884181.7566666667,853968.6683333333,856493.8616666665,943739.445,895811.2208333333,923831.5741666668,949738.1866666664,965533.0508333334,982901.0325,926853.9324999998,1406580.6766666668,1014341.845,1125590.4741666669,1231807.8624999998,1603440.0,939052.11,907881.0725,819789.4141666667,831345.7333333334,782211.9525,921612.7275,998243.475,1017561.3316666668,918304.045,943237.4,951809.1275,929032.78,907386.9066666664,905564.0775,1057752.5083333335,921250.8608333332,937558.9641666668,887963.4691666667,947187.8841666668,946191.4500000002,942372.0791666666,973081.9841666664,976275.7716666666,998541.4291666668,970035.7566666664,984332.4266666666,958134.4616666666,1030099.8891666668,932522.2416666668,933960.1633333334,896612.0283333332,949558.0825,949056.7000000002,954266.6208333336,974842.9275,969253.755],\"yaxis\":\"y\",\"type\":\"scatter\"},{\"hovertemplate\":\"variable=cluster: 2<br>Date=%{x}<br>value=%{y}<extra></extra>\",\"legendgroup\":\"cluster: 2\",\"line\":{\"color\":\"#00cc96\",\"dash\":\"solid\"},\"marker\":{\"symbol\":\"circle\"},\"mode\":\"lines\",\"name\":\"cluster: 2\",\"orientation\":\"v\",\"showlegend\":true,\"x\":[\"2010-02-05\",\"2010-02-12\",\"2010-02-19\",\"2010-02-26\",\"2010-03-05\",\"2010-03-12\",\"2010-03-19\",\"2010-03-26\",\"2010-04-02\",\"2010-04-09\",\"2010-04-16\",\"2010-04-23\",\"2010-04-30\",\"2010-05-07\",\"2010-05-14\",\"2010-05-21\",\"2010-05-28\",\"2010-06-04\",\"2010-06-11\",\"2010-06-18\",\"2010-06-25\",\"2010-07-02\",\"2010-07-09\",\"2010-07-16\",\"2010-07-23\",\"2010-07-30\",\"2010-08-06\",\"2010-08-13\",\"2010-08-20\",\"2010-08-27\",\"2010-09-03\",\"2010-09-10\",\"2010-09-17\",\"2010-09-24\",\"2010-10-01\",\"2010-10-08\",\"2010-10-15\",\"2010-10-22\",\"2010-10-29\",\"2010-11-05\",\"2010-11-12\",\"2010-11-19\",\"2010-11-26\",\"2010-12-03\",\"2010-12-10\",\"2010-12-17\",\"2010-12-24\",\"2010-12-31\",\"2011-01-07\",\"2011-01-14\",\"2011-01-21\",\"2011-01-28\",\"2011-02-04\",\"2011-02-11\",\"2011-02-18\",\"2011-02-25\",\"2011-03-04\",\"2011-03-11\",\"2011-03-18\",\"2011-03-25\",\"2011-04-01\",\"2011-04-08\",\"2011-04-15\",\"2011-04-22\",\"2011-04-29\",\"2011-05-06\",\"2011-05-13\",\"2011-05-20\",\"2011-05-27\",\"2011-06-03\",\"2011-06-10\",\"2011-06-17\",\"2011-06-24\",\"2011-07-01\",\"2011-07-08\",\"2011-07-15\",\"2011-07-22\",\"2011-07-29\",\"2011-08-05\",\"2011-08-12\",\"2011-08-19\",\"2011-08-26\",\"2011-09-02\",\"2011-09-09\",\"2011-09-16\",\"2011-09-23\",\"2011-09-30\",\"2011-10-07\",\"2011-10-14\",\"2011-10-21\",\"2011-10-28\",\"2011-11-04\",\"2011-11-11\",\"2011-11-18\",\"2011-11-25\",\"2011-12-02\",\"2011-12-09\",\"2011-12-16\",\"2011-12-23\",\"2011-12-30\",\"2012-01-06\",\"2012-01-13\",\"2012-01-20\",\"2012-01-27\",\"2012-02-03\",\"2012-02-10\",\"2012-02-17\",\"2012-02-24\",\"2012-03-02\",\"2012-03-09\",\"2012-03-16\",\"2012-03-23\",\"2012-03-30\",\"2012-04-06\",\"2012-04-13\",\"2012-04-20\",\"2012-04-27\",\"2012-05-04\",\"2012-05-11\",\"2012-05-18\",\"2012-05-25\",\"2012-06-01\",\"2012-06-08\",\"2012-06-15\",\"2012-06-22\",\"2012-06-29\",\"2012-07-06\",\"2012-07-13\",\"2012-07-20\",\"2012-07-27\",\"2012-08-03\",\"2012-08-10\",\"2012-08-17\",\"2012-08-24\",\"2012-08-31\"],\"xaxis\":\"x\",\"y\":[2190222.5457142857,2013109.761428572,2081313.687142857,1857167.32,1937089.8971428573,1965566.28,1912695.1271428573,1867174.23,2183078.235714286,1990703.4714285715,1905350.524285714,1890104.89,1857647.842857143,2059556.601428572,1922875.431428572,1905782.922857143,1978890.0571428568,2085752.2028571428,1997919.06,2000025.1928571423,1958147.484285714,2036072.2457142856,1970915.1571428569,1935346.005714286,1874587.6742857147,1868380.6328571425,1979419.0942857144,1961669.2042857143,1987356.5485714283,1883639.1357142853,1961555.0957142855,1902548.7385714285,1818968.1171428573,1737502.1757142858,1773527.8,1900749.7314285715,1832601.3014285716,1818179.0,1847261.652857143,1941157.2785714287,1980062.5442857144,1958203.8342857144,2787970.81,2144540.348571429,2435266.4271428576,2694952.9271428576,3567316.845714286,1684615.8357142855,1765045.387142857,1731223.6157142855,1732505.2528571428,1665054.4885714282,1977114.34,2034821.985714286,2070686.9514285717,1887827.082857143,1968399.7771428572,1891446.3842857145,1892130.0614285716,1798926.3057142857,1831194.5157142857,1919341.6242857145,1901337.1214285716,2104009.511428572,1835346.1085714283,1953236.7057142856,1902474.087142857,1846332.774285714,1891364.472857143,2006113.1857142856,1975201.0442857144,1994480.7985714283,1907435.9600000004,1970714.184285714,1975479.3957142856,1903098.8857142853,1875619.2971428572,1824476.442857143,2000279.587142857,1935090.5928571431,1970139.1957142856,1973531.7371428567,1857733.0257142857,1935628.1614285717,1828365.182857143,1799990.218571429,1771239.2557142857,1963838.594285715,1862353.437142857,1937819.0542857144,1924874.6828571428,2037279.1442857145,2066307.937142857,1985022.0585714283,2789894.2171428567,2072020.9057142856,2388995.107142857,2583230.205714286,3372710.1885714284,1912725.4528571428,1822224.9842857143,1756155.0542857142,1775436.6242857142,1653704.1957142856,1935576.728571428,2136814.765714286,2134759.032857143,1946732.69,1957591.448571429,1973065.1314285717,1969923.3228571431,1875804.9628571428,1900979.24,2267790.9214285715,1954600.972857143,1874950.0985714288,1821048.652857143,1960076.8542857144,1964032.3185714283,1973403.3085714283,1986568.9528571428,1997943.847142857,2053533.9057142856,2000757.407142857,1927634.634285714,1892128.1942857143,2077056.5628571429,1876234.6657142856,1881802.9485714284,1793647.0357142857,1937345.7285714285,1927842.44,1939422.48,1890585.492857143,1880023.5157142857],\"yaxis\":\"y\",\"type\":\"scatter\"},{\"hovertemplate\":\"variable=cluster: 3<br>Date=%{x}<br>value=%{y}<extra></extra>\",\"legendgroup\":\"cluster: 3\",\"line\":{\"color\":\"#ab63fa\",\"dash\":\"solid\"},\"marker\":{\"symbol\":\"circle\"},\"mode\":\"lines\",\"name\":\"cluster: 3\",\"orientation\":\"v\",\"showlegend\":true,\"x\":[\"2010-02-05\",\"2010-02-12\",\"2010-02-19\",\"2010-02-26\",\"2010-03-05\",\"2010-03-12\",\"2010-03-19\",\"2010-03-26\",\"2010-04-02\",\"2010-04-09\",\"2010-04-16\",\"2010-04-23\",\"2010-04-30\",\"2010-05-07\",\"2010-05-14\",\"2010-05-21\",\"2010-05-28\",\"2010-06-04\",\"2010-06-11\",\"2010-06-18\",\"2010-06-25\",\"2010-07-02\",\"2010-07-09\",\"2010-07-16\",\"2010-07-23\",\"2010-07-30\",\"2010-08-06\",\"2010-08-13\",\"2010-08-20\",\"2010-08-27\",\"2010-09-03\",\"2010-09-10\",\"2010-09-17\",\"2010-09-24\",\"2010-10-01\",\"2010-10-08\",\"2010-10-15\",\"2010-10-22\",\"2010-10-29\",\"2010-11-05\",\"2010-11-12\",\"2010-11-19\",\"2010-11-26\",\"2010-12-03\",\"2010-12-10\",\"2010-12-17\",\"2010-12-24\",\"2010-12-31\",\"2011-01-07\",\"2011-01-14\",\"2011-01-21\",\"2011-01-28\",\"2011-02-04\",\"2011-02-11\",\"2011-02-18\",\"2011-02-25\",\"2011-03-04\",\"2011-03-11\",\"2011-03-18\",\"2011-03-25\",\"2011-04-01\",\"2011-04-08\",\"2011-04-15\",\"2011-04-22\",\"2011-04-29\",\"2011-05-06\",\"2011-05-13\",\"2011-05-20\",\"2011-05-27\",\"2011-06-03\",\"2011-06-10\",\"2011-06-17\",\"2011-06-24\",\"2011-07-01\",\"2011-07-08\",\"2011-07-15\",\"2011-07-22\",\"2011-07-29\",\"2011-08-05\",\"2011-08-12\",\"2011-08-19\",\"2011-08-26\",\"2011-09-02\",\"2011-09-09\",\"2011-09-16\",\"2011-09-23\",\"2011-09-30\",\"2011-10-07\",\"2011-10-14\",\"2011-10-21\",\"2011-10-28\",\"2011-11-04\",\"2011-11-11\",\"2011-11-18\",\"2011-11-25\",\"2011-12-02\",\"2011-12-09\",\"2011-12-16\",\"2011-12-23\",\"2011-12-30\",\"2012-01-06\",\"2012-01-13\",\"2012-01-20\",\"2012-01-27\",\"2012-02-03\",\"2012-02-10\",\"2012-02-17\",\"2012-02-24\",\"2012-03-02\",\"2012-03-09\",\"2012-03-16\",\"2012-03-23\",\"2012-03-30\",\"2012-04-06\",\"2012-04-13\",\"2012-04-20\",\"2012-04-27\",\"2012-05-04\",\"2012-05-11\",\"2012-05-18\",\"2012-05-25\",\"2012-06-01\",\"2012-06-08\",\"2012-06-15\",\"2012-06-22\",\"2012-06-29\",\"2012-07-06\",\"2012-07-13\",\"2012-07-20\",\"2012-07-27\",\"2012-08-03\",\"2012-08-10\",\"2012-08-17\",\"2012-08-24\",\"2012-08-31\"],\"xaxis\":\"x\",\"y\":[1454415.334,1459927.564,1415064.546,1295683.939,1412530.3679999998,1347681.843,1323450.992,1284331.997,1492136.068,1400379.91,1324854.5809999998,1312360.768,1284527.2999999998,1432381.4470000004,1324888.896,1326110.8050000002,1413294.371,1525792.3469999998,1410805.0720000002,1404323.137,1357927.7630000005,1455380.7889999996,1433909.3540000005,1362401.7629999998,1324289.718,1312971.8129999998,1458388.638,1379269.826,1411591.886,1381259.844,1414400.489,1350848.935,1259181.378,1203673.7399999998,1243479.01,1321613.235,1256549.852,1238755.719,1265617.597,1359742.244,1354872.432,1334599.933,1963757.474,1469059.912,1635364.019,1833452.948,2403576.535,1217732.64,1259189.26,1195218.447,1196251.207,1176707.0939999998,1383065.56,1389207.9159999995,1459362.5529999998,1296020.8400000003,1430218.897,1323817.4670000002,1345994.645,1276623.7,1304316.816,1380714.062,1341254.578,1455284.0810000002,1307223.555,1413752.5400000005,1358841.17,1313469.9619999998,1345530.0280000002,1493202.5,1430961.664,1420171.2730000005,1360877.827,1433551.826,1462739.6379999998,1359638.4959999998,1358759.705,1307606.693,1474598.6179999998,1404189.2569999998,1443531.333,1426355.9300000002,1420357.224,1418800.546,1307517.5229999998,1274210.66,1262388.9190000002,1449660.0359999998,1330761.189,1363776.181,1362306.025,1484589.8050000002,1446816.252,1387473.9789999998,2003441.149,1472745.0340000002,1678829.53,1806592.071,2300538.256,1385685.179,1345241.8180000002,1248039.327,1247722.517,1196459.257,1389431.42,1504125.8409999995,1505254.132,1366571.198,1409549.5510000002,1446987.331,1422141.62,1342577.018,1354538.082,1637805.5629999998,1419507.8269999998,1328668.943,1310713.463,1434105.5340000002,1403008.89,1396995.6549999998,1447179.1999999995,1472715.95,1511647.731,1467195.574,1442036.221,1407284.142,1592937.7610000002,1390560.6719999998,1398127.87,1337522.3809999998,1467175.5810000002,1471403.8619999995,1472062.004,1472355.971,1466935.4840000004],\"yaxis\":\"y\",\"type\":\"scatter\"}],                        {\"template\":{\"data\":{\"histogram2dcontour\":[{\"type\":\"histogram2dcontour\",\"colorbar\":{\"outlinewidth\":0,\"ticks\":\"\"},\"colorscale\":[[0.0,\"#0d0887\"],[0.1111111111111111,\"#46039f\"],[0.2222222222222222,\"#7201a8\"],[0.3333333333333333,\"#9c179e\"],[0.4444444444444444,\"#bd3786\"],[0.5555555555555556,\"#d8576b\"],[0.6666666666666666,\"#ed7953\"],[0.7777777777777778,\"#fb9f3a\"],[0.8888888888888888,\"#fdca26\"],[1.0,\"#f0f921\"]]}],\"choropleth\":[{\"type\":\"choropleth\",\"colorbar\":{\"outlinewidth\":0,\"ticks\":\"\"}}],\"histogram2d\":[{\"type\":\"histogram2d\",\"colorbar\":{\"outlinewidth\":0,\"ticks\":\"\"},\"colorscale\":[[0.0,\"#0d0887\"],[0.1111111111111111,\"#46039f\"],[0.2222222222222222,\"#7201a8\"],[0.3333333333333333,\"#9c179e\"],[0.4444444444444444,\"#bd3786\"],[0.5555555555555556,\"#d8576b\"],[0.6666666666666666,\"#ed7953\"],[0.7777777777777778,\"#fb9f3a\"],[0.8888888888888888,\"#fdca26\"],[1.0,\"#f0f921\"]]}],\"heatmap\":[{\"type\":\"heatmap\",\"colorbar\":{\"outlinewidth\":0,\"ticks\":\"\"},\"colorscale\":[[0.0,\"#0d0887\"],[0.1111111111111111,\"#46039f\"],[0.2222222222222222,\"#7201a8\"],[0.3333333333333333,\"#9c179e\"],[0.4444444444444444,\"#bd3786\"],[0.5555555555555556,\"#d8576b\"],[0.6666666666666666,\"#ed7953\"],[0.7777777777777778,\"#fb9f3a\"],[0.8888888888888888,\"#fdca26\"],[1.0,\"#f0f921\"]]}],\"heatmapgl\":[{\"type\":\"heatmapgl\",\"colorbar\":{\"outlinewidth\":0,\"ticks\":\"\"},\"colorscale\":[[0.0,\"#0d0887\"],[0.1111111111111111,\"#46039f\"],[0.2222222222222222,\"#7201a8\"],[0.3333333333333333,\"#9c179e\"],[0.4444444444444444,\"#bd3786\"],[0.5555555555555556,\"#d8576b\"],[0.6666666666666666,\"#ed7953\"],[0.7777777777777778,\"#fb9f3a\"],[0.8888888888888888,\"#fdca26\"],[1.0,\"#f0f921\"]]}],\"contourcarpet\":[{\"type\":\"contourcarpet\",\"colorbar\":{\"outlinewidth\":0,\"ticks\":\"\"}}],\"contour\":[{\"type\":\"contour\",\"colorbar\":{\"outlinewidth\":0,\"ticks\":\"\"},\"colorscale\":[[0.0,\"#0d0887\"],[0.1111111111111111,\"#46039f\"],[0.2222222222222222,\"#7201a8\"],[0.3333333333333333,\"#9c179e\"],[0.4444444444444444,\"#bd3786\"],[0.5555555555555556,\"#d8576b\"],[0.6666666666666666,\"#ed7953\"],[0.7777777777777778,\"#fb9f3a\"],[0.8888888888888888,\"#fdca26\"],[1.0,\"#f0f921\"]]}],\"surface\":[{\"type\":\"surface\",\"colorbar\":{\"outlinewidth\":0,\"ticks\":\"\"},\"colorscale\":[[0.0,\"#0d0887\"],[0.1111111111111111,\"#46039f\"],[0.2222222222222222,\"#7201a8\"],[0.3333333333333333,\"#9c179e\"],[0.4444444444444444,\"#bd3786\"],[0.5555555555555556,\"#d8576b\"],[0.6666666666666666,\"#ed7953\"],[0.7777777777777778,\"#fb9f3a\"],[0.8888888888888888,\"#fdca26\"],[1.0,\"#f0f921\"]]}],\"mesh3d\":[{\"type\":\"mesh3d\",\"colorbar\":{\"outlinewidth\":0,\"ticks\":\"\"}}],\"scatter\":[{\"fillpattern\":{\"fillmode\":\"overlay\",\"size\":10,\"solidity\":0.2},\"type\":\"scatter\"}],\"parcoords\":[{\"type\":\"parcoords\",\"line\":{\"colorbar\":{\"outlinewidth\":0,\"ticks\":\"\"}}}],\"scatterpolargl\":[{\"type\":\"scatterpolargl\",\"marker\":{\"colorbar\":{\"outlinewidth\":0,\"ticks\":\"\"}}}],\"bar\":[{\"error_x\":{\"color\":\"#2a3f5f\"},\"error_y\":{\"color\":\"#2a3f5f\"},\"marker\":{\"line\":{\"color\":\"#E5ECF6\",\"width\":0.5},\"pattern\":{\"fillmode\":\"overlay\",\"size\":10,\"solidity\":0.2}},\"type\":\"bar\"}],\"scattergeo\":[{\"type\":\"scattergeo\",\"marker\":{\"colorbar\":{\"outlinewidth\":0,\"ticks\":\"\"}}}],\"scatterpolar\":[{\"type\":\"scatterpolar\",\"marker\":{\"colorbar\":{\"outlinewidth\":0,\"ticks\":\"\"}}}],\"histogram\":[{\"marker\":{\"pattern\":{\"fillmode\":\"overlay\",\"size\":10,\"solidity\":0.2}},\"type\":\"histogram\"}],\"scattergl\":[{\"type\":\"scattergl\",\"marker\":{\"colorbar\":{\"outlinewidth\":0,\"ticks\":\"\"}}}],\"scatter3d\":[{\"type\":\"scatter3d\",\"line\":{\"colorbar\":{\"outlinewidth\":0,\"ticks\":\"\"}},\"marker\":{\"colorbar\":{\"outlinewidth\":0,\"ticks\":\"\"}}}],\"scattermapbox\":[{\"type\":\"scattermapbox\",\"marker\":{\"colorbar\":{\"outlinewidth\":0,\"ticks\":\"\"}}}],\"scatterternary\":[{\"type\":\"scatterternary\",\"marker\":{\"colorbar\":{\"outlinewidth\":0,\"ticks\":\"\"}}}],\"scattercarpet\":[{\"type\":\"scattercarpet\",\"marker\":{\"colorbar\":{\"outlinewidth\":0,\"ticks\":\"\"}}}],\"carpet\":[{\"aaxis\":{\"endlinecolor\":\"#2a3f5f\",\"gridcolor\":\"white\",\"linecolor\":\"white\",\"minorgridcolor\":\"white\",\"startlinecolor\":\"#2a3f5f\"},\"baxis\":{\"endlinecolor\":\"#2a3f5f\",\"gridcolor\":\"white\",\"linecolor\":\"white\",\"minorgridcolor\":\"white\",\"startlinecolor\":\"#2a3f5f\"},\"type\":\"carpet\"}],\"table\":[{\"cells\":{\"fill\":{\"color\":\"#EBF0F8\"},\"line\":{\"color\":\"white\"}},\"header\":{\"fill\":{\"color\":\"#C8D4E3\"},\"line\":{\"color\":\"white\"}},\"type\":\"table\"}],\"barpolar\":[{\"marker\":{\"line\":{\"color\":\"#E5ECF6\",\"width\":0.5},\"pattern\":{\"fillmode\":\"overlay\",\"size\":10,\"solidity\":0.2}},\"type\":\"barpolar\"}],\"pie\":[{\"automargin\":true,\"type\":\"pie\"}]},\"layout\":{\"autotypenumbers\":\"strict\",\"colorway\":[\"#636efa\",\"#EF553B\",\"#00cc96\",\"#ab63fa\",\"#FFA15A\",\"#19d3f3\",\"#FF6692\",\"#B6E880\",\"#FF97FF\",\"#FECB52\"],\"font\":{\"color\":\"#2a3f5f\"},\"hovermode\":\"closest\",\"hoverlabel\":{\"align\":\"left\"},\"paper_bgcolor\":\"white\",\"plot_bgcolor\":\"#E5ECF6\",\"polar\":{\"bgcolor\":\"#E5ECF6\",\"angularaxis\":{\"gridcolor\":\"white\",\"linecolor\":\"white\",\"ticks\":\"\"},\"radialaxis\":{\"gridcolor\":\"white\",\"linecolor\":\"white\",\"ticks\":\"\"}},\"ternary\":{\"bgcolor\":\"#E5ECF6\",\"aaxis\":{\"gridcolor\":\"white\",\"linecolor\":\"white\",\"ticks\":\"\"},\"baxis\":{\"gridcolor\":\"white\",\"linecolor\":\"white\",\"ticks\":\"\"},\"caxis\":{\"gridcolor\":\"white\",\"linecolor\":\"white\",\"ticks\":\"\"}},\"coloraxis\":{\"colorbar\":{\"outlinewidth\":0,\"ticks\":\"\"}},\"colorscale\":{\"sequential\":[[0.0,\"#0d0887\"],[0.1111111111111111,\"#46039f\"],[0.2222222222222222,\"#7201a8\"],[0.3333333333333333,\"#9c179e\"],[0.4444444444444444,\"#bd3786\"],[0.5555555555555556,\"#d8576b\"],[0.6666666666666666,\"#ed7953\"],[0.7777777777777778,\"#fb9f3a\"],[0.8888888888888888,\"#fdca26\"],[1.0,\"#f0f921\"]],\"sequentialminus\":[[0.0,\"#0d0887\"],[0.1111111111111111,\"#46039f\"],[0.2222222222222222,\"#7201a8\"],[0.3333333333333333,\"#9c179e\"],[0.4444444444444444,\"#bd3786\"],[0.5555555555555556,\"#d8576b\"],[0.6666666666666666,\"#ed7953\"],[0.7777777777777778,\"#fb9f3a\"],[0.8888888888888888,\"#fdca26\"],[1.0,\"#f0f921\"]],\"diverging\":[[0,\"#8e0152\"],[0.1,\"#c51b7d\"],[0.2,\"#de77ae\"],[0.3,\"#f1b6da\"],[0.4,\"#fde0ef\"],[0.5,\"#f7f7f7\"],[0.6,\"#e6f5d0\"],[0.7,\"#b8e186\"],[0.8,\"#7fbc41\"],[0.9,\"#4d9221\"],[1,\"#276419\"]]},\"xaxis\":{\"gridcolor\":\"white\",\"linecolor\":\"white\",\"ticks\":\"\",\"title\":{\"standoff\":15},\"zerolinecolor\":\"white\",\"automargin\":true,\"zerolinewidth\":2},\"yaxis\":{\"gridcolor\":\"white\",\"linecolor\":\"white\",\"ticks\":\"\",\"title\":{\"standoff\":15},\"zerolinecolor\":\"white\",\"automargin\":true,\"zerolinewidth\":2},\"scene\":{\"xaxis\":{\"backgroundcolor\":\"#E5ECF6\",\"gridcolor\":\"white\",\"linecolor\":\"white\",\"showbackground\":true,\"ticks\":\"\",\"zerolinecolor\":\"white\",\"gridwidth\":2},\"yaxis\":{\"backgroundcolor\":\"#E5ECF6\",\"gridcolor\":\"white\",\"linecolor\":\"white\",\"showbackground\":true,\"ticks\":\"\",\"zerolinecolor\":\"white\",\"gridwidth\":2},\"zaxis\":{\"backgroundcolor\":\"#E5ECF6\",\"gridcolor\":\"white\",\"linecolor\":\"white\",\"showbackground\":true,\"ticks\":\"\",\"zerolinecolor\":\"white\",\"gridwidth\":2}},\"shapedefaults\":{\"line\":{\"color\":\"#2a3f5f\"}},\"annotationdefaults\":{\"arrowcolor\":\"#2a3f5f\",\"arrowhead\":0,\"arrowwidth\":1},\"geo\":{\"bgcolor\":\"white\",\"landcolor\":\"#E5ECF6\",\"subunitcolor\":\"white\",\"showland\":true,\"showlakes\":true,\"lakecolor\":\"white\"},\"title\":{\"x\":0.05},\"mapbox\":{\"style\":\"light\"}}},\"xaxis\":{\"anchor\":\"y\",\"domain\":[0.0,1.0],\"title\":{\"text\":\"Date\"}},\"yaxis\":{\"anchor\":\"x\",\"domain\":[0.0,1.0],\"title\":{\"text\":\"Weekly_Sales\"}},\"legend\":{\"title\":{\"text\":\"variable\"},\"tracegroupgap\":0},\"title\":{\"text\":\"Clusters\"}},                        {\"responsive\": true}                    ).then(function(){\n",
       "                            \n",
       "var gd = document.getElementById('f5039223-e368-4686-9cfc-60b2fbbf7cf7');\n",
       "var x = new MutationObserver(function (mutations, observer) {{\n",
       "        var display = window.getComputedStyle(gd).display;\n",
       "        if (!display || display === 'none') {{\n",
       "            console.log([gd, 'removed!']);\n",
       "            Plotly.purge(gd);\n",
       "            observer.disconnect();\n",
       "        }}\n",
       "}});\n",
       "\n",
       "// Listen for the removal of the full notebook cells\n",
       "var notebookContainer = gd.closest('#notebook-container');\n",
       "if (notebookContainer) {{\n",
       "    x.observe(notebookContainer, {childList: true});\n",
       "}}\n",
       "\n",
       "// Listen for the clearing of the current output cell\n",
       "var outputEl = gd.closest('.output');\n",
       "if (outputEl) {{\n",
       "    x.observe(outputEl, {childList: true});\n",
       "}}\n",
       "\n",
       "                        })                };                });            </script>        </div>"
      ]
     },
     "metadata": {},
     "output_type": "display_data"
    }
   ],
   "source": [
    "import plotly.express as px\n",
    "fig = px.line(plot_data, x=\"Date\", y=plot_data.columns,\n",
    "              title='Clusters')\n",
    "fig.update_yaxes(\n",
    "    title='Weekly_Sales'\n",
    "    )\n",
    "fig.show()"
   ]
  },
  {
   "cell_type": "code",
   "execution_count": 113,
   "id": "fd479e37",
   "metadata": {},
   "outputs": [
    {
     "data": {
      "text/html": [
       "<div>\n",
       "<style scoped>\n",
       "    .dataframe tbody tr th:only-of-type {\n",
       "        vertical-align: middle;\n",
       "    }\n",
       "\n",
       "    .dataframe tbody tr th {\n",
       "        vertical-align: top;\n",
       "    }\n",
       "\n",
       "    .dataframe thead th {\n",
       "        text-align: right;\n",
       "    }\n",
       "</style>\n",
       "<table border=\"1\" class=\"dataframe\">\n",
       "  <thead>\n",
       "    <tr style=\"text-align: right;\">\n",
       "      <th></th>\n",
       "      <th>date</th>\n",
       "      <th>GOOG</th>\n",
       "      <th>AAPL</th>\n",
       "      <th>AMZN</th>\n",
       "      <th>FB</th>\n",
       "      <th>NFLX</th>\n",
       "      <th>MSFT</th>\n",
       "    </tr>\n",
       "  </thead>\n",
       "  <tbody>\n",
       "    <tr>\n",
       "      <th>0</th>\n",
       "      <td>2018-01-01</td>\n",
       "      <td>1.000000</td>\n",
       "      <td>1.000000</td>\n",
       "      <td>1.000000</td>\n",
       "      <td>1.000000</td>\n",
       "      <td>1.000000</td>\n",
       "      <td>1.000000</td>\n",
       "    </tr>\n",
       "    <tr>\n",
       "      <th>1</th>\n",
       "      <td>2018-01-08</td>\n",
       "      <td>1.018172</td>\n",
       "      <td>1.011943</td>\n",
       "      <td>1.061881</td>\n",
       "      <td>0.959968</td>\n",
       "      <td>1.053526</td>\n",
       "      <td>1.015988</td>\n",
       "    </tr>\n",
       "    <tr>\n",
       "      <th>2</th>\n",
       "      <td>2018-01-15</td>\n",
       "      <td>1.032008</td>\n",
       "      <td>1.019771</td>\n",
       "      <td>1.053240</td>\n",
       "      <td>0.970243</td>\n",
       "      <td>1.049860</td>\n",
       "      <td>1.020524</td>\n",
       "    </tr>\n",
       "    <tr>\n",
       "      <th>3</th>\n",
       "      <td>2018-01-22</td>\n",
       "      <td>1.066783</td>\n",
       "      <td>0.980057</td>\n",
       "      <td>1.140676</td>\n",
       "      <td>1.016858</td>\n",
       "      <td>1.307681</td>\n",
       "      <td>1.066561</td>\n",
       "    </tr>\n",
       "    <tr>\n",
       "      <th>4</th>\n",
       "      <td>2018-01-29</td>\n",
       "      <td>1.008773</td>\n",
       "      <td>0.917143</td>\n",
       "      <td>1.163374</td>\n",
       "      <td>1.018357</td>\n",
       "      <td>1.273537</td>\n",
       "      <td>1.040708</td>\n",
       "    </tr>\n",
       "  </tbody>\n",
       "</table>\n",
       "</div>"
      ],
      "text/plain": [
       "         date      GOOG      AAPL      AMZN        FB      NFLX      MSFT\n",
       "0  2018-01-01  1.000000  1.000000  1.000000  1.000000  1.000000  1.000000\n",
       "1  2018-01-08  1.018172  1.011943  1.061881  0.959968  1.053526  1.015988\n",
       "2  2018-01-15  1.032008  1.019771  1.053240  0.970243  1.049860  1.020524\n",
       "3  2018-01-22  1.066783  0.980057  1.140676  1.016858  1.307681  1.066561\n",
       "4  2018-01-29  1.008773  0.917143  1.163374  1.018357  1.273537  1.040708"
      ]
     },
     "execution_count": 113,
     "metadata": {},
     "output_type": "execute_result"
    }
   ],
   "source": [
    "df.head()"
   ]
  },
  {
   "cell_type": "code",
   "execution_count": null,
   "id": "40cb3706",
   "metadata": {},
   "outputs": [],
   "source": []
  }
 ],
 "metadata": {
  "kernelspec": {
   "display_name": "Python 3.9.13 ('ts_clustering')",
   "language": "python",
   "name": "python3"
  },
  "language_info": {
   "codemirror_mode": {
    "name": "ipython",
    "version": 3
   },
   "file_extension": ".py",
   "mimetype": "text/x-python",
   "name": "python",
   "nbconvert_exporter": "python",
   "pygments_lexer": "ipython3",
   "version": "3.9.13"
  },
  "vscode": {
   "interpreter": {
    "hash": "e7a20381de7589558cd7d3aea85d01d6a576118a247a81bc7c8beb62cc3d4333"
   }
  }
 },
 "nbformat": 4,
 "nbformat_minor": 5
}
