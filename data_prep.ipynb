{
 "cells": [
  {
   "cell_type": "code",
   "execution_count": 71,
   "id": "133d0ee5",
   "metadata": {},
   "outputs": [],
   "source": [
    "import pandas as pd"
   ]
  },
  {
   "cell_type": "code",
   "execution_count": 157,
   "id": "a8f8ada2",
   "metadata": {},
   "outputs": [],
   "source": [
    "df = pd.read_csv(\"../../../Data/Walmart/ts_train.csv\")"
   ]
  },
  {
   "cell_type": "code",
   "execution_count": 158,
   "id": "2538fd96",
   "metadata": {
    "scrolled": true
   },
   "outputs": [],
   "source": [
    "df = df[['Store', 'Date', 'Weekly_Sales']].groupby(['Store', 'Date']).sum('Weekly_Sales').reset_index()"
   ]
  },
  {
   "cell_type": "code",
   "execution_count": 159,
   "id": "4c20fc1c",
   "metadata": {},
   "outputs": [],
   "source": [
    "df = df.set_index(\"Store\")\n",
    "df = df.pivot_table(index='Store',columns='Date', values='Weekly_Sales', aggfunc='sum').reset_index()\n",
    "#df = df.drop(columns=['Store'])"
   ]
  },
  {
   "cell_type": "code",
   "execution_count": 160,
   "id": "94d93b16",
   "metadata": {},
   "outputs": [
    {
     "name": "stdout",
     "output_type": "stream",
     "text": [
      "Checking whether there is an H2O instance running at http://localhost:54321 . connected.\n"
     ]
    },
    {
     "data": {
      "text/html": [
       "<div style=\"overflow:auto\"><table style=\"width:50%\"><tr><td>H2O_cluster_uptime:</td>\n",
       "<td>1 day 1 hour 45 mins</td></tr>\n",
       "<tr><td>H2O_cluster_timezone:</td>\n",
       "<td>America/New_York</td></tr>\n",
       "<tr><td>H2O_data_parsing_timezone:</td>\n",
       "<td>UTC</td></tr>\n",
       "<tr><td>H2O_cluster_version:</td>\n",
       "<td>3.36.1.4</td></tr>\n",
       "<tr><td>H2O_cluster_version_age:</td>\n",
       "<td>1 month and 5 days </td></tr>\n",
       "<tr><td>H2O_cluster_name:</td>\n",
       "<td>H2O_from_python_megankurka_5h1ch1</td></tr>\n",
       "<tr><td>H2O_cluster_total_nodes:</td>\n",
       "<td>1</td></tr>\n",
       "<tr><td>H2O_cluster_free_memory:</td>\n",
       "<td>3.963 Gb</td></tr>\n",
       "<tr><td>H2O_cluster_total_cores:</td>\n",
       "<td>16</td></tr>\n",
       "<tr><td>H2O_cluster_allowed_cores:</td>\n",
       "<td>16</td></tr>\n",
       "<tr><td>H2O_cluster_status:</td>\n",
       "<td>locked, healthy</td></tr>\n",
       "<tr><td>H2O_connection_url:</td>\n",
       "<td>http://localhost:54321</td></tr>\n",
       "<tr><td>H2O_connection_proxy:</td>\n",
       "<td>{\"http\": null, \"https\": null}</td></tr>\n",
       "<tr><td>H2O_internal_security:</td>\n",
       "<td>False</td></tr>\n",
       "<tr><td>Python_version:</td>\n",
       "<td>3.7.10 final</td></tr></table></div>"
      ],
      "text/plain": [
       "--------------------------  ---------------------------------\n",
       "H2O_cluster_uptime:         1 day 1 hour 45 mins\n",
       "H2O_cluster_timezone:       America/New_York\n",
       "H2O_data_parsing_timezone:  UTC\n",
       "H2O_cluster_version:        3.36.1.4\n",
       "H2O_cluster_version_age:    1 month and 5 days\n",
       "H2O_cluster_name:           H2O_from_python_megankurka_5h1ch1\n",
       "H2O_cluster_total_nodes:    1\n",
       "H2O_cluster_free_memory:    3.963 Gb\n",
       "H2O_cluster_total_cores:    16\n",
       "H2O_cluster_allowed_cores:  16\n",
       "H2O_cluster_status:         locked, healthy\n",
       "H2O_connection_url:         http://localhost:54321\n",
       "H2O_connection_proxy:       {\"http\": null, \"https\": null}\n",
       "H2O_internal_security:      False\n",
       "Python_version:             3.7.10 final\n",
       "--------------------------  ---------------------------------"
      ]
     },
     "metadata": {},
     "output_type": "display_data"
    }
   ],
   "source": [
    "import h2o\n",
    "h2o.init()"
   ]
  },
  {
   "cell_type": "code",
   "execution_count": 161,
   "id": "70b3f46c",
   "metadata": {},
   "outputs": [
    {
     "name": "stdout",
     "output_type": "stream",
     "text": [
      "Parse progress: |████████████████████████████████████████████████████████████████| (done) 100%\n"
     ]
    }
   ],
   "source": [
    "df_h2o = h2o.H2OFrame(df)"
   ]
  },
  {
   "cell_type": "code",
   "execution_count": 162,
   "id": "91c4bb69",
   "metadata": {},
   "outputs": [
    {
     "data": {
      "text/html": [
       "<table>\n",
       "<thead>\n",
       "<tr><th style=\"text-align: right;\">  Store</th><th style=\"text-align: right;\">      2010-02-05</th><th style=\"text-align: right;\">      2010-02-12</th><th style=\"text-align: right;\">      2010-02-19</th><th style=\"text-align: right;\">      2010-02-26</th><th style=\"text-align: right;\">      2010-03-05</th><th style=\"text-align: right;\">      2010-03-12</th><th style=\"text-align: right;\">      2010-03-19</th><th style=\"text-align: right;\">      2010-03-26</th><th style=\"text-align: right;\">      2010-04-02</th><th style=\"text-align: right;\">      2010-04-09</th><th style=\"text-align: right;\">      2010-04-16</th><th style=\"text-align: right;\">      2010-04-23</th><th style=\"text-align: right;\">      2010-04-30</th><th style=\"text-align: right;\">      2010-05-07</th><th style=\"text-align: right;\">      2010-05-14</th><th style=\"text-align: right;\">      2010-05-21</th><th style=\"text-align: right;\">      2010-05-28</th><th style=\"text-align: right;\">      2010-06-04</th><th style=\"text-align: right;\">      2010-06-11</th><th style=\"text-align: right;\">      2010-06-18</th><th style=\"text-align: right;\">      2010-06-25</th><th style=\"text-align: right;\">      2010-07-02</th><th style=\"text-align: right;\">      2010-07-09</th><th style=\"text-align: right;\">      2010-07-16</th><th style=\"text-align: right;\">      2010-07-23</th><th style=\"text-align: right;\">      2010-07-30</th><th style=\"text-align: right;\">      2010-08-06</th><th style=\"text-align: right;\">      2010-08-13</th><th style=\"text-align: right;\">      2010-08-20</th><th style=\"text-align: right;\">      2010-08-27</th><th style=\"text-align: right;\">      2010-09-03</th><th style=\"text-align: right;\">      2010-09-10</th><th style=\"text-align: right;\">      2010-09-17</th><th style=\"text-align: right;\">      2010-09-24</th><th style=\"text-align: right;\">      2010-10-01</th><th style=\"text-align: right;\">      2010-10-08</th><th style=\"text-align: right;\">      2010-10-15</th><th style=\"text-align: right;\">      2010-10-22</th><th style=\"text-align: right;\">      2010-10-29</th><th style=\"text-align: right;\">      2010-11-05</th><th style=\"text-align: right;\">      2010-11-12</th><th style=\"text-align: right;\">      2010-11-19</th><th style=\"text-align: right;\">      2010-11-26</th><th style=\"text-align: right;\">      2010-12-03</th><th style=\"text-align: right;\">      2010-12-10</th><th style=\"text-align: right;\">      2010-12-17</th><th style=\"text-align: right;\">      2010-12-24</th><th style=\"text-align: right;\">      2010-12-31</th><th style=\"text-align: right;\">      2011-01-07</th><th style=\"text-align: right;\">      2011-01-14</th><th style=\"text-align: right;\">      2011-01-21</th><th style=\"text-align: right;\">      2011-01-28</th><th style=\"text-align: right;\">      2011-02-04</th><th style=\"text-align: right;\">      2011-02-11</th><th style=\"text-align: right;\">      2011-02-18</th><th style=\"text-align: right;\">      2011-02-25</th><th style=\"text-align: right;\">      2011-03-04</th><th style=\"text-align: right;\">      2011-03-11</th><th style=\"text-align: right;\">      2011-03-18</th><th style=\"text-align: right;\">      2011-03-25</th><th style=\"text-align: right;\">      2011-04-01</th><th style=\"text-align: right;\">      2011-04-08</th><th style=\"text-align: right;\">      2011-04-15</th><th style=\"text-align: right;\">      2011-04-22</th><th style=\"text-align: right;\">      2011-04-29</th><th style=\"text-align: right;\">      2011-05-06</th><th style=\"text-align: right;\">      2011-05-13</th><th style=\"text-align: right;\">      2011-05-20</th><th style=\"text-align: right;\">      2011-05-27</th><th style=\"text-align: right;\">      2011-06-03</th><th style=\"text-align: right;\">      2011-06-10</th><th style=\"text-align: right;\">      2011-06-17</th><th style=\"text-align: right;\">      2011-06-24</th><th style=\"text-align: right;\">      2011-07-01</th><th style=\"text-align: right;\">      2011-07-08</th><th style=\"text-align: right;\">      2011-07-15</th><th style=\"text-align: right;\">      2011-07-22</th><th style=\"text-align: right;\">      2011-07-29</th><th style=\"text-align: right;\">      2011-08-05</th><th style=\"text-align: right;\">      2011-08-12</th><th style=\"text-align: right;\">      2011-08-19</th><th style=\"text-align: right;\">      2011-08-26</th><th style=\"text-align: right;\">      2011-09-02</th><th style=\"text-align: right;\">      2011-09-09</th><th style=\"text-align: right;\">      2011-09-16</th><th style=\"text-align: right;\">      2011-09-23</th><th style=\"text-align: right;\">      2011-09-30</th><th style=\"text-align: right;\">      2011-10-07</th><th style=\"text-align: right;\">      2011-10-14</th><th style=\"text-align: right;\">      2011-10-21</th><th style=\"text-align: right;\">      2011-10-28</th><th style=\"text-align: right;\">      2011-11-04</th><th style=\"text-align: right;\">      2011-11-11</th><th style=\"text-align: right;\">      2011-11-18</th><th style=\"text-align: right;\">      2011-11-25</th><th style=\"text-align: right;\">      2011-12-02</th><th style=\"text-align: right;\">      2011-12-09</th><th style=\"text-align: right;\">      2011-12-16</th><th style=\"text-align: right;\">      2011-12-23</th><th style=\"text-align: right;\">      2011-12-30</th><th style=\"text-align: right;\">      2012-01-06</th><th style=\"text-align: right;\">      2012-01-13</th><th style=\"text-align: right;\">      2012-01-20</th><th style=\"text-align: right;\">      2012-01-27</th><th style=\"text-align: right;\">      2012-02-03</th><th style=\"text-align: right;\">      2012-02-10</th><th style=\"text-align: right;\">      2012-02-17</th><th style=\"text-align: right;\">      2012-02-24</th><th style=\"text-align: right;\">      2012-03-02</th><th style=\"text-align: right;\">      2012-03-09</th><th style=\"text-align: right;\">      2012-03-16</th><th style=\"text-align: right;\">      2012-03-23</th><th style=\"text-align: right;\">      2012-03-30</th><th style=\"text-align: right;\">      2012-04-06</th><th style=\"text-align: right;\">      2012-04-13</th><th style=\"text-align: right;\">      2012-04-20</th><th style=\"text-align: right;\">      2012-04-27</th><th style=\"text-align: right;\">      2012-05-04</th><th style=\"text-align: right;\">      2012-05-11</th><th style=\"text-align: right;\">      2012-05-18</th><th style=\"text-align: right;\">      2012-05-25</th><th style=\"text-align: right;\">      2012-06-01</th><th style=\"text-align: right;\">      2012-06-08</th><th style=\"text-align: right;\">      2012-06-15</th><th style=\"text-align: right;\">      2012-06-22</th><th style=\"text-align: right;\">      2012-06-29</th><th style=\"text-align: right;\">      2012-07-06</th><th style=\"text-align: right;\">      2012-07-13</th><th style=\"text-align: right;\">      2012-07-20</th><th style=\"text-align: right;\">      2012-07-27</th><th style=\"text-align: right;\">      2012-08-03</th><th style=\"text-align: right;\">      2012-08-10</th><th style=\"text-align: right;\">      2012-08-17</th><th style=\"text-align: right;\">      2012-08-24</th><th style=\"text-align: right;\">      2012-08-31</th></tr>\n",
       "</thead>\n",
       "<tbody>\n",
       "<tr><td style=\"text-align: right;\">      1</td><td style=\"text-align: right;\">     1.64369e+06</td><td style=\"text-align: right;\">     1.64196e+06</td><td style=\"text-align: right;\">     1.61197e+06</td><td style=\"text-align: right;\">     1.40973e+06</td><td style=\"text-align: right;\">     1.55481e+06</td><td style=\"text-align: right;\">     1.43954e+06</td><td style=\"text-align: right;\">     1.47252e+06</td><td style=\"text-align: right;\">     1.40443e+06</td><td style=\"text-align: right;\">     1.59497e+06</td><td style=\"text-align: right;\">     1.54542e+06</td><td style=\"text-align: right;\">     1.46606e+06</td><td style=\"text-align: right;\">     1.39126e+06</td><td style=\"text-align: right;\">     1.4251e+06 </td><td style=\"text-align: right;\">     1.60396e+06</td><td style=\"text-align: right;\">     1.49425e+06</td><td style=\"text-align: right;\">     1.39966e+06</td><td style=\"text-align: right;\">     1.43207e+06</td><td style=\"text-align: right;\">     1.61552e+06</td><td style=\"text-align: right;\">     1.54256e+06</td><td style=\"text-align: right;\">     1.50328e+06</td><td style=\"text-align: right;\">     1.42271e+06</td><td style=\"text-align: right;\">     1.49242e+06</td><td style=\"text-align: right;\">     1.54607e+06</td><td style=\"text-align: right;\">     1.44894e+06</td><td style=\"text-align: right;\">     1.38507e+06</td><td style=\"text-align: right;\">     1.37199e+06</td><td style=\"text-align: right;\">     1.60549e+06</td><td style=\"text-align: right;\">     1.50824e+06</td><td style=\"text-align: right;\">     1.51308e+06</td><td style=\"text-align: right;\">     1.44914e+06</td><td style=\"text-align: right;\">     1.54016e+06</td><td style=\"text-align: right;\">     1.50746e+06</td><td style=\"text-align: right;\">     1.43038e+06</td><td style=\"text-align: right;\">     1.35179e+06</td><td style=\"text-align: right;\">     1.45333e+06</td><td style=\"text-align: right;\">     1.50824e+06</td><td style=\"text-align: right;\">     1.45941e+06</td><td style=\"text-align: right;\">     1.34545e+06</td><td style=\"text-align: right;\">     1.38421e+06</td><td style=\"text-align: right;\">     1.55166e+06</td><td style=\"text-align: right;\">     1.49448e+06</td><td style=\"text-align: right;\">     1.48378e+06</td><td style=\"text-align: right;\">     1.95562e+06</td><td style=\"text-align: right;\">     1.54803e+06</td><td style=\"text-align: right;\">     1.68261e+06</td><td style=\"text-align: right;\">     1.89103e+06</td><td style=\"text-align: right;\">     2.38795e+06</td><td style=\"text-align: right;\">     1.36732e+06</td><td style=\"text-align: right;\">     1.44473e+06</td><td style=\"text-align: right;\">     1.39101e+06</td><td style=\"text-align: right;\">     1.32741e+06</td><td style=\"text-align: right;\">     1.3169e+06 </td><td style=\"text-align: right;\">     1.60663e+06</td><td style=\"text-align: right;\">     1.64961e+06</td><td style=\"text-align: right;\">     1.68684e+06</td><td style=\"text-align: right;\">     1.4568e+06 </td><td style=\"text-align: right;\">     1.63626e+06</td><td style=\"text-align: right;\">     1.55319e+06</td><td style=\"text-align: right;\">     1.57682e+06</td><td style=\"text-align: right;\">     1.5411e+06 </td><td style=\"text-align: right;\">     1.49506e+06</td><td style=\"text-align: right;\">     1.61426e+06</td><td style=\"text-align: right;\">     1.55989e+06</td><td style=\"text-align: right;\">     1.56482e+06</td><td style=\"text-align: right;\">     1.45509e+06</td><td style=\"text-align: right;\">     1.62939e+06</td><td style=\"text-align: right;\">     1.60478e+06</td><td style=\"text-align: right;\">     1.42822e+06</td><td style=\"text-align: right;\">     1.46605e+06</td><td style=\"text-align: right;\">     1.63508e+06</td><td style=\"text-align: right;\">     1.58895e+06</td><td style=\"text-align: right;\">     1.53211e+06</td><td style=\"text-align: right;\">     1.43883e+06</td><td style=\"text-align: right;\">     1.48854e+06</td><td style=\"text-align: right;\">     1.53485e+06</td><td style=\"text-align: right;\">     1.45512e+06</td><td style=\"text-align: right;\">     1.39693e+06</td><td style=\"text-align: right;\">     1.35222e+06</td><td style=\"text-align: right;\">     1.62438e+06</td><td style=\"text-align: right;\">     1.52515e+06</td><td style=\"text-align: right;\">     1.53076e+06</td><td style=\"text-align: right;\">     1.46469e+06</td><td style=\"text-align: right;\">     1.55023e+06</td><td style=\"text-align: right;\">     1.54047e+06</td><td style=\"text-align: right;\">     1.51426e+06</td><td style=\"text-align: right;\">     1.38002e+06</td><td style=\"text-align: right;\">     1.39456e+06</td><td style=\"text-align: right;\">     1.63099e+06</td><td style=\"text-align: right;\">     1.49353e+06</td><td style=\"text-align: right;\">     1.50256e+06</td><td style=\"text-align: right;\">     1.44525e+06</td><td style=\"text-align: right;\">     1.69723e+06</td><td style=\"text-align: right;\">     1.59494e+06</td><td style=\"text-align: right;\">     1.53948e+06</td><td style=\"text-align: right;\">     2.03332e+06</td><td style=\"text-align: right;\">     1.58408e+06</td><td style=\"text-align: right;\">     1.79968e+06</td><td style=\"text-align: right;\">     1.88118e+06</td><td style=\"text-align: right;\">     2.27019e+06</td><td style=\"text-align: right;\">     1.49746e+06</td><td style=\"text-align: right;\">     1.55037e+06</td><td style=\"text-align: right;\">     1.4596e+06 </td><td style=\"text-align: right;\">     1.39439e+06</td><td style=\"text-align: right;\">     1.31933e+06</td><td style=\"text-align: right;\">     1.63634e+06</td><td style=\"text-align: right;\">     1.80248e+06</td><td style=\"text-align: right;\">     1.81987e+06</td><td style=\"text-align: right;\">     1.53939e+06</td><td style=\"text-align: right;\">     1.68842e+06</td><td style=\"text-align: right;\">     1.67543e+06</td><td style=\"text-align: right;\">     1.67747e+06</td><td style=\"text-align: right;\">     1.51107e+06</td><td style=\"text-align: right;\">     1.6496e+06 </td><td style=\"text-align: right;\">     1.89968e+06</td><td style=\"text-align: right;\">     1.62103e+06</td><td style=\"text-align: right;\">     1.52158e+06</td><td style=\"text-align: right;\">     1.46893e+06</td><td style=\"text-align: right;\">     1.68452e+06</td><td style=\"text-align: right;\">     1.6111e+06 </td><td style=\"text-align: right;\">     1.5959e+06 </td><td style=\"text-align: right;\">     1.55544e+06</td><td style=\"text-align: right;\">     1.62448e+06</td><td style=\"text-align: right;\">     1.69723e+06</td><td style=\"text-align: right;\">     1.63061e+06</td><td style=\"text-align: right;\">     1.52785e+06</td><td style=\"text-align: right;\">     1.54042e+06</td><td style=\"text-align: right;\">     1.76985e+06</td><td style=\"text-align: right;\">     1.52701e+06</td><td style=\"text-align: right;\">     1.49795e+06</td><td style=\"text-align: right;\">     1.43912e+06</td><td style=\"text-align: right;\">     1.63114e+06</td><td style=\"text-align: right;\">     1.59241e+06</td><td style=\"text-align: right;\">     1.59787e+06</td><td style=\"text-align: right;\">     1.49412e+06</td><td style=\"text-align: right;\">     1.58208e+06</td></tr>\n",
       "<tr><td style=\"text-align: right;\">      2</td><td style=\"text-align: right;\">     2.13699e+06</td><td style=\"text-align: right;\">     2.13781e+06</td><td style=\"text-align: right;\">     2.12445e+06</td><td style=\"text-align: right;\">     1.8651e+06 </td><td style=\"text-align: right;\">     1.99101e+06</td><td style=\"text-align: right;\">     1.99048e+06</td><td style=\"text-align: right;\">     1.94607e+06</td><td style=\"text-align: right;\">     1.7502e+06 </td><td style=\"text-align: right;\">     2.06619e+06</td><td style=\"text-align: right;\">     1.95469e+06</td><td style=\"text-align: right;\">     1.87496e+06</td><td style=\"text-align: right;\">     1.82199e+06</td><td style=\"text-align: right;\">     1.80245e+06</td><td style=\"text-align: right;\">     2.04258e+06</td><td style=\"text-align: right;\">     1.88075e+06</td><td style=\"text-align: right;\">     1.89694e+06</td><td style=\"text-align: right;\">     1.95711e+06</td><td style=\"text-align: right;\">     2.10254e+06</td><td style=\"text-align: right;\">     2.02554e+06</td><td style=\"text-align: right;\">     2.00164e+06</td><td style=\"text-align: right;\">     1.93993e+06</td><td style=\"text-align: right;\">     2.00394e+06</td><td style=\"text-align: right;\">     1.8809e+06 </td><td style=\"text-align: right;\">     1.84588e+06</td><td style=\"text-align: right;\">     1.78172e+06</td><td style=\"text-align: right;\">     1.80425e+06</td><td style=\"text-align: right;\">     1.99191e+06</td><td style=\"text-align: right;\">     1.8956e+06 </td><td style=\"text-align: right;\">     1.96434e+06</td><td style=\"text-align: right;\">     1.86384e+06</td><td style=\"text-align: right;\">     1.90461e+06</td><td style=\"text-align: right;\">     1.83913e+06</td><td style=\"text-align: right;\">     1.7939e+06 </td><td style=\"text-align: right;\">     1.72456e+06</td><td style=\"text-align: right;\">     1.82744e+06</td><td style=\"text-align: right;\">     1.84992e+06</td><td style=\"text-align: right;\">     1.79436e+06</td><td style=\"text-align: right;\">     1.73795e+06</td><td style=\"text-align: right;\">     1.80276e+06</td><td style=\"text-align: right;\">     1.93906e+06</td><td style=\"text-align: right;\">     1.91681e+06</td><td style=\"text-align: right;\">     1.95674e+06</td><td style=\"text-align: right;\">     2.65873e+06</td><td style=\"text-align: right;\">     2.01578e+06</td><td style=\"text-align: right;\">     2.37873e+06</td><td style=\"text-align: right;\">     2.60917e+06</td><td style=\"text-align: right;\">     3.43601e+06</td><td style=\"text-align: right;\">     1.75043e+06</td><td style=\"text-align: right;\">     1.75805e+06</td><td style=\"text-align: right;\">     1.74419e+06</td><td style=\"text-align: right;\">     1.75138e+06</td><td style=\"text-align: right;\">     1.69537e+06</td><td style=\"text-align: right;\">     1.92935e+06</td><td style=\"text-align: right;\">     2.16804e+06</td><td style=\"text-align: right;\">     2.08088e+06</td><td style=\"text-align: right;\">     1.83351e+06</td><td style=\"text-align: right;\">     1.98161e+06</td><td style=\"text-align: right;\">     1.87911e+06</td><td style=\"text-align: right;\">     1.90256e+06</td><td style=\"text-align: right;\">     1.76616e+06</td><td style=\"text-align: right;\">     1.80017e+06</td><td style=\"text-align: right;\">     1.84755e+06</td><td style=\"text-align: right;\">     1.85647e+06</td><td style=\"text-align: right;\">     1.88634e+06</td><td style=\"text-align: right;\">     1.74555e+06</td><td style=\"text-align: right;\">     1.83774e+06</td><td style=\"text-align: right;\">     1.83851e+06</td><td style=\"text-align: right;\">     1.68828e+06</td><td style=\"text-align: right;\">     1.79773e+06</td><td style=\"text-align: right;\">     1.93376e+06</td><td style=\"text-align: right;\">     1.92915e+06</td><td style=\"text-align: right;\">     1.95377e+06</td><td style=\"text-align: right;\">     1.79093e+06</td><td style=\"text-align: right;\">     1.86624e+06</td><td style=\"text-align: right;\">     1.85316e+06</td><td style=\"text-align: right;\">     1.78519e+06</td><td style=\"text-align: right;\">     1.74382e+06</td><td style=\"text-align: right;\">     1.68069e+06</td><td style=\"text-align: right;\">     1.8767e+06 </td><td style=\"text-align: right;\">     1.81277e+06</td><td style=\"text-align: right;\">     1.84409e+06</td><td style=\"text-align: right;\">     1.82114e+06</td><td style=\"text-align: right;\">     1.80912e+06</td><td style=\"text-align: right;\">     1.748e+06  </td><td style=\"text-align: right;\">     1.69144e+06</td><td style=\"text-align: right;\">     1.6693e+06 </td><td style=\"text-align: right;\">     1.65039e+06</td><td style=\"text-align: right;\">     1.83755e+06</td><td style=\"text-align: right;\">     1.74388e+06</td><td style=\"text-align: right;\">     1.83468e+06</td><td style=\"text-align: right;\">     1.7693e+06 </td><td style=\"text-align: right;\">     1.95971e+06</td><td style=\"text-align: right;\">     1.92073e+06</td><td style=\"text-align: right;\">     1.90276e+06</td><td style=\"text-align: right;\">     2.6142e+06 </td><td style=\"text-align: right;\">     1.95495e+06</td><td style=\"text-align: right;\">     2.29055e+06</td><td style=\"text-align: right;\">     2.43274e+06</td><td style=\"text-align: right;\">     3.22437e+06</td><td style=\"text-align: right;\">     1.87423e+06</td><td style=\"text-align: right;\">     1.79952e+06</td><td style=\"text-align: right;\">     1.74473e+06</td><td style=\"text-align: right;\">     1.71177e+06</td><td style=\"text-align: right;\">     1.66091e+06</td><td style=\"text-align: right;\">     1.9353e+06 </td><td style=\"text-align: right;\">     2.10332e+06</td><td style=\"text-align: right;\">     2.19669e+06</td><td style=\"text-align: right;\">     1.8618e+06 </td><td style=\"text-align: right;\">     1.95256e+06</td><td style=\"text-align: right;\">     1.93763e+06</td><td style=\"text-align: right;\">     1.97608e+06</td><td style=\"text-align: right;\">     1.79044e+06</td><td style=\"text-align: right;\">     1.85748e+06</td><td style=\"text-align: right;\">     2.12904e+06</td><td style=\"text-align: right;\">     1.93587e+06</td><td style=\"text-align: right;\">     1.84734e+06</td><td style=\"text-align: right;\">     1.76413e+06</td><td style=\"text-align: right;\">     1.92396e+06</td><td style=\"text-align: right;\">     1.91752e+06</td><td style=\"text-align: right;\">     2.00094e+06</td><td style=\"text-align: right;\">     1.91279e+06</td><td style=\"text-align: right;\">     1.91009e+06</td><td style=\"text-align: right;\">     2.01022e+06</td><td style=\"text-align: right;\">     1.96292e+06</td><td style=\"text-align: right;\">     1.88773e+06</td><td style=\"text-align: right;\">     1.88105e+06</td><td style=\"text-align: right;\">     2.04151e+06</td><td style=\"text-align: right;\">     1.83008e+06</td><td style=\"text-align: right;\">     1.81967e+06</td><td style=\"text-align: right;\">     1.75792e+06</td><td style=\"text-align: right;\">     1.9461e+06 </td><td style=\"text-align: right;\">     1.86672e+06</td><td style=\"text-align: right;\">     1.92802e+06</td><td style=\"text-align: right;\">     1.87679e+06</td><td style=\"text-align: right;\">     1.94708e+06</td></tr>\n",
       "<tr><td style=\"text-align: right;\">      3</td><td style=\"text-align: right;\">461622          </td><td style=\"text-align: right;\">420729          </td><td style=\"text-align: right;\">421642          </td><td style=\"text-align: right;\">407205          </td><td style=\"text-align: right;\">415202          </td><td style=\"text-align: right;\">384201          </td><td style=\"text-align: right;\">375329          </td><td style=\"text-align: right;\">359949          </td><td style=\"text-align: right;\">423294          </td><td style=\"text-align: right;\">415870          </td><td style=\"text-align: right;\">354993          </td><td style=\"text-align: right;\">339977          </td><td style=\"text-align: right;\">361248          </td><td style=\"text-align: right;\">399324          </td><td style=\"text-align: right;\">384358          </td><td style=\"text-align: right;\">343763          </td><td style=\"text-align: right;\">350089          </td><td style=\"text-align: right;\">396969          </td><td style=\"text-align: right;\">355017          </td><td style=\"text-align: right;\">364077          </td><td style=\"text-align: right;\">357346          </td><td style=\"text-align: right;\">381152          </td><td style=\"text-align: right;\">349214          </td><td style=\"text-align: right;\">352729          </td><td style=\"text-align: right;\">352864          </td><td style=\"text-align: right;\">347955          </td><td style=\"text-align: right;\">402636          </td><td style=\"text-align: right;\">339597          </td><td style=\"text-align: right;\">351728          </td><td style=\"text-align: right;\">362134          </td><td style=\"text-align: right;\">366474          </td><td style=\"text-align: right;\">352261          </td><td style=\"text-align: right;\">363065          </td><td style=\"text-align: right;\">355627          </td><td style=\"text-align: right;\">358784          </td><td style=\"text-align: right;\">395107          </td><td style=\"text-align: right;\">345584          </td><td style=\"text-align: right;\">348896          </td><td style=\"text-align: right;\">348592          </td><td style=\"text-align: right;\">423176          </td><td style=\"text-align: right;\">386635          </td><td style=\"text-align: right;\">372545          </td><td style=\"text-align: right;\">565568          </td><td style=\"text-align: right;\">476421          </td><td style=\"text-align: right;\">467642          </td><td style=\"text-align: right;\">498159          </td><td style=\"text-align: right;\">605990          </td><td style=\"text-align: right;\">382678          </td><td style=\"text-align: right;\">378241          </td><td style=\"text-align: right;\">381061          </td><td style=\"text-align: right;\">350877          </td><td style=\"text-align: right;\">364866          </td><td style=\"text-align: right;\">438516          </td><td style=\"text-align: right;\">430526          </td><td style=\"text-align: right;\">432782          </td><td style=\"text-align: right;\">397211          </td><td style=\"text-align: right;\">437085          </td><td style=\"text-align: right;\">404753          </td><td style=\"text-align: right;\">392110          </td><td style=\"text-align: right;\">380684          </td><td style=\"text-align: right;\">374556          </td><td style=\"text-align: right;\">384075          </td><td style=\"text-align: right;\">366251          </td><td style=\"text-align: right;\">391860          </td><td style=\"text-align: right;\">367405          </td><td style=\"text-align: right;\">413042          </td><td style=\"text-align: right;\">386313          </td><td style=\"text-align: right;\">364603          </td><td style=\"text-align: right;\">369351          </td><td style=\"text-align: right;\">394508          </td><td style=\"text-align: right;\">391639          </td><td style=\"text-align: right;\">403423          </td><td style=\"text-align: right;\">385521          </td><td style=\"text-align: right;\">368963          </td><td style=\"text-align: right;\">395146          </td><td style=\"text-align: right;\">373454          </td><td style=\"text-align: right;\">360617          </td><td style=\"text-align: right;\">345381          </td><td style=\"text-align: right;\">409981          </td><td style=\"text-align: right;\">380377          </td><td style=\"text-align: right;\">379717          </td><td style=\"text-align: right;\">366368          </td><td style=\"text-align: right;\">375989          </td><td style=\"text-align: right;\">377347          </td><td style=\"text-align: right;\">375630          </td><td style=\"text-align: right;\">365249          </td><td style=\"text-align: right;\">368478          </td><td style=\"text-align: right;\">403342          </td><td style=\"text-align: right;\">368283          </td><td style=\"text-align: right;\">394976          </td><td style=\"text-align: right;\">389541          </td><td style=\"text-align: right;\">459443          </td><td style=\"text-align: right;\">407764          </td><td style=\"text-align: right;\">398839          </td><td style=\"text-align: right;\">556925          </td><td style=\"text-align: right;\">472511          </td><td style=\"text-align: right;\">468773          </td><td style=\"text-align: right;\">510748          </td><td style=\"text-align: right;\">551221          </td><td style=\"text-align: right;\">410554          </td><td style=\"text-align: right;\">398178          </td><td style=\"text-align: right;\">367439          </td><td style=\"text-align: right;\">365819          </td><td style=\"text-align: right;\">349518          </td><td style=\"text-align: right;\">424961          </td><td style=\"text-align: right;\">473292          </td><td style=\"text-align: right;\">475591          </td><td style=\"text-align: right;\">418925          </td><td style=\"text-align: right;\">469753          </td><td style=\"text-align: right;\">445162          </td><td style=\"text-align: right;\">411776          </td><td style=\"text-align: right;\">413907          </td><td style=\"text-align: right;\">407489          </td><td style=\"text-align: right;\">503232          </td><td style=\"text-align: right;\">420790          </td><td style=\"text-align: right;\">434822          </td><td style=\"text-align: right;\">394616          </td><td style=\"text-align: right;\">439914          </td><td style=\"text-align: right;\">431985          </td><td style=\"text-align: right;\">418113          </td><td style=\"text-align: right;\">413701          </td><td style=\"text-align: right;\">432269          </td><td style=\"text-align: right;\">446337          </td><td style=\"text-align: right;\">442075          </td><td style=\"text-align: right;\">419498          </td><td style=\"text-align: right;\">422965          </td><td style=\"text-align: right;\">411206          </td><td style=\"text-align: right;\">416913          </td><td style=\"text-align: right;\">432425          </td><td style=\"text-align: right;\">389428          </td><td style=\"text-align: right;\">419990          </td><td style=\"text-align: right;\">391812          </td><td style=\"text-align: right;\">394919          </td><td style=\"text-align: right;\">412450          </td><td style=\"text-align: right;\">408839          </td></tr>\n",
       "<tr><td style=\"text-align: right;\">      4</td><td style=\"text-align: right;\">     2.13514e+06</td><td style=\"text-align: right;\">     2.18831e+06</td><td style=\"text-align: right;\">     2.04986e+06</td><td style=\"text-align: right;\">     1.92573e+06</td><td style=\"text-align: right;\">     1.97106e+06</td><td style=\"text-align: right;\">     1.89432e+06</td><td style=\"text-align: right;\">     1.89743e+06</td><td style=\"text-align: right;\">     1.76254e+06</td><td style=\"text-align: right;\">     1.97925e+06</td><td style=\"text-align: right;\">     1.81845e+06</td><td style=\"text-align: right;\">     1.85152e+06</td><td style=\"text-align: right;\">     1.80268e+06</td><td style=\"text-align: right;\">     1.81727e+06</td><td style=\"text-align: right;\">     2.00063e+06</td><td style=\"text-align: right;\">     1.8756e+06 </td><td style=\"text-align: right;\">     1.90375e+06</td><td style=\"text-align: right;\">     1.85753e+06</td><td style=\"text-align: right;\">     1.90329e+06</td><td style=\"text-align: right;\">     1.87062e+06</td><td style=\"text-align: right;\">     1.92974e+06</td><td style=\"text-align: right;\">     1.84665e+06</td><td style=\"text-align: right;\">     1.88134e+06</td><td style=\"text-align: right;\">     1.81221e+06</td><td style=\"text-align: right;\">     1.89843e+06</td><td style=\"text-align: right;\">     1.84843e+06</td><td style=\"text-align: right;\">     1.79664e+06</td><td style=\"text-align: right;\">     1.90764e+06</td><td style=\"text-align: right;\">     2.00705e+06</td><td style=\"text-align: right;\">     1.99718e+06</td><td style=\"text-align: right;\">     1.8484e+06 </td><td style=\"text-align: right;\">     1.93586e+06</td><td style=\"text-align: right;\">     1.86582e+06</td><td style=\"text-align: right;\">     1.89996e+06</td><td style=\"text-align: right;\">     1.81068e+06</td><td style=\"text-align: right;\">     1.84282e+06</td><td style=\"text-align: right;\">     1.95149e+06</td><td style=\"text-align: right;\">     1.86735e+06</td><td style=\"text-align: right;\">     1.92761e+06</td><td style=\"text-align: right;\">     1.93333e+06</td><td style=\"text-align: right;\">     2.01312e+06</td><td style=\"text-align: right;\">     1.99979e+06</td><td style=\"text-align: right;\">     2.09781e+06</td><td style=\"text-align: right;\">     2.78947e+06</td><td style=\"text-align: right;\">     2.10253e+06</td><td style=\"text-align: right;\">     2.3025e+06 </td><td style=\"text-align: right;\">     2.74006e+06</td><td style=\"text-align: right;\">     3.52671e+06</td><td style=\"text-align: right;\">     1.79487e+06</td><td style=\"text-align: right;\">     1.86248e+06</td><td style=\"text-align: right;\">     1.8655e+06 </td><td style=\"text-align: right;\">     1.88639e+06</td><td style=\"text-align: right;\">     1.81424e+06</td><td style=\"text-align: right;\">     2.11909e+06</td><td style=\"text-align: right;\">     2.18785e+06</td><td style=\"text-align: right;\">     2.3165e+06 </td><td style=\"text-align: right;\">     2.07809e+06</td><td style=\"text-align: right;\">     2.10346e+06</td><td style=\"text-align: right;\">     2.03982e+06</td><td style=\"text-align: right;\">     2.11648e+06</td><td style=\"text-align: right;\">     1.94416e+06</td><td style=\"text-align: right;\">     1.90025e+06</td><td style=\"text-align: right;\">     2.07495e+06</td><td style=\"text-align: right;\">     1.96059e+06</td><td style=\"text-align: right;\">     2.2206e+06 </td><td style=\"text-align: right;\">     1.87817e+06</td><td style=\"text-align: right;\">     2.06368e+06</td><td style=\"text-align: right;\">     2.00236e+06</td><td style=\"text-align: right;\">     2.01556e+06</td><td style=\"text-align: right;\">     1.9866e+06 </td><td style=\"text-align: right;\">     2.06538e+06</td><td style=\"text-align: right;\">     2.07395e+06</td><td style=\"text-align: right;\">     2.14121e+06</td><td style=\"text-align: right;\">     2.00834e+06</td><td style=\"text-align: right;\">     2.05153e+06</td><td style=\"text-align: right;\">     2.06654e+06</td><td style=\"text-align: right;\">     2.04905e+06</td><td style=\"text-align: right;\">     2.03623e+06</td><td style=\"text-align: right;\">     1.98967e+06</td><td style=\"text-align: right;\">     2.16006e+06</td><td style=\"text-align: right;\">     2.10567e+06</td><td style=\"text-align: right;\">     2.23289e+06</td><td style=\"text-align: right;\">     1.98849e+06</td><td style=\"text-align: right;\">     2.07842e+06</td><td style=\"text-align: right;\">     2.09314e+06</td><td style=\"text-align: right;\">     2.07558e+06</td><td style=\"text-align: right;\">     2.03141e+06</td><td style=\"text-align: right;\">     1.92949e+06</td><td style=\"text-align: right;\">     2.16674e+06</td><td style=\"text-align: right;\">     2.07455e+06</td><td style=\"text-align: right;\">     2.20774e+06</td><td style=\"text-align: right;\">     2.15166e+06</td><td style=\"text-align: right;\">     2.28122e+06</td><td style=\"text-align: right;\">     2.20303e+06</td><td style=\"text-align: right;\">     2.24395e+06</td><td style=\"text-align: right;\">     3.0047e+06 </td><td style=\"text-align: right;\">     2.181e+06  </td><td style=\"text-align: right;\">     2.50896e+06</td><td style=\"text-align: right;\">     2.7714e+06 </td><td style=\"text-align: right;\">     3.67639e+06</td><td style=\"text-align: right;\">     2.00711e+06</td><td style=\"text-align: right;\">     2.04777e+06</td><td style=\"text-align: right;\">     1.94168e+06</td><td style=\"text-align: right;\">     2.0051e+06 </td><td style=\"text-align: right;\">     1.92872e+06</td><td style=\"text-align: right;\">     2.17337e+06</td><td style=\"text-align: right;\">     2.37466e+06</td><td style=\"text-align: right;\">     2.42764e+06</td><td style=\"text-align: right;\">     2.22666e+06</td><td style=\"text-align: right;\">     2.20632e+06</td><td style=\"text-align: right;\">     2.20245e+06</td><td style=\"text-align: right;\">     2.21497e+06</td><td style=\"text-align: right;\">     2.09159e+06</td><td style=\"text-align: right;\">     2.08938e+06</td><td style=\"text-align: right;\">     2.47021e+06</td><td style=\"text-align: right;\">     2.1053e+06 </td><td style=\"text-align: right;\">     2.14434e+06</td><td style=\"text-align: right;\">     2.06407e+06</td><td style=\"text-align: right;\">     2.19697e+06</td><td style=\"text-align: right;\">     2.12766e+06</td><td style=\"text-align: right;\">     2.20721e+06</td><td style=\"text-align: right;\">     2.15414e+06</td><td style=\"text-align: right;\">     2.17936e+06</td><td style=\"text-align: right;\">     2.24526e+06</td><td style=\"text-align: right;\">     2.23419e+06</td><td style=\"text-align: right;\">     2.1973e+06 </td><td style=\"text-align: right;\">     2.12836e+06</td><td style=\"text-align: right;\">     2.2245e+06 </td><td style=\"text-align: right;\">     2.10025e+06</td><td style=\"text-align: right;\">     2.17556e+06</td><td style=\"text-align: right;\">     2.04861e+06</td><td style=\"text-align: right;\">     2.17451e+06</td><td style=\"text-align: right;\">     2.19337e+06</td><td style=\"text-align: right;\">     2.28354e+06</td><td style=\"text-align: right;\">     2.12524e+06</td><td style=\"text-align: right;\">     2.08118e+06</td></tr>\n",
       "<tr><td style=\"text-align: right;\">      5</td><td style=\"text-align: right;\">317173          </td><td style=\"text-align: right;\">311826          </td><td style=\"text-align: right;\">303448          </td><td style=\"text-align: right;\">270282          </td><td style=\"text-align: right;\">288856          </td><td style=\"text-align: right;\">297294          </td><td style=\"text-align: right;\">281706          </td><td style=\"text-align: right;\">273283          </td><td style=\"text-align: right;\">331406          </td><td style=\"text-align: right;\">328020          </td><td style=\"text-align: right;\">306859          </td><td style=\"text-align: right;\">288840          </td><td style=\"text-align: right;\">298698          </td><td style=\"text-align: right;\">333523          </td><td style=\"text-align: right;\">296674          </td><td style=\"text-align: right;\">301615          </td><td style=\"text-align: right;\">310013          </td><td style=\"text-align: right;\">337826          </td><td style=\"text-align: right;\">296642          </td><td style=\"text-align: right;\">313796          </td><td style=\"text-align: right;\">295257          </td><td style=\"text-align: right;\">305993          </td><td style=\"text-align: right;\">291809          </td><td style=\"text-align: right;\">280702          </td><td style=\"text-align: right;\">274743          </td><td style=\"text-align: right;\">268929          </td><td style=\"text-align: right;\">303043          </td><td style=\"text-align: right;\">286477          </td><td style=\"text-align: right;\">287205          </td><td style=\"text-align: right;\">288520          </td><td style=\"text-align: right;\">323798          </td><td style=\"text-align: right;\">306533          </td><td style=\"text-align: right;\">282559          </td><td style=\"text-align: right;\">293132          </td><td style=\"text-align: right;\">283178          </td><td style=\"text-align: right;\">290495          </td><td style=\"text-align: right;\">280681          </td><td style=\"text-align: right;\">284988          </td><td style=\"text-align: right;\">278032          </td><td style=\"text-align: right;\">325310          </td><td style=\"text-align: right;\">301827          </td><td style=\"text-align: right;\">297385          </td><td style=\"text-align: right;\">488363          </td><td style=\"text-align: right;\">344491          </td><td style=\"text-align: right;\">352812          </td><td style=\"text-align: right;\">367801          </td><td style=\"text-align: right;\">466010          </td><td style=\"text-align: right;\">298180          </td><td style=\"text-align: right;\">286347          </td><td style=\"text-align: right;\">260637          </td><td style=\"text-align: right;\">275313          </td><td style=\"text-align: right;\">279088          </td><td style=\"text-align: right;\">329613          </td><td style=\"text-align: right;\">311591          </td><td style=\"text-align: right;\">356623          </td><td style=\"text-align: right;\">294660          </td><td style=\"text-align: right;\">329034          </td><td style=\"text-align: right;\">293098          </td><td style=\"text-align: right;\">312178          </td><td style=\"text-align: right;\">294732          </td><td style=\"text-align: right;\">314317          </td><td style=\"text-align: right;\">307334          </td><td style=\"text-align: right;\">307914          </td><td style=\"text-align: right;\">328415          </td><td style=\"text-align: right;\">307292          </td><td style=\"text-align: right;\">322905          </td><td style=\"text-align: right;\">290930          </td><td style=\"text-align: right;\">299614          </td><td style=\"text-align: right;\">297150          </td><td style=\"text-align: right;\">329184          </td><td style=\"text-align: right;\">304984          </td><td style=\"text-align: right;\">304812          </td><td style=\"text-align: right;\">302882          </td><td style=\"text-align: right;\">327094          </td><td style=\"text-align: right;\">310805          </td><td style=\"text-align: right;\">283249          </td><td style=\"text-align: right;\">292540          </td><td style=\"text-align: right;\">275142          </td><td style=\"text-align: right;\">317739          </td><td style=\"text-align: right;\">289886          </td><td style=\"text-align: right;\">303644          </td><td style=\"text-align: right;\">310338          </td><td style=\"text-align: right;\">315646          </td><td style=\"text-align: right;\">321110          </td><td style=\"text-align: right;\">278530          </td><td style=\"text-align: right;\">291025          </td><td style=\"text-align: right;\">292315          </td><td style=\"text-align: right;\">309111          </td><td style=\"text-align: right;\">286118          </td><td style=\"text-align: right;\">306069          </td><td style=\"text-align: right;\">307035          </td><td style=\"text-align: right;\">353652          </td><td style=\"text-align: right;\">311907          </td><td style=\"text-align: right;\">307944          </td><td style=\"text-align: right;\">507900          </td><td style=\"text-align: right;\">376226          </td><td style=\"text-align: right;\">367434          </td><td style=\"text-align: right;\">379530          </td><td style=\"text-align: right;\">458562          </td><td style=\"text-align: right;\">349625          </td><td style=\"text-align: right;\">312079          </td><td style=\"text-align: right;\">291455          </td><td style=\"text-align: right;\">287524          </td><td style=\"text-align: right;\">295974          </td><td style=\"text-align: right;\">333948          </td><td style=\"text-align: right;\">349240          </td><td style=\"text-align: right;\">356428          </td><td style=\"text-align: right;\">312220          </td><td style=\"text-align: right;\">359206          </td><td style=\"text-align: right;\">347296          </td><td style=\"text-align: right;\">339393          </td><td style=\"text-align: right;\">321300          </td><td style=\"text-align: right;\">331319          </td><td style=\"text-align: right;\">402986          </td><td style=\"text-align: right;\">351832          </td><td style=\"text-align: right;\">330063          </td><td style=\"text-align: right;\">324840          </td><td style=\"text-align: right;\">360933          </td><td style=\"text-align: right;\">333871          </td><td style=\"text-align: right;\">336190          </td><td style=\"text-align: right;\">341994          </td><td style=\"text-align: right;\">359868          </td><td style=\"text-align: right;\">341705          </td><td style=\"text-align: right;\">327384          </td><td style=\"text-align: right;\">325042          </td><td style=\"text-align: right;\">329658          </td><td style=\"text-align: right;\">341214          </td><td style=\"text-align: right;\">316204          </td><td style=\"text-align: right;\">321205          </td><td style=\"text-align: right;\">306827          </td><td style=\"text-align: right;\">324195          </td><td style=\"text-align: right;\">306760          </td><td style=\"text-align: right;\">314014          </td><td style=\"text-align: right;\">320831          </td><td style=\"text-align: right;\">344642          </td></tr>\n",
       "<tr><td style=\"text-align: right;\">      6</td><td style=\"text-align: right;\">     1.65264e+06</td><td style=\"text-align: right;\">     1.60628e+06</td><td style=\"text-align: right;\">     1.56714e+06</td><td style=\"text-align: right;\">     1.43295e+06</td><td style=\"text-align: right;\">     1.60135e+06</td><td style=\"text-align: right;\">     1.55862e+06</td><td style=\"text-align: right;\">     1.69306e+06</td><td style=\"text-align: right;\">     1.47203e+06</td><td style=\"text-align: right;\">     1.77033e+06</td><td style=\"text-align: right;\">     1.66718e+06</td><td style=\"text-align: right;\">     1.51985e+06</td><td style=\"text-align: right;\">     1.54044e+06</td><td style=\"text-align: right;\">     1.49808e+06</td><td style=\"text-align: right;\">     1.61992e+06</td><td style=\"text-align: right;\">     1.52406e+06</td><td style=\"text-align: right;\">     1.53194e+06</td><td style=\"text-align: right;\">     1.64447e+06</td><td style=\"text-align: right;\">     1.85738e+06</td><td style=\"text-align: right;\">     1.68565e+06</td><td style=\"text-align: right;\">     1.67725e+06</td><td style=\"text-align: right;\">     1.64068e+06</td><td style=\"text-align: right;\">     1.75978e+06</td><td style=\"text-align: right;\">     1.69032e+06</td><td style=\"text-align: right;\">     1.56012e+06</td><td style=\"text-align: right;\">     1.58524e+06</td><td style=\"text-align: right;\">     1.53231e+06</td><td style=\"text-align: right;\">     1.63324e+06</td><td style=\"text-align: right;\">     1.54765e+06</td><td style=\"text-align: right;\">     1.53993e+06</td><td style=\"text-align: right;\">     1.45077e+06</td><td style=\"text-align: right;\">     1.51093e+06</td><td style=\"text-align: right;\">     1.42423e+06</td><td style=\"text-align: right;\">     1.30854e+06</td><td style=\"text-align: right;\">     1.27559e+06</td><td style=\"text-align: right;\">     1.32847e+06</td><td style=\"text-align: right;\">     1.36032e+06</td><td style=\"text-align: right;\">     1.34458e+06</td><td style=\"text-align: right;\">     1.33272e+06</td><td style=\"text-align: right;\">     1.38532e+06</td><td style=\"text-align: right;\">     1.50544e+06</td><td style=\"text-align: right;\">     1.49554e+06</td><td style=\"text-align: right;\">     1.51884e+06</td><td style=\"text-align: right;\">     2.26745e+06</td><td style=\"text-align: right;\">     1.67707e+06</td><td style=\"text-align: right;\">     1.83474e+06</td><td style=\"text-align: right;\">     2.09027e+06</td><td style=\"text-align: right;\">     2.72758e+06</td><td style=\"text-align: right;\">     1.46405e+06</td><td style=\"text-align: right;\">     1.35044e+06</td><td style=\"text-align: right;\">     1.30619e+06</td><td style=\"text-align: right;\">     1.26125e+06</td><td style=\"text-align: right;\">     1.28703e+06</td><td style=\"text-align: right;\">     1.515e+06  </td><td style=\"text-align: right;\">     1.48692e+06</td><td style=\"text-align: right;\">     1.57212e+06</td><td style=\"text-align: right;\">     1.4226e+06 </td><td style=\"text-align: right;\">     1.50262e+06</td><td style=\"text-align: right;\">     1.4945e+06 </td><td style=\"text-align: right;\">     1.68538e+06</td><td style=\"text-align: right;\">     1.43847e+06</td><td style=\"text-align: right;\">     1.45928e+06</td><td style=\"text-align: right;\">     1.53459e+06</td><td style=\"text-align: right;\">     1.4488e+06 </td><td style=\"text-align: right;\">     1.63936e+06</td><td style=\"text-align: right;\">     1.47925e+06</td><td style=\"text-align: right;\">     1.50465e+06</td><td style=\"text-align: right;\">     1.45319e+06</td><td style=\"text-align: right;\">     1.38278e+06</td><td style=\"text-align: right;\">     1.52398e+06</td><td style=\"text-align: right;\">     1.70551e+06</td><td style=\"text-align: right;\">     1.59864e+06</td><td style=\"text-align: right;\">     1.62215e+06</td><td style=\"text-align: right;\">     1.54337e+06</td><td style=\"text-align: right;\">     1.69455e+06</td><td style=\"text-align: right;\">     1.70937e+06</td><td style=\"text-align: right;\">     1.5268e+06 </td><td style=\"text-align: right;\">     1.52651e+06</td><td style=\"text-align: right;\">     1.48399e+06</td><td style=\"text-align: right;\">     1.60158e+06</td><td style=\"text-align: right;\">     1.485e+06  </td><td style=\"text-align: right;\">     1.49354e+06</td><td style=\"text-align: right;\">     1.42041e+06</td><td style=\"text-align: right;\">     1.48162e+06</td><td style=\"text-align: right;\">     1.48357e+06</td><td style=\"text-align: right;\">     1.35141e+06</td><td style=\"text-align: right;\">     1.33604e+06</td><td style=\"text-align: right;\">     1.30755e+06</td><td style=\"text-align: right;\">     1.48174e+06</td><td style=\"text-align: right;\">     1.38652e+06</td><td style=\"text-align: right;\">     1.41792e+06</td><td style=\"text-align: right;\">     1.41945e+06</td><td style=\"text-align: right;\">     1.52342e+06</td><td style=\"text-align: right;\">     1.53618e+06</td><td style=\"text-align: right;\">     1.52439e+06</td><td style=\"text-align: right;\">     2.24981e+06</td><td style=\"text-align: right;\">     1.68853e+06</td><td style=\"text-align: right;\">     1.90339e+06</td><td style=\"text-align: right;\">     2.0347e+06 </td><td style=\"text-align: right;\">     2.64463e+06</td><td style=\"text-align: right;\">     1.59808e+06</td><td style=\"text-align: right;\">     1.39534e+06</td><td style=\"text-align: right;\">     1.34424e+06</td><td style=\"text-align: right;\">     1.32626e+06</td><td style=\"text-align: right;\">     1.31561e+06</td><td style=\"text-align: right;\">     1.49631e+06</td><td style=\"text-align: right;\">     1.6206e+06 </td><td style=\"text-align: right;\">     1.63262e+06</td><td style=\"text-align: right;\">     1.46519e+06</td><td style=\"text-align: right;\">     1.55039e+06</td><td style=\"text-align: right;\">     1.5693e+06 </td><td style=\"text-align: right;\">     1.74801e+06</td><td style=\"text-align: right;\">     1.49514e+06</td><td style=\"text-align: right;\">     1.50893e+06</td><td style=\"text-align: right;\">     1.84013e+06</td><td style=\"text-align: right;\">     1.61639e+06</td><td style=\"text-align: right;\">     1.45607e+06</td><td style=\"text-align: right;\">     1.45622e+06</td><td style=\"text-align: right;\">     1.54346e+06</td><td style=\"text-align: right;\">     1.51708e+06</td><td style=\"text-align: right;\">     1.51364e+06</td><td style=\"text-align: right;\">     1.60379e+06</td><td style=\"text-align: right;\">     1.68112e+06</td><td style=\"text-align: right;\">     1.69662e+06</td><td style=\"text-align: right;\">     1.64225e+06</td><td style=\"text-align: right;\">     1.61827e+06</td><td style=\"text-align: right;\">     1.64886e+06</td><td style=\"text-align: right;\">     1.87636e+06</td><td style=\"text-align: right;\">     1.58814e+06</td><td style=\"text-align: right;\">     1.57436e+06</td><td style=\"text-align: right;\">     1.51323e+06</td><td style=\"text-align: right;\">     1.62728e+06</td><td style=\"text-align: right;\">     1.58838e+06</td><td style=\"text-align: right;\">     1.54305e+06</td><td style=\"text-align: right;\">     1.5011e+06 </td><td style=\"text-align: right;\">     1.57744e+06</td></tr>\n",
       "<tr><td style=\"text-align: right;\">      7</td><td style=\"text-align: right;\">496725          </td><td style=\"text-align: right;\">524105          </td><td style=\"text-align: right;\">506761          </td><td style=\"text-align: right;\">496083          </td><td style=\"text-align: right;\">491420          </td><td style=\"text-align: right;\">480452          </td><td style=\"text-align: right;\">574450          </td><td style=\"text-align: right;\">514732          </td><td style=\"text-align: right;\">561145          </td><td style=\"text-align: right;\">484263          </td><td style=\"text-align: right;\">406228          </td><td style=\"text-align: right;\">404751          </td><td style=\"text-align: right;\">373656          </td><td style=\"text-align: right;\">395454          </td><td style=\"text-align: right;\">372674          </td><td style=\"text-align: right;\">395196          </td><td style=\"text-align: right;\">442735          </td><td style=\"text-align: right;\">509183          </td><td style=\"text-align: right;\">498581          </td><td style=\"text-align: right;\">481144          </td><td style=\"text-align: right;\">553715          </td><td style=\"text-align: right;\">575571          </td><td style=\"text-align: right;\">593462          </td><td style=\"text-align: right;\">557166          </td><td style=\"text-align: right;\">570231          </td><td style=\"text-align: right;\">603547          </td><td style=\"text-align: right;\">643854          </td><td style=\"text-align: right;\">598185          </td><td style=\"text-align: right;\">582353          </td><td style=\"text-align: right;\">554309          </td><td style=\"text-align: right;\">532765          </td><td style=\"text-align: right;\">535769          </td><td style=\"text-align: right;\">489409          </td><td style=\"text-align: right;\">488009          </td><td style=\"text-align: right;\">448999          </td><td style=\"text-align: right;\">480240          </td><td style=\"text-align: right;\">463370          </td><td style=\"text-align: right;\">472451          </td><td style=\"text-align: right;\">465493          </td><td style=\"text-align: right;\">480512          </td><td style=\"text-align: right;\">507584          </td><td style=\"text-align: right;\">482528          </td><td style=\"text-align: right;\">835189          </td><td style=\"text-align: right;\">552812          </td><td style=\"text-align: right;\">599730          </td><td style=\"text-align: right;\">716389          </td><td style=\"text-align: right;\">     1.04512e+06</td><td style=\"text-align: right;\">729572          </td><td style=\"text-align: right;\">661164          </td><td style=\"text-align: right;\">547385          </td><td style=\"text-align: right;\">521539          </td><td style=\"text-align: right;\">513372          </td><td style=\"text-align: right;\">558028          </td><td style=\"text-align: right;\">559903          </td><td style=\"text-align: right;\">572387          </td><td style=\"text-align: right;\">546691          </td><td style=\"text-align: right;\">551378          </td><td style=\"text-align: right;\">558964          </td><td style=\"text-align: right;\">635015          </td><td style=\"text-align: right;\">559062          </td><td style=\"text-align: right;\">513410          </td><td style=\"text-align: right;\">500552          </td><td style=\"text-align: right;\">423380          </td><td style=\"text-align: right;\">466595          </td><td style=\"text-align: right;\">410430          </td><td style=\"text-align: right;\">407012          </td><td style=\"text-align: right;\">414094          </td><td style=\"text-align: right;\">424671          </td><td style=\"text-align: right;\">457217          </td><td style=\"text-align: right;\">542295          </td><td style=\"text-align: right;\">621100          </td><td style=\"text-align: right;\">610991          </td><td style=\"text-align: right;\">640044          </td><td style=\"text-align: right;\">704344          </td><td style=\"text-align: right;\">761794          </td><td style=\"text-align: right;\">642748          </td><td style=\"text-align: right;\">688044          </td><td style=\"text-align: right;\">653383          </td><td style=\"text-align: right;\">695393          </td><td style=\"text-align: right;\">670670          </td><td style=\"text-align: right;\">645156          </td><td style=\"text-align: right;\">629994          </td><td style=\"text-align: right;\">592355          </td><td style=\"text-align: right;\">613135          </td><td style=\"text-align: right;\">558981          </td><td style=\"text-align: right;\">536145          </td><td style=\"text-align: right;\">488880          </td><td style=\"text-align: right;\">525866          </td><td style=\"text-align: right;\">501959          </td><td style=\"text-align: right;\">558691          </td><td style=\"text-align: right;\">527340          </td><td style=\"text-align: right;\">564536          </td><td style=\"text-align: right;\">556016          </td><td style=\"text-align: right;\">539827          </td><td style=\"text-align: right;\">949076          </td><td style=\"text-align: right;\">591908          </td><td style=\"text-align: right;\">653845          </td><td style=\"text-align: right;\">720242          </td><td style=\"text-align: right;\">     1.05972e+06</td><td style=\"text-align: right;\">815916          </td><td style=\"text-align: right;\">713118          </td><td style=\"text-align: right;\">593875          </td><td style=\"text-align: right;\">578003          </td><td style=\"text-align: right;\">541038          </td><td style=\"text-align: right;\">580453          </td><td style=\"text-align: right;\">563461          </td><td style=\"text-align: right;\">620908          </td><td style=\"text-align: right;\">603041          </td><td style=\"text-align: right;\">551058          </td><td style=\"text-align: right;\">579166          </td><td style=\"text-align: right;\">669206          </td><td style=\"text-align: right;\">615997          </td><td style=\"text-align: right;\">583322          </td><td style=\"text-align: right;\">621426          </td><td style=\"text-align: right;\">517420          </td><td style=\"text-align: right;\">457340          </td><td style=\"text-align: right;\">467828          </td><td style=\"text-align: right;\">465199          </td><td style=\"text-align: right;\">460397          </td><td style=\"text-align: right;\">468428          </td><td style=\"text-align: right;\">532740          </td><td style=\"text-align: right;\">598495          </td><td style=\"text-align: right;\">642964          </td><td style=\"text-align: right;\">666942          </td><td style=\"text-align: right;\">687345          </td><td style=\"text-align: right;\">704335          </td><td style=\"text-align: right;\">805643          </td><td style=\"text-align: right;\">694151          </td><td style=\"text-align: right;\">686346          </td><td style=\"text-align: right;\">686365          </td><td style=\"text-align: right;\">680955          </td><td style=\"text-align: right;\">675926          </td><td style=\"text-align: right;\">642450          </td><td style=\"text-align: right;\">609099          </td><td style=\"text-align: right;\">586467          </td></tr>\n",
       "<tr><td style=\"text-align: right;\">      8</td><td style=\"text-align: right;\">     1.00414e+06</td><td style=\"text-align: right;\">994801          </td><td style=\"text-align: right;\">963960          </td><td style=\"text-align: right;\">847592          </td><td style=\"text-align: right;\">881504          </td><td style=\"text-align: right;\">860336          </td><td style=\"text-align: right;\">839911          </td><td style=\"text-align: right;\">772539          </td><td style=\"text-align: right;\">914501          </td><td style=\"text-align: right;\">916034          </td><td style=\"text-align: right;\">882917          </td><td style=\"text-align: right;\">850440          </td><td style=\"text-align: right;\">778673          </td><td style=\"text-align: right;\">916821          </td><td style=\"text-align: right;\">873338          </td><td style=\"text-align: right;\">818333          </td><td style=\"text-align: right;\">868042          </td><td style=\"text-align: right;\">958225          </td><td style=\"text-align: right;\">914836          </td><td style=\"text-align: right;\">869923          </td><td style=\"text-align: right;\">814919          </td><td style=\"text-align: right;\">852334          </td><td style=\"text-align: right;\">845290          </td><td style=\"text-align: right;\">848631          </td><td style=\"text-align: right;\">785516          </td><td style=\"text-align: right;\">787295          </td><td style=\"text-align: right;\">893400          </td><td style=\"text-align: right;\">867919          </td><td style=\"text-align: right;\">870676          </td><td style=\"text-align: right;\">888817          </td><td style=\"text-align: right;\">899036          </td><td style=\"text-align: right;\">831425          </td><td style=\"text-align: right;\">836708          </td><td style=\"text-align: right;\">773725          </td><td style=\"text-align: right;\">804105          </td><td style=\"text-align: right;\">870350          </td><td style=\"text-align: right;\">826547          </td><td style=\"text-align: right;\">836419          </td><td style=\"text-align: right;\">830757          </td><td style=\"text-align: right;\">927266          </td><td style=\"text-align: right;\">911539          </td><td style=\"text-align: right;\">885608          </td><td style=\"text-align: right;\">     1.26169e+06</td><td style=\"text-align: right;\">952767          </td><td style=\"text-align: right;\">     1.06906e+06</td><td style=\"text-align: right;\">     1.22058e+06</td><td style=\"text-align: right;\">     1.51164e+06</td><td style=\"text-align: right;\">773586          </td><td style=\"text-align: right;\">873065          </td><td style=\"text-align: right;\">809647          </td><td style=\"text-align: right;\">822668          </td><td style=\"text-align: right;\">782257          </td><td style=\"text-align: right;\">944595          </td><td style=\"text-align: right;\">996147          </td><td style=\"text-align: right;\">     1.06511e+06</td><td style=\"text-align: right;\">917317          </td><td style=\"text-align: right;\">935266          </td><td style=\"text-align: right;\">900387          </td><td style=\"text-align: right;\">898289          </td><td style=\"text-align: right;\">827968          </td><td style=\"text-align: right;\">878762          </td><td style=\"text-align: right;\">949826          </td><td style=\"text-align: right;\">908279          </td><td style=\"text-align: right;\">937473          </td><td style=\"text-align: right;\">855015          </td><td style=\"text-align: right;\">941457          </td><td style=\"text-align: right;\">895763          </td><td style=\"text-align: right;\">836050          </td><td style=\"text-align: right;\">857939          </td><td style=\"text-align: right;\">929222          </td><td style=\"text-align: right;\">897309          </td><td style=\"text-align: right;\">922048          </td><td style=\"text-align: right;\">864881          </td><td style=\"text-align: right;\">883683          </td><td style=\"text-align: right;\">861965          </td><td style=\"text-align: right;\">849925          </td><td style=\"text-align: right;\">829902          </td><td style=\"text-align: right;\">807082          </td><td style=\"text-align: right;\">892394          </td><td style=\"text-align: right;\">856796          </td><td style=\"text-align: right;\">895066          </td><td style=\"text-align: right;\">912543          </td><td style=\"text-align: right;\">891387          </td><td style=\"text-align: right;\">848358          </td><td style=\"text-align: right;\">870972          </td><td style=\"text-align: right;\">806444          </td><td style=\"text-align: right;\">809049          </td><td style=\"text-align: right;\">929977          </td><td style=\"text-align: right;\">863188          </td><td style=\"text-align: right;\">905984          </td><td style=\"text-align: right;\">876712          </td><td style=\"text-align: right;\">947815          </td><td style=\"text-align: right;\">917088          </td><td style=\"text-align: right;\">897032          </td><td style=\"text-align: right;\">     1.23516e+06</td><td style=\"text-align: right;\">986601          </td><td style=\"text-align: right;\">     1.05192e+06</td><td style=\"text-align: right;\">     1.11816e+06</td><td style=\"text-align: right;\">     1.46225e+06</td><td style=\"text-align: right;\">858572          </td><td style=\"text-align: right;\">872113          </td><td style=\"text-align: right;\">817662          </td><td style=\"text-align: right;\">813955          </td><td style=\"text-align: right;\">778179          </td><td style=\"text-align: right;\">927611          </td><td style=\"text-align: right;\">     1.0214e+06 </td><td style=\"text-align: right;\">     1.09623e+06</td><td style=\"text-align: right;\">928538          </td><td style=\"text-align: right;\">952265          </td><td style=\"text-align: right;\">960116          </td><td style=\"text-align: right;\">921178          </td><td style=\"text-align: right;\">874223          </td><td style=\"text-align: right;\">905935          </td><td style=\"text-align: right;\">     1.04682e+06</td><td style=\"text-align: right;\">909989          </td><td style=\"text-align: right;\">872288          </td><td style=\"text-align: right;\">879448          </td><td style=\"text-align: right;\">937232          </td><td style=\"text-align: right;\">920129          </td><td style=\"text-align: right;\">913922          </td><td style=\"text-align: right;\">895157          </td><td style=\"text-align: right;\">921161          </td><td style=\"text-align: right;\">928820          </td><td style=\"text-align: right;\">916919          </td><td style=\"text-align: right;\">899450          </td><td style=\"text-align: right;\">878298          </td><td style=\"text-align: right;\">936206          </td><td style=\"text-align: right;\">890488          </td><td style=\"text-align: right;\">888834          </td><td style=\"text-align: right;\">838228          </td><td style=\"text-align: right;\">897077          </td><td style=\"text-align: right;\">930746          </td><td style=\"text-align: right;\">896613          </td><td style=\"text-align: right;\">936374          </td><td style=\"text-align: right;\">976138          </td></tr>\n",
       "<tr><td style=\"text-align: right;\">      9</td><td style=\"text-align: right;\">549506          </td><td style=\"text-align: right;\">552677          </td><td style=\"text-align: right;\">511328          </td><td style=\"text-align: right;\">473773          </td><td style=\"text-align: right;\">507298          </td><td style=\"text-align: right;\">494146          </td><td style=\"text-align: right;\">485745          </td><td style=\"text-align: right;\">484947          </td><td style=\"text-align: right;\">545206          </td><td style=\"text-align: right;\">529384          </td><td style=\"text-align: right;\">485764          </td><td style=\"text-align: right;\">488684          </td><td style=\"text-align: right;\">491723          </td><td style=\"text-align: right;\">526129          </td><td style=\"text-align: right;\">492793          </td><td style=\"text-align: right;\">506275          </td><td style=\"text-align: right;\">558144          </td><td style=\"text-align: right;\">586061          </td><td style=\"text-align: right;\">522716          </td><td style=\"text-align: right;\">513074          </td><td style=\"text-align: right;\">509263          </td><td style=\"text-align: right;\">528833          </td><td style=\"text-align: right;\">485389          </td><td style=\"text-align: right;\">474031          </td><td style=\"text-align: right;\">462676          </td><td style=\"text-align: right;\">468675          </td><td style=\"text-align: right;\">522815          </td><td style=\"text-align: right;\">481898          </td><td style=\"text-align: right;\">499325          </td><td style=\"text-align: right;\">506790          </td><td style=\"text-align: right;\">511049          </td><td style=\"text-align: right;\">484835          </td><td style=\"text-align: right;\">463449          </td><td style=\"text-align: right;\">452905          </td><td style=\"text-align: right;\">495692          </td><td style=\"text-align: right;\">505069          </td><td style=\"text-align: right;\">454770          </td><td style=\"text-align: right;\">466323          </td><td style=\"text-align: right;\">508802          </td><td style=\"text-align: right;\">517870          </td><td style=\"text-align: right;\">520847          </td><td style=\"text-align: right;\">519823          </td><td style=\"text-align: right;\">768071          </td><td style=\"text-align: right;\">578165          </td><td style=\"text-align: right;\">618122          </td><td style=\"text-align: right;\">685243          </td><td style=\"text-align: right;\">873348          </td><td style=\"text-align: right;\">459771          </td><td style=\"text-align: right;\">490982          </td><td style=\"text-align: right;\">458087          </td><td style=\"text-align: right;\">454022          </td><td style=\"text-align: right;\">463561          </td><td style=\"text-align: right;\">544612          </td><td style=\"text-align: right;\">555279          </td><td style=\"text-align: right;\">610986          </td><td style=\"text-align: right;\">513107          </td><td style=\"text-align: right;\">542016          </td><td style=\"text-align: right;\">517784          </td><td style=\"text-align: right;\">515226          </td><td style=\"text-align: right;\">497488          </td><td style=\"text-align: right;\">520962          </td><td style=\"text-align: right;\">561626          </td><td style=\"text-align: right;\">528420          </td><td style=\"text-align: right;\">549502          </td><td style=\"text-align: right;\">532226          </td><td style=\"text-align: right;\">545251          </td><td style=\"text-align: right;\">539126          </td><td style=\"text-align: right;\">518267          </td><td style=\"text-align: right;\">553834          </td><td style=\"text-align: right;\">587004          </td><td style=\"text-align: right;\">550076          </td><td style=\"text-align: right;\">558671          </td><td style=\"text-align: right;\">538746          </td><td style=\"text-align: right;\">537064          </td><td style=\"text-align: right;\">535983          </td><td style=\"text-align: right;\">512834          </td><td style=\"text-align: right;\">491450          </td><td style=\"text-align: right;\">471450          </td><td style=\"text-align: right;\">554880          </td><td style=\"text-align: right;\">520285          </td><td style=\"text-align: right;\">540819          </td><td style=\"text-align: right;\">542664          </td><td style=\"text-align: right;\">544643          </td><td style=\"text-align: right;\">528785          </td><td style=\"text-align: right;\">500274          </td><td style=\"text-align: right;\">506744          </td><td style=\"text-align: right;\">508567          </td><td style=\"text-align: right;\">553837          </td><td style=\"text-align: right;\">529516          </td><td style=\"text-align: right;\">557075          </td><td style=\"text-align: right;\">548527          </td><td style=\"text-align: right;\">597855          </td><td style=\"text-align: right;\">594574          </td><td style=\"text-align: right;\">542414          </td><td style=\"text-align: right;\">814753          </td><td style=\"text-align: right;\">613115          </td><td style=\"text-align: right;\">630327          </td><td style=\"text-align: right;\">705558          </td><td style=\"text-align: right;\">905325          </td><td style=\"text-align: right;\">549788          </td><td style=\"text-align: right;\">519586          </td><td style=\"text-align: right;\">474965          </td><td style=\"text-align: right;\">480130          </td><td style=\"text-align: right;\">482451          </td><td style=\"text-align: right;\">549968          </td><td style=\"text-align: right;\">609736          </td><td style=\"text-align: right;\">658965          </td><td style=\"text-align: right;\">563579          </td><td style=\"text-align: right;\">619498          </td><td style=\"text-align: right;\">574956          </td><td style=\"text-align: right;\">550374          </td><td style=\"text-align: right;\">550791          </td><td style=\"text-align: right;\">574985          </td><td style=\"text-align: right;\">677886          </td><td style=\"text-align: right;\">578540          </td><td style=\"text-align: right;\">542819          </td><td style=\"text-align: right;\">550415          </td><td style=\"text-align: right;\">586289          </td><td style=\"text-align: right;\">592572          </td><td style=\"text-align: right;\">571464          </td><td style=\"text-align: right;\">547226          </td><td style=\"text-align: right;\">583649          </td><td style=\"text-align: right;\">582525          </td><td style=\"text-align: right;\">564606          </td><td style=\"text-align: right;\">562173          </td><td style=\"text-align: right;\">544771          </td><td style=\"text-align: right;\">578790          </td><td style=\"text-align: right;\">536538          </td><td style=\"text-align: right;\">513992          </td><td style=\"text-align: right;\">495951          </td><td style=\"text-align: right;\">533888          </td><td style=\"text-align: right;\">538713          </td><td style=\"text-align: right;\">535153          </td><td style=\"text-align: right;\">572888          </td><td style=\"text-align: right;\">576879          </td></tr>\n",
       "<tr><td style=\"text-align: right;\">     10</td><td style=\"text-align: right;\">     2.19305e+06</td><td style=\"text-align: right;\">     2.17603e+06</td><td style=\"text-align: right;\">     2.11343e+06</td><td style=\"text-align: right;\">     2.00677e+06</td><td style=\"text-align: right;\">     1.98709e+06</td><td style=\"text-align: right;\">     1.94135e+06</td><td style=\"text-align: right;\">     1.94688e+06</td><td style=\"text-align: right;\">     1.89353e+06</td><td style=\"text-align: right;\">     2.13865e+06</td><td style=\"text-align: right;\">     2.04107e+06</td><td style=\"text-align: right;\">     1.82624e+06</td><td style=\"text-align: right;\">     1.82952e+06</td><td style=\"text-align: right;\">     1.79069e+06</td><td style=\"text-align: right;\">     1.92143e+06</td><td style=\"text-align: right;\">     1.80806e+06</td><td style=\"text-align: right;\">     1.84761e+06</td><td style=\"text-align: right;\">     1.90462e+06</td><td style=\"text-align: right;\">     1.93141e+06</td><td style=\"text-align: right;\">     1.82752e+06</td><td style=\"text-align: right;\">     1.83764e+06</td><td style=\"text-align: right;\">     1.76817e+06</td><td style=\"text-align: right;\">     1.84589e+06</td><td style=\"text-align: right;\">     1.76979e+06</td><td style=\"text-align: right;\">     1.82805e+06</td><td style=\"text-align: right;\">     1.83168e+06</td><td style=\"text-align: right;\">     1.83266e+06</td><td style=\"text-align: right;\">     1.94924e+06</td><td style=\"text-align: right;\">     1.963e+06  </td><td style=\"text-align: right;\">     1.98319e+06</td><td style=\"text-align: right;\">     1.72757e+06</td><td style=\"text-align: right;\">     1.76633e+06</td><td style=\"text-align: right;\">     1.72053e+06</td><td style=\"text-align: right;\">     1.71676e+06</td><td style=\"text-align: right;\">     1.65504e+06</td><td style=\"text-align: right;\">     1.64589e+06</td><td style=\"text-align: right;\">     1.77219e+06</td><td style=\"text-align: right;\">     1.70385e+06</td><td style=\"text-align: right;\">     1.74023e+06</td><td style=\"text-align: right;\">     1.74131e+06</td><td style=\"text-align: right;\">     1.83221e+06</td><td style=\"text-align: right;\">     1.8959e+06 </td><td style=\"text-align: right;\">     1.94918e+06</td><td style=\"text-align: right;\">     2.93995e+06</td><td style=\"text-align: right;\">     2.25121e+06</td><td style=\"text-align: right;\">     2.41179e+06</td><td style=\"text-align: right;\">     2.81165e+06</td><td style=\"text-align: right;\">     3.74906e+06</td><td style=\"text-align: right;\">     1.7073e+06 </td><td style=\"text-align: right;\">     1.71431e+06</td><td style=\"text-align: right;\">     1.7108e+06 </td><td style=\"text-align: right;\">     1.67756e+06</td><td style=\"text-align: right;\">     1.71577e+06</td><td style=\"text-align: right;\">     1.96805e+06</td><td style=\"text-align: right;\">     2.11541e+06</td><td style=\"text-align: right;\">     2.10693e+06</td><td style=\"text-align: right;\">     1.968e+06  </td><td style=\"text-align: right;\">     1.958e+06  </td><td style=\"text-align: right;\">     1.93347e+06</td><td style=\"text-align: right;\">     1.88473e+06</td><td style=\"text-align: right;\">     1.8158e+06 </td><td style=\"text-align: right;\">     1.82773e+06</td><td style=\"text-align: right;\">     1.87072e+06</td><td style=\"text-align: right;\">     1.78177e+06</td><td style=\"text-align: right;\">     2.00483e+06</td><td style=\"text-align: right;\">     1.87365e+06</td><td style=\"text-align: right;\">     1.84137e+06</td><td style=\"text-align: right;\">     1.713e+06  </td><td style=\"text-align: right;\">     1.72091e+06</td><td style=\"text-align: right;\">     1.743e+06  </td><td style=\"text-align: right;\">     1.79221e+06</td><td style=\"text-align: right;\">     1.74006e+06</td><td style=\"text-align: right;\">     1.81793e+06</td><td style=\"text-align: right;\">     1.71181e+06</td><td style=\"text-align: right;\">     1.75137e+06</td><td style=\"text-align: right;\">     1.69971e+06</td><td style=\"text-align: right;\">     1.77507e+06</td><td style=\"text-align: right;\">     1.77434e+06</td><td style=\"text-align: right;\">     1.74584e+06</td><td style=\"text-align: right;\">     1.8863e+06 </td><td style=\"text-align: right;\">     1.9174e+06 </td><td style=\"text-align: right;\">     1.95485e+06</td><td style=\"text-align: right;\">     1.7284e+06 </td><td style=\"text-align: right;\">     1.75859e+06</td><td style=\"text-align: right;\">     1.67058e+06</td><td style=\"text-align: right;\">     1.65089e+06</td><td style=\"text-align: right;\">     1.68591e+06</td><td style=\"text-align: right;\">     1.62771e+06</td><td style=\"text-align: right;\">     1.78823e+06</td><td style=\"text-align: right;\">     1.70475e+06</td><td style=\"text-align: right;\">     1.74593e+06</td><td style=\"text-align: right;\">     1.77179e+06</td><td style=\"text-align: right;\">     1.90444e+06</td><td style=\"text-align: right;\">     2.07657e+06</td><td style=\"text-align: right;\">     1.86909e+06</td><td style=\"text-align: right;\">     2.9502e+06 </td><td style=\"text-align: right;\">     2.0681e+06 </td><td style=\"text-align: right;\">     2.42931e+06</td><td style=\"text-align: right;\">     2.55503e+06</td><td style=\"text-align: right;\">     3.48799e+06</td><td style=\"text-align: right;\">     1.93069e+06</td><td style=\"text-align: right;\">     1.6834e+06 </td><td style=\"text-align: right;\">     1.71156e+06</td><td style=\"text-align: right;\">     1.67556e+06</td><td style=\"text-align: right;\">     1.63241e+06</td><td style=\"text-align: right;\">     1.8674e+06 </td><td style=\"text-align: right;\">     2.2186e+06 </td><td style=\"text-align: right;\">     2.16871e+06</td><td style=\"text-align: right;\">     2.03942e+06</td><td style=\"text-align: right;\">     1.99037e+06</td><td style=\"text-align: right;\">     1.91748e+06</td><td style=\"text-align: right;\">     1.93081e+06</td><td style=\"text-align: right;\">     1.83746e+06</td><td style=\"text-align: right;\">     1.81576e+06</td><td style=\"text-align: right;\">     2.16338e+06</td><td style=\"text-align: right;\">     1.97469e+06</td><td style=\"text-align: right;\">     1.77717e+06</td><td style=\"text-align: right;\">     1.71299e+06</td><td style=\"text-align: right;\">     1.82136e+06</td><td style=\"text-align: right;\">     1.79235e+06</td><td style=\"text-align: right;\">     1.79515e+06</td><td style=\"text-align: right;\">     1.83094e+06</td><td style=\"text-align: right;\">     1.76747e+06</td><td style=\"text-align: right;\">     1.84049e+06</td><td style=\"text-align: right;\">     1.81156e+06</td><td style=\"text-align: right;\">     1.75533e+06</td><td style=\"text-align: right;\">     1.70748e+06</td><td style=\"text-align: right;\">     1.806e+06  </td><td style=\"text-align: right;\">     1.76557e+06</td><td style=\"text-align: right;\">     1.86997e+06</td><td style=\"text-align: right;\">     1.8176e+06 </td><td style=\"text-align: right;\">     1.93944e+06</td><td style=\"text-align: right;\">     1.88044e+06</td><td style=\"text-align: right;\">     1.8278e+06 </td><td style=\"text-align: right;\">     1.76498e+06</td><td style=\"text-align: right;\">     1.65029e+06</td></tr>\n",
       "</tbody>\n",
       "</table>"
      ]
     },
     "metadata": {},
     "output_type": "display_data"
    },
    {
     "data": {
      "text/plain": []
     },
     "execution_count": 162,
     "metadata": {},
     "output_type": "execute_result"
    }
   ],
   "source": [
    "df_h2o.head()"
   ]
  },
  {
   "cell_type": "code",
   "execution_count": 163,
   "id": "4d31201f",
   "metadata": {},
   "outputs": [
    {
     "name": "stdout",
     "output_type": "stream",
     "text": [
      "kmeans Model Build progress: |███████████████████████████████████████████████████| (done) 100%\n"
     ]
    }
   ],
   "source": [
    "from h2o.estimators.kmeans import H2OKMeansEstimator\n",
    "\n",
    "kmeans_default = H2OKMeansEstimator(estimate_k = True, # Let Kmeans chose the optimal number of clusters\n",
    "                                    k = 20, # Max number of clusters\n",
    "                                    model_id = \"kmeans_default.hex\")\n",
    "\n",
    "kmeans_default.train(training_frame = df_h2o, x=[i for i in df_h2o.col_names if i != 'Store']);"
   ]
  },
  {
   "cell_type": "code",
   "execution_count": 164,
   "id": "a2be4bfa",
   "metadata": {},
   "outputs": [],
   "source": [
    "def get_table_data(data, model):\n",
    "    clusters = model.predict(data)\n",
    "    clusters.col_names = ['cluster']\n",
    "    ext_data = clusters.cbind(data)\n",
    "    \n",
    "    return ext_data"
   ]
  },
  {
   "cell_type": "code",
   "execution_count": 173,
   "id": "a4c9e283",
   "metadata": {},
   "outputs": [],
   "source": [
    "def get_cluster_plot(data, model):\n",
    "    ext_data = data[[i for i in df_h2o.col_names if i != 'Store']].cbind(model.predict(data))\n",
    "    \n",
    "    ts_clusters = ext_data.group_by('predict').mean().get_frame()\n",
    "    ts_clusters.col_names = [i.replace(\"mean_\", \"\") for i in ts_clusters.col_names]\n",
    "    ts_clusters.col_names = [\"cluster\"] + ts_clusters.col_names[1::]\n",
    "    \n",
    "    return ts_clusters"
   ]
  },
  {
   "cell_type": "code",
   "execution_count": 150,
   "id": "ffcd7961",
   "metadata": {},
   "outputs": [
    {
     "data": {
      "text/html": [
       "<table>\n",
       "<thead>\n",
       "<tr><th style=\"text-align: right;\">      2010-02-05</th><th style=\"text-align: right;\">      2010-02-12</th><th style=\"text-align: right;\">      2010-02-19</th><th style=\"text-align: right;\">      2010-02-26</th><th style=\"text-align: right;\">      2010-03-05</th><th style=\"text-align: right;\">      2010-03-12</th><th style=\"text-align: right;\">      2010-03-19</th><th style=\"text-align: right;\">      2010-03-26</th><th style=\"text-align: right;\">      2010-04-02</th><th style=\"text-align: right;\">      2010-04-09</th><th style=\"text-align: right;\">      2010-04-16</th><th style=\"text-align: right;\">      2010-04-23</th><th style=\"text-align: right;\">      2010-04-30</th><th style=\"text-align: right;\">      2010-05-07</th><th style=\"text-align: right;\">      2010-05-14</th><th style=\"text-align: right;\">      2010-05-21</th><th style=\"text-align: right;\">      2010-05-28</th><th style=\"text-align: right;\">      2010-06-04</th><th style=\"text-align: right;\">      2010-06-11</th><th style=\"text-align: right;\">      2010-06-18</th><th style=\"text-align: right;\">      2010-06-25</th><th style=\"text-align: right;\">      2010-07-02</th><th style=\"text-align: right;\">      2010-07-09</th><th style=\"text-align: right;\">      2010-07-16</th><th style=\"text-align: right;\">      2010-07-23</th><th style=\"text-align: right;\">      2010-07-30</th><th style=\"text-align: right;\">      2010-08-06</th><th style=\"text-align: right;\">      2010-08-13</th><th style=\"text-align: right;\">      2010-08-20</th><th style=\"text-align: right;\">      2010-08-27</th><th style=\"text-align: right;\">      2010-09-03</th><th style=\"text-align: right;\">      2010-09-10</th><th style=\"text-align: right;\">      2010-09-17</th><th style=\"text-align: right;\">      2010-09-24</th><th style=\"text-align: right;\">      2010-10-01</th><th style=\"text-align: right;\">      2010-10-08</th><th style=\"text-align: right;\">      2010-10-15</th><th style=\"text-align: right;\">      2010-10-22</th><th style=\"text-align: right;\">      2010-10-29</th><th style=\"text-align: right;\">      2010-11-05</th><th style=\"text-align: right;\">      2010-11-12</th><th style=\"text-align: right;\">      2010-11-19</th><th style=\"text-align: right;\">      2010-11-26</th><th style=\"text-align: right;\">      2010-12-03</th><th style=\"text-align: right;\">      2010-12-10</th><th style=\"text-align: right;\">      2010-12-17</th><th style=\"text-align: right;\">      2010-12-24</th><th style=\"text-align: right;\">      2010-12-31</th><th style=\"text-align: right;\">      2011-01-07</th><th style=\"text-align: right;\">      2011-01-14</th><th style=\"text-align: right;\">      2011-01-21</th><th style=\"text-align: right;\">      2011-01-28</th><th style=\"text-align: right;\">      2011-02-04</th><th style=\"text-align: right;\">      2011-02-11</th><th style=\"text-align: right;\">      2011-02-18</th><th style=\"text-align: right;\">      2011-02-25</th><th style=\"text-align: right;\">      2011-03-04</th><th style=\"text-align: right;\">      2011-03-11</th><th style=\"text-align: right;\">      2011-03-18</th><th style=\"text-align: right;\">      2011-03-25</th><th style=\"text-align: right;\">      2011-04-01</th><th style=\"text-align: right;\">      2011-04-08</th><th style=\"text-align: right;\">      2011-04-15</th><th style=\"text-align: right;\">      2011-04-22</th><th style=\"text-align: right;\">      2011-04-29</th><th style=\"text-align: right;\">      2011-05-06</th><th style=\"text-align: right;\">      2011-05-13</th><th style=\"text-align: right;\">      2011-05-20</th><th style=\"text-align: right;\">      2011-05-27</th><th style=\"text-align: right;\">      2011-06-03</th><th style=\"text-align: right;\">      2011-06-10</th><th style=\"text-align: right;\">      2011-06-17</th><th style=\"text-align: right;\">      2011-06-24</th><th style=\"text-align: right;\">      2011-07-01</th><th style=\"text-align: right;\">      2011-07-08</th><th style=\"text-align: right;\">      2011-07-15</th><th style=\"text-align: right;\">      2011-07-22</th><th style=\"text-align: right;\">      2011-07-29</th><th style=\"text-align: right;\">      2011-08-05</th><th style=\"text-align: right;\">      2011-08-12</th><th style=\"text-align: right;\">      2011-08-19</th><th style=\"text-align: right;\">      2011-08-26</th><th style=\"text-align: right;\">      2011-09-02</th><th style=\"text-align: right;\">      2011-09-09</th><th style=\"text-align: right;\">      2011-09-16</th><th style=\"text-align: right;\">      2011-09-23</th><th style=\"text-align: right;\">      2011-09-30</th><th style=\"text-align: right;\">      2011-10-07</th><th style=\"text-align: right;\">      2011-10-14</th><th style=\"text-align: right;\">      2011-10-21</th><th style=\"text-align: right;\">      2011-10-28</th><th style=\"text-align: right;\">      2011-11-04</th><th style=\"text-align: right;\">      2011-11-11</th><th style=\"text-align: right;\">      2011-11-18</th><th style=\"text-align: right;\">      2011-11-25</th><th style=\"text-align: right;\">      2011-12-02</th><th style=\"text-align: right;\">      2011-12-09</th><th style=\"text-align: right;\">      2011-12-16</th><th style=\"text-align: right;\">      2011-12-23</th><th style=\"text-align: right;\">      2011-12-30</th><th style=\"text-align: right;\">      2012-01-06</th><th style=\"text-align: right;\">      2012-01-13</th><th style=\"text-align: right;\">      2012-01-20</th><th style=\"text-align: right;\">      2012-01-27</th><th style=\"text-align: right;\">      2012-02-03</th><th style=\"text-align: right;\">      2012-02-10</th><th style=\"text-align: right;\">      2012-02-17</th><th style=\"text-align: right;\">      2012-02-24</th><th style=\"text-align: right;\">      2012-03-02</th><th style=\"text-align: right;\">      2012-03-09</th><th style=\"text-align: right;\">      2012-03-16</th><th style=\"text-align: right;\">      2012-03-23</th><th style=\"text-align: right;\">      2012-03-30</th><th style=\"text-align: right;\">      2012-04-06</th><th style=\"text-align: right;\">      2012-04-13</th><th style=\"text-align: right;\">      2012-04-20</th><th style=\"text-align: right;\">      2012-04-27</th><th style=\"text-align: right;\">      2012-05-04</th><th style=\"text-align: right;\">      2012-05-11</th><th style=\"text-align: right;\">      2012-05-18</th><th style=\"text-align: right;\">      2012-05-25</th><th style=\"text-align: right;\">      2012-06-01</th><th style=\"text-align: right;\">      2012-06-08</th><th style=\"text-align: right;\">      2012-06-15</th><th style=\"text-align: right;\">      2012-06-22</th><th style=\"text-align: right;\">      2012-06-29</th><th style=\"text-align: right;\">      2012-07-06</th><th style=\"text-align: right;\">      2012-07-13</th><th style=\"text-align: right;\">      2012-07-20</th><th style=\"text-align: right;\">      2012-07-27</th><th style=\"text-align: right;\">      2012-08-03</th><th style=\"text-align: right;\">      2012-08-10</th><th style=\"text-align: right;\">      2012-08-17</th><th style=\"text-align: right;\">      2012-08-24</th><th style=\"text-align: right;\">      2012-08-31</th><th style=\"text-align: right;\">  cluster</th></tr>\n",
       "</thead>\n",
       "<tbody>\n",
       "<tr><td style=\"text-align: right;\">     1.64369e+06</td><td style=\"text-align: right;\">     1.64196e+06</td><td style=\"text-align: right;\">     1.61197e+06</td><td style=\"text-align: right;\">     1.40973e+06</td><td style=\"text-align: right;\">     1.55481e+06</td><td style=\"text-align: right;\">     1.43954e+06</td><td style=\"text-align: right;\">     1.47252e+06</td><td style=\"text-align: right;\">     1.40443e+06</td><td style=\"text-align: right;\">     1.59497e+06</td><td style=\"text-align: right;\">     1.54542e+06</td><td style=\"text-align: right;\">     1.46606e+06</td><td style=\"text-align: right;\">     1.39126e+06</td><td style=\"text-align: right;\">     1.4251e+06 </td><td style=\"text-align: right;\">     1.60396e+06</td><td style=\"text-align: right;\">     1.49425e+06</td><td style=\"text-align: right;\">     1.39966e+06</td><td style=\"text-align: right;\">     1.43207e+06</td><td style=\"text-align: right;\">     1.61552e+06</td><td style=\"text-align: right;\">     1.54256e+06</td><td style=\"text-align: right;\">     1.50328e+06</td><td style=\"text-align: right;\">     1.42271e+06</td><td style=\"text-align: right;\">     1.49242e+06</td><td style=\"text-align: right;\">     1.54607e+06</td><td style=\"text-align: right;\">     1.44894e+06</td><td style=\"text-align: right;\">     1.38507e+06</td><td style=\"text-align: right;\">     1.37199e+06</td><td style=\"text-align: right;\">     1.60549e+06</td><td style=\"text-align: right;\">     1.50824e+06</td><td style=\"text-align: right;\">     1.51308e+06</td><td style=\"text-align: right;\">     1.44914e+06</td><td style=\"text-align: right;\">     1.54016e+06</td><td style=\"text-align: right;\">     1.50746e+06</td><td style=\"text-align: right;\">     1.43038e+06</td><td style=\"text-align: right;\">     1.35179e+06</td><td style=\"text-align: right;\">     1.45333e+06</td><td style=\"text-align: right;\">     1.50824e+06</td><td style=\"text-align: right;\">     1.45941e+06</td><td style=\"text-align: right;\">     1.34545e+06</td><td style=\"text-align: right;\">     1.38421e+06</td><td style=\"text-align: right;\">     1.55166e+06</td><td style=\"text-align: right;\">     1.49448e+06</td><td style=\"text-align: right;\">     1.48378e+06</td><td style=\"text-align: right;\">     1.95562e+06</td><td style=\"text-align: right;\">     1.54803e+06</td><td style=\"text-align: right;\">     1.68261e+06</td><td style=\"text-align: right;\">     1.89103e+06</td><td style=\"text-align: right;\">     2.38795e+06</td><td style=\"text-align: right;\">     1.36732e+06</td><td style=\"text-align: right;\">     1.44473e+06</td><td style=\"text-align: right;\">     1.39101e+06</td><td style=\"text-align: right;\">     1.32741e+06</td><td style=\"text-align: right;\">     1.3169e+06 </td><td style=\"text-align: right;\">     1.60663e+06</td><td style=\"text-align: right;\">     1.64961e+06</td><td style=\"text-align: right;\">     1.68684e+06</td><td style=\"text-align: right;\">     1.4568e+06 </td><td style=\"text-align: right;\">     1.63626e+06</td><td style=\"text-align: right;\">     1.55319e+06</td><td style=\"text-align: right;\">     1.57682e+06</td><td style=\"text-align: right;\">     1.5411e+06 </td><td style=\"text-align: right;\">     1.49506e+06</td><td style=\"text-align: right;\">     1.61426e+06</td><td style=\"text-align: right;\">     1.55989e+06</td><td style=\"text-align: right;\">     1.56482e+06</td><td style=\"text-align: right;\">     1.45509e+06</td><td style=\"text-align: right;\">     1.62939e+06</td><td style=\"text-align: right;\">     1.60478e+06</td><td style=\"text-align: right;\">     1.42822e+06</td><td style=\"text-align: right;\">     1.46605e+06</td><td style=\"text-align: right;\">     1.63508e+06</td><td style=\"text-align: right;\">     1.58895e+06</td><td style=\"text-align: right;\">     1.53211e+06</td><td style=\"text-align: right;\">     1.43883e+06</td><td style=\"text-align: right;\">     1.48854e+06</td><td style=\"text-align: right;\">     1.53485e+06</td><td style=\"text-align: right;\">     1.45512e+06</td><td style=\"text-align: right;\">     1.39693e+06</td><td style=\"text-align: right;\">     1.35222e+06</td><td style=\"text-align: right;\">     1.62438e+06</td><td style=\"text-align: right;\">     1.52515e+06</td><td style=\"text-align: right;\">     1.53076e+06</td><td style=\"text-align: right;\">     1.46469e+06</td><td style=\"text-align: right;\">     1.55023e+06</td><td style=\"text-align: right;\">     1.54047e+06</td><td style=\"text-align: right;\">     1.51426e+06</td><td style=\"text-align: right;\">     1.38002e+06</td><td style=\"text-align: right;\">     1.39456e+06</td><td style=\"text-align: right;\">     1.63099e+06</td><td style=\"text-align: right;\">     1.49353e+06</td><td style=\"text-align: right;\">     1.50256e+06</td><td style=\"text-align: right;\">     1.44525e+06</td><td style=\"text-align: right;\">     1.69723e+06</td><td style=\"text-align: right;\">     1.59494e+06</td><td style=\"text-align: right;\">     1.53948e+06</td><td style=\"text-align: right;\">     2.03332e+06</td><td style=\"text-align: right;\">     1.58408e+06</td><td style=\"text-align: right;\">     1.79968e+06</td><td style=\"text-align: right;\">     1.88118e+06</td><td style=\"text-align: right;\">     2.27019e+06</td><td style=\"text-align: right;\">     1.49746e+06</td><td style=\"text-align: right;\">     1.55037e+06</td><td style=\"text-align: right;\">     1.4596e+06 </td><td style=\"text-align: right;\">     1.39439e+06</td><td style=\"text-align: right;\">     1.31933e+06</td><td style=\"text-align: right;\">     1.63634e+06</td><td style=\"text-align: right;\">     1.80248e+06</td><td style=\"text-align: right;\">     1.81987e+06</td><td style=\"text-align: right;\">     1.53939e+06</td><td style=\"text-align: right;\">     1.68842e+06</td><td style=\"text-align: right;\">     1.67543e+06</td><td style=\"text-align: right;\">     1.67747e+06</td><td style=\"text-align: right;\">     1.51107e+06</td><td style=\"text-align: right;\">     1.6496e+06 </td><td style=\"text-align: right;\">     1.89968e+06</td><td style=\"text-align: right;\">     1.62103e+06</td><td style=\"text-align: right;\">     1.52158e+06</td><td style=\"text-align: right;\">     1.46893e+06</td><td style=\"text-align: right;\">     1.68452e+06</td><td style=\"text-align: right;\">     1.6111e+06 </td><td style=\"text-align: right;\">     1.5959e+06 </td><td style=\"text-align: right;\">     1.55544e+06</td><td style=\"text-align: right;\">     1.62448e+06</td><td style=\"text-align: right;\">     1.69723e+06</td><td style=\"text-align: right;\">     1.63061e+06</td><td style=\"text-align: right;\">     1.52785e+06</td><td style=\"text-align: right;\">     1.54042e+06</td><td style=\"text-align: right;\">     1.76985e+06</td><td style=\"text-align: right;\">     1.52701e+06</td><td style=\"text-align: right;\">     1.49795e+06</td><td style=\"text-align: right;\">     1.43912e+06</td><td style=\"text-align: right;\">     1.63114e+06</td><td style=\"text-align: right;\">     1.59241e+06</td><td style=\"text-align: right;\">     1.59787e+06</td><td style=\"text-align: right;\">     1.49412e+06</td><td style=\"text-align: right;\">     1.58208e+06</td><td style=\"text-align: right;\">        3</td></tr>\n",
       "<tr><td style=\"text-align: right;\">     2.13699e+06</td><td style=\"text-align: right;\">     2.13781e+06</td><td style=\"text-align: right;\">     2.12445e+06</td><td style=\"text-align: right;\">     1.8651e+06 </td><td style=\"text-align: right;\">     1.99101e+06</td><td style=\"text-align: right;\">     1.99048e+06</td><td style=\"text-align: right;\">     1.94607e+06</td><td style=\"text-align: right;\">     1.7502e+06 </td><td style=\"text-align: right;\">     2.06619e+06</td><td style=\"text-align: right;\">     1.95469e+06</td><td style=\"text-align: right;\">     1.87496e+06</td><td style=\"text-align: right;\">     1.82199e+06</td><td style=\"text-align: right;\">     1.80245e+06</td><td style=\"text-align: right;\">     2.04258e+06</td><td style=\"text-align: right;\">     1.88075e+06</td><td style=\"text-align: right;\">     1.89694e+06</td><td style=\"text-align: right;\">     1.95711e+06</td><td style=\"text-align: right;\">     2.10254e+06</td><td style=\"text-align: right;\">     2.02554e+06</td><td style=\"text-align: right;\">     2.00164e+06</td><td style=\"text-align: right;\">     1.93993e+06</td><td style=\"text-align: right;\">     2.00394e+06</td><td style=\"text-align: right;\">     1.8809e+06 </td><td style=\"text-align: right;\">     1.84588e+06</td><td style=\"text-align: right;\">     1.78172e+06</td><td style=\"text-align: right;\">     1.80425e+06</td><td style=\"text-align: right;\">     1.99191e+06</td><td style=\"text-align: right;\">     1.8956e+06 </td><td style=\"text-align: right;\">     1.96434e+06</td><td style=\"text-align: right;\">     1.86384e+06</td><td style=\"text-align: right;\">     1.90461e+06</td><td style=\"text-align: right;\">     1.83913e+06</td><td style=\"text-align: right;\">     1.7939e+06 </td><td style=\"text-align: right;\">     1.72456e+06</td><td style=\"text-align: right;\">     1.82744e+06</td><td style=\"text-align: right;\">     1.84992e+06</td><td style=\"text-align: right;\">     1.79436e+06</td><td style=\"text-align: right;\">     1.73795e+06</td><td style=\"text-align: right;\">     1.80276e+06</td><td style=\"text-align: right;\">     1.93906e+06</td><td style=\"text-align: right;\">     1.91681e+06</td><td style=\"text-align: right;\">     1.95674e+06</td><td style=\"text-align: right;\">     2.65873e+06</td><td style=\"text-align: right;\">     2.01578e+06</td><td style=\"text-align: right;\">     2.37873e+06</td><td style=\"text-align: right;\">     2.60917e+06</td><td style=\"text-align: right;\">     3.43601e+06</td><td style=\"text-align: right;\">     1.75043e+06</td><td style=\"text-align: right;\">     1.75805e+06</td><td style=\"text-align: right;\">     1.74419e+06</td><td style=\"text-align: right;\">     1.75138e+06</td><td style=\"text-align: right;\">     1.69537e+06</td><td style=\"text-align: right;\">     1.92935e+06</td><td style=\"text-align: right;\">     2.16804e+06</td><td style=\"text-align: right;\">     2.08088e+06</td><td style=\"text-align: right;\">     1.83351e+06</td><td style=\"text-align: right;\">     1.98161e+06</td><td style=\"text-align: right;\">     1.87911e+06</td><td style=\"text-align: right;\">     1.90256e+06</td><td style=\"text-align: right;\">     1.76616e+06</td><td style=\"text-align: right;\">     1.80017e+06</td><td style=\"text-align: right;\">     1.84755e+06</td><td style=\"text-align: right;\">     1.85647e+06</td><td style=\"text-align: right;\">     1.88634e+06</td><td style=\"text-align: right;\">     1.74555e+06</td><td style=\"text-align: right;\">     1.83774e+06</td><td style=\"text-align: right;\">     1.83851e+06</td><td style=\"text-align: right;\">     1.68828e+06</td><td style=\"text-align: right;\">     1.79773e+06</td><td style=\"text-align: right;\">     1.93376e+06</td><td style=\"text-align: right;\">     1.92915e+06</td><td style=\"text-align: right;\">     1.95377e+06</td><td style=\"text-align: right;\">     1.79093e+06</td><td style=\"text-align: right;\">     1.86624e+06</td><td style=\"text-align: right;\">     1.85316e+06</td><td style=\"text-align: right;\">     1.78519e+06</td><td style=\"text-align: right;\">     1.74382e+06</td><td style=\"text-align: right;\">     1.68069e+06</td><td style=\"text-align: right;\">     1.8767e+06 </td><td style=\"text-align: right;\">     1.81277e+06</td><td style=\"text-align: right;\">     1.84409e+06</td><td style=\"text-align: right;\">     1.82114e+06</td><td style=\"text-align: right;\">     1.80912e+06</td><td style=\"text-align: right;\">     1.748e+06  </td><td style=\"text-align: right;\">     1.69144e+06</td><td style=\"text-align: right;\">     1.6693e+06 </td><td style=\"text-align: right;\">     1.65039e+06</td><td style=\"text-align: right;\">     1.83755e+06</td><td style=\"text-align: right;\">     1.74388e+06</td><td style=\"text-align: right;\">     1.83468e+06</td><td style=\"text-align: right;\">     1.7693e+06 </td><td style=\"text-align: right;\">     1.95971e+06</td><td style=\"text-align: right;\">     1.92073e+06</td><td style=\"text-align: right;\">     1.90276e+06</td><td style=\"text-align: right;\">     2.6142e+06 </td><td style=\"text-align: right;\">     1.95495e+06</td><td style=\"text-align: right;\">     2.29055e+06</td><td style=\"text-align: right;\">     2.43274e+06</td><td style=\"text-align: right;\">     3.22437e+06</td><td style=\"text-align: right;\">     1.87423e+06</td><td style=\"text-align: right;\">     1.79952e+06</td><td style=\"text-align: right;\">     1.74473e+06</td><td style=\"text-align: right;\">     1.71177e+06</td><td style=\"text-align: right;\">     1.66091e+06</td><td style=\"text-align: right;\">     1.9353e+06 </td><td style=\"text-align: right;\">     2.10332e+06</td><td style=\"text-align: right;\">     2.19669e+06</td><td style=\"text-align: right;\">     1.8618e+06 </td><td style=\"text-align: right;\">     1.95256e+06</td><td style=\"text-align: right;\">     1.93763e+06</td><td style=\"text-align: right;\">     1.97608e+06</td><td style=\"text-align: right;\">     1.79044e+06</td><td style=\"text-align: right;\">     1.85748e+06</td><td style=\"text-align: right;\">     2.12904e+06</td><td style=\"text-align: right;\">     1.93587e+06</td><td style=\"text-align: right;\">     1.84734e+06</td><td style=\"text-align: right;\">     1.76413e+06</td><td style=\"text-align: right;\">     1.92396e+06</td><td style=\"text-align: right;\">     1.91752e+06</td><td style=\"text-align: right;\">     2.00094e+06</td><td style=\"text-align: right;\">     1.91279e+06</td><td style=\"text-align: right;\">     1.91009e+06</td><td style=\"text-align: right;\">     2.01022e+06</td><td style=\"text-align: right;\">     1.96292e+06</td><td style=\"text-align: right;\">     1.88773e+06</td><td style=\"text-align: right;\">     1.88105e+06</td><td style=\"text-align: right;\">     2.04151e+06</td><td style=\"text-align: right;\">     1.83008e+06</td><td style=\"text-align: right;\">     1.81967e+06</td><td style=\"text-align: right;\">     1.75792e+06</td><td style=\"text-align: right;\">     1.9461e+06 </td><td style=\"text-align: right;\">     1.86672e+06</td><td style=\"text-align: right;\">     1.92802e+06</td><td style=\"text-align: right;\">     1.87679e+06</td><td style=\"text-align: right;\">     1.94708e+06</td><td style=\"text-align: right;\">        2</td></tr>\n",
       "<tr><td style=\"text-align: right;\">461622          </td><td style=\"text-align: right;\">420729          </td><td style=\"text-align: right;\">421642          </td><td style=\"text-align: right;\">407205          </td><td style=\"text-align: right;\">415202          </td><td style=\"text-align: right;\">384201          </td><td style=\"text-align: right;\">375329          </td><td style=\"text-align: right;\">359949          </td><td style=\"text-align: right;\">423294          </td><td style=\"text-align: right;\">415870          </td><td style=\"text-align: right;\">354993          </td><td style=\"text-align: right;\">339977          </td><td style=\"text-align: right;\">361248          </td><td style=\"text-align: right;\">399324          </td><td style=\"text-align: right;\">384358          </td><td style=\"text-align: right;\">343763          </td><td style=\"text-align: right;\">350089          </td><td style=\"text-align: right;\">396969          </td><td style=\"text-align: right;\">355017          </td><td style=\"text-align: right;\">364077          </td><td style=\"text-align: right;\">357346          </td><td style=\"text-align: right;\">381152          </td><td style=\"text-align: right;\">349214          </td><td style=\"text-align: right;\">352729          </td><td style=\"text-align: right;\">352864          </td><td style=\"text-align: right;\">347955          </td><td style=\"text-align: right;\">402636          </td><td style=\"text-align: right;\">339597          </td><td style=\"text-align: right;\">351728          </td><td style=\"text-align: right;\">362134          </td><td style=\"text-align: right;\">366474          </td><td style=\"text-align: right;\">352261          </td><td style=\"text-align: right;\">363065          </td><td style=\"text-align: right;\">355627          </td><td style=\"text-align: right;\">358784          </td><td style=\"text-align: right;\">395107          </td><td style=\"text-align: right;\">345584          </td><td style=\"text-align: right;\">348896          </td><td style=\"text-align: right;\">348592          </td><td style=\"text-align: right;\">423176          </td><td style=\"text-align: right;\">386635          </td><td style=\"text-align: right;\">372545          </td><td style=\"text-align: right;\">565568          </td><td style=\"text-align: right;\">476421          </td><td style=\"text-align: right;\">467642          </td><td style=\"text-align: right;\">498159          </td><td style=\"text-align: right;\">605990          </td><td style=\"text-align: right;\">382678          </td><td style=\"text-align: right;\">378241          </td><td style=\"text-align: right;\">381061          </td><td style=\"text-align: right;\">350877          </td><td style=\"text-align: right;\">364866          </td><td style=\"text-align: right;\">438516          </td><td style=\"text-align: right;\">430526          </td><td style=\"text-align: right;\">432782          </td><td style=\"text-align: right;\">397211          </td><td style=\"text-align: right;\">437085          </td><td style=\"text-align: right;\">404753          </td><td style=\"text-align: right;\">392110          </td><td style=\"text-align: right;\">380684          </td><td style=\"text-align: right;\">374556          </td><td style=\"text-align: right;\">384075          </td><td style=\"text-align: right;\">366251          </td><td style=\"text-align: right;\">391860          </td><td style=\"text-align: right;\">367405          </td><td style=\"text-align: right;\">413042          </td><td style=\"text-align: right;\">386313          </td><td style=\"text-align: right;\">364603          </td><td style=\"text-align: right;\">369351          </td><td style=\"text-align: right;\">394508          </td><td style=\"text-align: right;\">391639          </td><td style=\"text-align: right;\">403423          </td><td style=\"text-align: right;\">385521          </td><td style=\"text-align: right;\">368963          </td><td style=\"text-align: right;\">395146          </td><td style=\"text-align: right;\">373454          </td><td style=\"text-align: right;\">360617          </td><td style=\"text-align: right;\">345381          </td><td style=\"text-align: right;\">409981          </td><td style=\"text-align: right;\">380377          </td><td style=\"text-align: right;\">379717          </td><td style=\"text-align: right;\">366368          </td><td style=\"text-align: right;\">375989          </td><td style=\"text-align: right;\">377347          </td><td style=\"text-align: right;\">375630          </td><td style=\"text-align: right;\">365249          </td><td style=\"text-align: right;\">368478          </td><td style=\"text-align: right;\">403342          </td><td style=\"text-align: right;\">368283          </td><td style=\"text-align: right;\">394976          </td><td style=\"text-align: right;\">389541          </td><td style=\"text-align: right;\">459443          </td><td style=\"text-align: right;\">407764          </td><td style=\"text-align: right;\">398839          </td><td style=\"text-align: right;\">556925          </td><td style=\"text-align: right;\">472511          </td><td style=\"text-align: right;\">468773          </td><td style=\"text-align: right;\">510748          </td><td style=\"text-align: right;\">551221          </td><td style=\"text-align: right;\">410554          </td><td style=\"text-align: right;\">398178          </td><td style=\"text-align: right;\">367439          </td><td style=\"text-align: right;\">365819          </td><td style=\"text-align: right;\">349518          </td><td style=\"text-align: right;\">424961          </td><td style=\"text-align: right;\">473292          </td><td style=\"text-align: right;\">475591          </td><td style=\"text-align: right;\">418925          </td><td style=\"text-align: right;\">469753          </td><td style=\"text-align: right;\">445162          </td><td style=\"text-align: right;\">411776          </td><td style=\"text-align: right;\">413907          </td><td style=\"text-align: right;\">407489          </td><td style=\"text-align: right;\">503232          </td><td style=\"text-align: right;\">420790          </td><td style=\"text-align: right;\">434822          </td><td style=\"text-align: right;\">394616          </td><td style=\"text-align: right;\">439914          </td><td style=\"text-align: right;\">431985          </td><td style=\"text-align: right;\">418113          </td><td style=\"text-align: right;\">413701          </td><td style=\"text-align: right;\">432269          </td><td style=\"text-align: right;\">446337          </td><td style=\"text-align: right;\">442075          </td><td style=\"text-align: right;\">419498          </td><td style=\"text-align: right;\">422965          </td><td style=\"text-align: right;\">411206          </td><td style=\"text-align: right;\">416913          </td><td style=\"text-align: right;\">432425          </td><td style=\"text-align: right;\">389428          </td><td style=\"text-align: right;\">419990          </td><td style=\"text-align: right;\">391812          </td><td style=\"text-align: right;\">394919          </td><td style=\"text-align: right;\">412450          </td><td style=\"text-align: right;\">408839          </td><td style=\"text-align: right;\">        0</td></tr>\n",
       "<tr><td style=\"text-align: right;\">     2.13514e+06</td><td style=\"text-align: right;\">     2.18831e+06</td><td style=\"text-align: right;\">     2.04986e+06</td><td style=\"text-align: right;\">     1.92573e+06</td><td style=\"text-align: right;\">     1.97106e+06</td><td style=\"text-align: right;\">     1.89432e+06</td><td style=\"text-align: right;\">     1.89743e+06</td><td style=\"text-align: right;\">     1.76254e+06</td><td style=\"text-align: right;\">     1.97925e+06</td><td style=\"text-align: right;\">     1.81845e+06</td><td style=\"text-align: right;\">     1.85152e+06</td><td style=\"text-align: right;\">     1.80268e+06</td><td style=\"text-align: right;\">     1.81727e+06</td><td style=\"text-align: right;\">     2.00063e+06</td><td style=\"text-align: right;\">     1.8756e+06 </td><td style=\"text-align: right;\">     1.90375e+06</td><td style=\"text-align: right;\">     1.85753e+06</td><td style=\"text-align: right;\">     1.90329e+06</td><td style=\"text-align: right;\">     1.87062e+06</td><td style=\"text-align: right;\">     1.92974e+06</td><td style=\"text-align: right;\">     1.84665e+06</td><td style=\"text-align: right;\">     1.88134e+06</td><td style=\"text-align: right;\">     1.81221e+06</td><td style=\"text-align: right;\">     1.89843e+06</td><td style=\"text-align: right;\">     1.84843e+06</td><td style=\"text-align: right;\">     1.79664e+06</td><td style=\"text-align: right;\">     1.90764e+06</td><td style=\"text-align: right;\">     2.00705e+06</td><td style=\"text-align: right;\">     1.99718e+06</td><td style=\"text-align: right;\">     1.8484e+06 </td><td style=\"text-align: right;\">     1.93586e+06</td><td style=\"text-align: right;\">     1.86582e+06</td><td style=\"text-align: right;\">     1.89996e+06</td><td style=\"text-align: right;\">     1.81068e+06</td><td style=\"text-align: right;\">     1.84282e+06</td><td style=\"text-align: right;\">     1.95149e+06</td><td style=\"text-align: right;\">     1.86735e+06</td><td style=\"text-align: right;\">     1.92761e+06</td><td style=\"text-align: right;\">     1.93333e+06</td><td style=\"text-align: right;\">     2.01312e+06</td><td style=\"text-align: right;\">     1.99979e+06</td><td style=\"text-align: right;\">     2.09781e+06</td><td style=\"text-align: right;\">     2.78947e+06</td><td style=\"text-align: right;\">     2.10253e+06</td><td style=\"text-align: right;\">     2.3025e+06 </td><td style=\"text-align: right;\">     2.74006e+06</td><td style=\"text-align: right;\">     3.52671e+06</td><td style=\"text-align: right;\">     1.79487e+06</td><td style=\"text-align: right;\">     1.86248e+06</td><td style=\"text-align: right;\">     1.8655e+06 </td><td style=\"text-align: right;\">     1.88639e+06</td><td style=\"text-align: right;\">     1.81424e+06</td><td style=\"text-align: right;\">     2.11909e+06</td><td style=\"text-align: right;\">     2.18785e+06</td><td style=\"text-align: right;\">     2.3165e+06 </td><td style=\"text-align: right;\">     2.07809e+06</td><td style=\"text-align: right;\">     2.10346e+06</td><td style=\"text-align: right;\">     2.03982e+06</td><td style=\"text-align: right;\">     2.11648e+06</td><td style=\"text-align: right;\">     1.94416e+06</td><td style=\"text-align: right;\">     1.90025e+06</td><td style=\"text-align: right;\">     2.07495e+06</td><td style=\"text-align: right;\">     1.96059e+06</td><td style=\"text-align: right;\">     2.2206e+06 </td><td style=\"text-align: right;\">     1.87817e+06</td><td style=\"text-align: right;\">     2.06368e+06</td><td style=\"text-align: right;\">     2.00236e+06</td><td style=\"text-align: right;\">     2.01556e+06</td><td style=\"text-align: right;\">     1.9866e+06 </td><td style=\"text-align: right;\">     2.06538e+06</td><td style=\"text-align: right;\">     2.07395e+06</td><td style=\"text-align: right;\">     2.14121e+06</td><td style=\"text-align: right;\">     2.00834e+06</td><td style=\"text-align: right;\">     2.05153e+06</td><td style=\"text-align: right;\">     2.06654e+06</td><td style=\"text-align: right;\">     2.04905e+06</td><td style=\"text-align: right;\">     2.03623e+06</td><td style=\"text-align: right;\">     1.98967e+06</td><td style=\"text-align: right;\">     2.16006e+06</td><td style=\"text-align: right;\">     2.10567e+06</td><td style=\"text-align: right;\">     2.23289e+06</td><td style=\"text-align: right;\">     1.98849e+06</td><td style=\"text-align: right;\">     2.07842e+06</td><td style=\"text-align: right;\">     2.09314e+06</td><td style=\"text-align: right;\">     2.07558e+06</td><td style=\"text-align: right;\">     2.03141e+06</td><td style=\"text-align: right;\">     1.92949e+06</td><td style=\"text-align: right;\">     2.16674e+06</td><td style=\"text-align: right;\">     2.07455e+06</td><td style=\"text-align: right;\">     2.20774e+06</td><td style=\"text-align: right;\">     2.15166e+06</td><td style=\"text-align: right;\">     2.28122e+06</td><td style=\"text-align: right;\">     2.20303e+06</td><td style=\"text-align: right;\">     2.24395e+06</td><td style=\"text-align: right;\">     3.0047e+06 </td><td style=\"text-align: right;\">     2.181e+06  </td><td style=\"text-align: right;\">     2.50896e+06</td><td style=\"text-align: right;\">     2.7714e+06 </td><td style=\"text-align: right;\">     3.67639e+06</td><td style=\"text-align: right;\">     2.00711e+06</td><td style=\"text-align: right;\">     2.04777e+06</td><td style=\"text-align: right;\">     1.94168e+06</td><td style=\"text-align: right;\">     2.0051e+06 </td><td style=\"text-align: right;\">     1.92872e+06</td><td style=\"text-align: right;\">     2.17337e+06</td><td style=\"text-align: right;\">     2.37466e+06</td><td style=\"text-align: right;\">     2.42764e+06</td><td style=\"text-align: right;\">     2.22666e+06</td><td style=\"text-align: right;\">     2.20632e+06</td><td style=\"text-align: right;\">     2.20245e+06</td><td style=\"text-align: right;\">     2.21497e+06</td><td style=\"text-align: right;\">     2.09159e+06</td><td style=\"text-align: right;\">     2.08938e+06</td><td style=\"text-align: right;\">     2.47021e+06</td><td style=\"text-align: right;\">     2.1053e+06 </td><td style=\"text-align: right;\">     2.14434e+06</td><td style=\"text-align: right;\">     2.06407e+06</td><td style=\"text-align: right;\">     2.19697e+06</td><td style=\"text-align: right;\">     2.12766e+06</td><td style=\"text-align: right;\">     2.20721e+06</td><td style=\"text-align: right;\">     2.15414e+06</td><td style=\"text-align: right;\">     2.17936e+06</td><td style=\"text-align: right;\">     2.24526e+06</td><td style=\"text-align: right;\">     2.23419e+06</td><td style=\"text-align: right;\">     2.1973e+06 </td><td style=\"text-align: right;\">     2.12836e+06</td><td style=\"text-align: right;\">     2.2245e+06 </td><td style=\"text-align: right;\">     2.10025e+06</td><td style=\"text-align: right;\">     2.17556e+06</td><td style=\"text-align: right;\">     2.04861e+06</td><td style=\"text-align: right;\">     2.17451e+06</td><td style=\"text-align: right;\">     2.19337e+06</td><td style=\"text-align: right;\">     2.28354e+06</td><td style=\"text-align: right;\">     2.12524e+06</td><td style=\"text-align: right;\">     2.08118e+06</td><td style=\"text-align: right;\">        2</td></tr>\n",
       "<tr><td style=\"text-align: right;\">317173          </td><td style=\"text-align: right;\">311826          </td><td style=\"text-align: right;\">303448          </td><td style=\"text-align: right;\">270282          </td><td style=\"text-align: right;\">288856          </td><td style=\"text-align: right;\">297294          </td><td style=\"text-align: right;\">281706          </td><td style=\"text-align: right;\">273283          </td><td style=\"text-align: right;\">331406          </td><td style=\"text-align: right;\">328020          </td><td style=\"text-align: right;\">306859          </td><td style=\"text-align: right;\">288840          </td><td style=\"text-align: right;\">298698          </td><td style=\"text-align: right;\">333523          </td><td style=\"text-align: right;\">296674          </td><td style=\"text-align: right;\">301615          </td><td style=\"text-align: right;\">310013          </td><td style=\"text-align: right;\">337826          </td><td style=\"text-align: right;\">296642          </td><td style=\"text-align: right;\">313796          </td><td style=\"text-align: right;\">295257          </td><td style=\"text-align: right;\">305993          </td><td style=\"text-align: right;\">291809          </td><td style=\"text-align: right;\">280702          </td><td style=\"text-align: right;\">274743          </td><td style=\"text-align: right;\">268929          </td><td style=\"text-align: right;\">303043          </td><td style=\"text-align: right;\">286477          </td><td style=\"text-align: right;\">287205          </td><td style=\"text-align: right;\">288520          </td><td style=\"text-align: right;\">323798          </td><td style=\"text-align: right;\">306533          </td><td style=\"text-align: right;\">282559          </td><td style=\"text-align: right;\">293132          </td><td style=\"text-align: right;\">283178          </td><td style=\"text-align: right;\">290495          </td><td style=\"text-align: right;\">280681          </td><td style=\"text-align: right;\">284988          </td><td style=\"text-align: right;\">278032          </td><td style=\"text-align: right;\">325310          </td><td style=\"text-align: right;\">301827          </td><td style=\"text-align: right;\">297385          </td><td style=\"text-align: right;\">488363          </td><td style=\"text-align: right;\">344491          </td><td style=\"text-align: right;\">352812          </td><td style=\"text-align: right;\">367801          </td><td style=\"text-align: right;\">466010          </td><td style=\"text-align: right;\">298180          </td><td style=\"text-align: right;\">286347          </td><td style=\"text-align: right;\">260637          </td><td style=\"text-align: right;\">275313          </td><td style=\"text-align: right;\">279088          </td><td style=\"text-align: right;\">329613          </td><td style=\"text-align: right;\">311591          </td><td style=\"text-align: right;\">356623          </td><td style=\"text-align: right;\">294660          </td><td style=\"text-align: right;\">329034          </td><td style=\"text-align: right;\">293098          </td><td style=\"text-align: right;\">312178          </td><td style=\"text-align: right;\">294732          </td><td style=\"text-align: right;\">314317          </td><td style=\"text-align: right;\">307334          </td><td style=\"text-align: right;\">307914          </td><td style=\"text-align: right;\">328415          </td><td style=\"text-align: right;\">307292          </td><td style=\"text-align: right;\">322905          </td><td style=\"text-align: right;\">290930          </td><td style=\"text-align: right;\">299614          </td><td style=\"text-align: right;\">297150          </td><td style=\"text-align: right;\">329184          </td><td style=\"text-align: right;\">304984          </td><td style=\"text-align: right;\">304812          </td><td style=\"text-align: right;\">302882          </td><td style=\"text-align: right;\">327094          </td><td style=\"text-align: right;\">310805          </td><td style=\"text-align: right;\">283249          </td><td style=\"text-align: right;\">292540          </td><td style=\"text-align: right;\">275142          </td><td style=\"text-align: right;\">317739          </td><td style=\"text-align: right;\">289886          </td><td style=\"text-align: right;\">303644          </td><td style=\"text-align: right;\">310338          </td><td style=\"text-align: right;\">315646          </td><td style=\"text-align: right;\">321110          </td><td style=\"text-align: right;\">278530          </td><td style=\"text-align: right;\">291025          </td><td style=\"text-align: right;\">292315          </td><td style=\"text-align: right;\">309111          </td><td style=\"text-align: right;\">286118          </td><td style=\"text-align: right;\">306069          </td><td style=\"text-align: right;\">307035          </td><td style=\"text-align: right;\">353652          </td><td style=\"text-align: right;\">311907          </td><td style=\"text-align: right;\">307944          </td><td style=\"text-align: right;\">507900          </td><td style=\"text-align: right;\">376226          </td><td style=\"text-align: right;\">367434          </td><td style=\"text-align: right;\">379530          </td><td style=\"text-align: right;\">458562          </td><td style=\"text-align: right;\">349625          </td><td style=\"text-align: right;\">312079          </td><td style=\"text-align: right;\">291455          </td><td style=\"text-align: right;\">287524          </td><td style=\"text-align: right;\">295974          </td><td style=\"text-align: right;\">333948          </td><td style=\"text-align: right;\">349240          </td><td style=\"text-align: right;\">356428          </td><td style=\"text-align: right;\">312220          </td><td style=\"text-align: right;\">359206          </td><td style=\"text-align: right;\">347296          </td><td style=\"text-align: right;\">339393          </td><td style=\"text-align: right;\">321300          </td><td style=\"text-align: right;\">331319          </td><td style=\"text-align: right;\">402986          </td><td style=\"text-align: right;\">351832          </td><td style=\"text-align: right;\">330063          </td><td style=\"text-align: right;\">324840          </td><td style=\"text-align: right;\">360933          </td><td style=\"text-align: right;\">333871          </td><td style=\"text-align: right;\">336190          </td><td style=\"text-align: right;\">341994          </td><td style=\"text-align: right;\">359868          </td><td style=\"text-align: right;\">341705          </td><td style=\"text-align: right;\">327384          </td><td style=\"text-align: right;\">325042          </td><td style=\"text-align: right;\">329658          </td><td style=\"text-align: right;\">341214          </td><td style=\"text-align: right;\">316204          </td><td style=\"text-align: right;\">321205          </td><td style=\"text-align: right;\">306827          </td><td style=\"text-align: right;\">324195          </td><td style=\"text-align: right;\">306760          </td><td style=\"text-align: right;\">314014          </td><td style=\"text-align: right;\">320831          </td><td style=\"text-align: right;\">344642          </td><td style=\"text-align: right;\">        0</td></tr>\n",
       "<tr><td style=\"text-align: right;\">     1.65264e+06</td><td style=\"text-align: right;\">     1.60628e+06</td><td style=\"text-align: right;\">     1.56714e+06</td><td style=\"text-align: right;\">     1.43295e+06</td><td style=\"text-align: right;\">     1.60135e+06</td><td style=\"text-align: right;\">     1.55862e+06</td><td style=\"text-align: right;\">     1.69306e+06</td><td style=\"text-align: right;\">     1.47203e+06</td><td style=\"text-align: right;\">     1.77033e+06</td><td style=\"text-align: right;\">     1.66718e+06</td><td style=\"text-align: right;\">     1.51985e+06</td><td style=\"text-align: right;\">     1.54044e+06</td><td style=\"text-align: right;\">     1.49808e+06</td><td style=\"text-align: right;\">     1.61992e+06</td><td style=\"text-align: right;\">     1.52406e+06</td><td style=\"text-align: right;\">     1.53194e+06</td><td style=\"text-align: right;\">     1.64447e+06</td><td style=\"text-align: right;\">     1.85738e+06</td><td style=\"text-align: right;\">     1.68565e+06</td><td style=\"text-align: right;\">     1.67725e+06</td><td style=\"text-align: right;\">     1.64068e+06</td><td style=\"text-align: right;\">     1.75978e+06</td><td style=\"text-align: right;\">     1.69032e+06</td><td style=\"text-align: right;\">     1.56012e+06</td><td style=\"text-align: right;\">     1.58524e+06</td><td style=\"text-align: right;\">     1.53231e+06</td><td style=\"text-align: right;\">     1.63324e+06</td><td style=\"text-align: right;\">     1.54765e+06</td><td style=\"text-align: right;\">     1.53993e+06</td><td style=\"text-align: right;\">     1.45077e+06</td><td style=\"text-align: right;\">     1.51093e+06</td><td style=\"text-align: right;\">     1.42423e+06</td><td style=\"text-align: right;\">     1.30854e+06</td><td style=\"text-align: right;\">     1.27559e+06</td><td style=\"text-align: right;\">     1.32847e+06</td><td style=\"text-align: right;\">     1.36032e+06</td><td style=\"text-align: right;\">     1.34458e+06</td><td style=\"text-align: right;\">     1.33272e+06</td><td style=\"text-align: right;\">     1.38532e+06</td><td style=\"text-align: right;\">     1.50544e+06</td><td style=\"text-align: right;\">     1.49554e+06</td><td style=\"text-align: right;\">     1.51884e+06</td><td style=\"text-align: right;\">     2.26745e+06</td><td style=\"text-align: right;\">     1.67707e+06</td><td style=\"text-align: right;\">     1.83474e+06</td><td style=\"text-align: right;\">     2.09027e+06</td><td style=\"text-align: right;\">     2.72758e+06</td><td style=\"text-align: right;\">     1.46405e+06</td><td style=\"text-align: right;\">     1.35044e+06</td><td style=\"text-align: right;\">     1.30619e+06</td><td style=\"text-align: right;\">     1.26125e+06</td><td style=\"text-align: right;\">     1.28703e+06</td><td style=\"text-align: right;\">     1.515e+06  </td><td style=\"text-align: right;\">     1.48692e+06</td><td style=\"text-align: right;\">     1.57212e+06</td><td style=\"text-align: right;\">     1.4226e+06 </td><td style=\"text-align: right;\">     1.50262e+06</td><td style=\"text-align: right;\">     1.4945e+06 </td><td style=\"text-align: right;\">     1.68538e+06</td><td style=\"text-align: right;\">     1.43847e+06</td><td style=\"text-align: right;\">     1.45928e+06</td><td style=\"text-align: right;\">     1.53459e+06</td><td style=\"text-align: right;\">     1.4488e+06 </td><td style=\"text-align: right;\">     1.63936e+06</td><td style=\"text-align: right;\">     1.47925e+06</td><td style=\"text-align: right;\">     1.50465e+06</td><td style=\"text-align: right;\">     1.45319e+06</td><td style=\"text-align: right;\">     1.38278e+06</td><td style=\"text-align: right;\">     1.52398e+06</td><td style=\"text-align: right;\">     1.70551e+06</td><td style=\"text-align: right;\">     1.59864e+06</td><td style=\"text-align: right;\">     1.62215e+06</td><td style=\"text-align: right;\">     1.54337e+06</td><td style=\"text-align: right;\">     1.69455e+06</td><td style=\"text-align: right;\">     1.70937e+06</td><td style=\"text-align: right;\">     1.5268e+06 </td><td style=\"text-align: right;\">     1.52651e+06</td><td style=\"text-align: right;\">     1.48399e+06</td><td style=\"text-align: right;\">     1.60158e+06</td><td style=\"text-align: right;\">     1.485e+06  </td><td style=\"text-align: right;\">     1.49354e+06</td><td style=\"text-align: right;\">     1.42041e+06</td><td style=\"text-align: right;\">     1.48162e+06</td><td style=\"text-align: right;\">     1.48357e+06</td><td style=\"text-align: right;\">     1.35141e+06</td><td style=\"text-align: right;\">     1.33604e+06</td><td style=\"text-align: right;\">     1.30755e+06</td><td style=\"text-align: right;\">     1.48174e+06</td><td style=\"text-align: right;\">     1.38652e+06</td><td style=\"text-align: right;\">     1.41792e+06</td><td style=\"text-align: right;\">     1.41945e+06</td><td style=\"text-align: right;\">     1.52342e+06</td><td style=\"text-align: right;\">     1.53618e+06</td><td style=\"text-align: right;\">     1.52439e+06</td><td style=\"text-align: right;\">     2.24981e+06</td><td style=\"text-align: right;\">     1.68853e+06</td><td style=\"text-align: right;\">     1.90339e+06</td><td style=\"text-align: right;\">     2.0347e+06 </td><td style=\"text-align: right;\">     2.64463e+06</td><td style=\"text-align: right;\">     1.59808e+06</td><td style=\"text-align: right;\">     1.39534e+06</td><td style=\"text-align: right;\">     1.34424e+06</td><td style=\"text-align: right;\">     1.32626e+06</td><td style=\"text-align: right;\">     1.31561e+06</td><td style=\"text-align: right;\">     1.49631e+06</td><td style=\"text-align: right;\">     1.6206e+06 </td><td style=\"text-align: right;\">     1.63262e+06</td><td style=\"text-align: right;\">     1.46519e+06</td><td style=\"text-align: right;\">     1.55039e+06</td><td style=\"text-align: right;\">     1.5693e+06 </td><td style=\"text-align: right;\">     1.74801e+06</td><td style=\"text-align: right;\">     1.49514e+06</td><td style=\"text-align: right;\">     1.50893e+06</td><td style=\"text-align: right;\">     1.84013e+06</td><td style=\"text-align: right;\">     1.61639e+06</td><td style=\"text-align: right;\">     1.45607e+06</td><td style=\"text-align: right;\">     1.45622e+06</td><td style=\"text-align: right;\">     1.54346e+06</td><td style=\"text-align: right;\">     1.51708e+06</td><td style=\"text-align: right;\">     1.51364e+06</td><td style=\"text-align: right;\">     1.60379e+06</td><td style=\"text-align: right;\">     1.68112e+06</td><td style=\"text-align: right;\">     1.69662e+06</td><td style=\"text-align: right;\">     1.64225e+06</td><td style=\"text-align: right;\">     1.61827e+06</td><td style=\"text-align: right;\">     1.64886e+06</td><td style=\"text-align: right;\">     1.87636e+06</td><td style=\"text-align: right;\">     1.58814e+06</td><td style=\"text-align: right;\">     1.57436e+06</td><td style=\"text-align: right;\">     1.51323e+06</td><td style=\"text-align: right;\">     1.62728e+06</td><td style=\"text-align: right;\">     1.58838e+06</td><td style=\"text-align: right;\">     1.54305e+06</td><td style=\"text-align: right;\">     1.5011e+06 </td><td style=\"text-align: right;\">     1.57744e+06</td><td style=\"text-align: right;\">        3</td></tr>\n",
       "<tr><td style=\"text-align: right;\">496725          </td><td style=\"text-align: right;\">524105          </td><td style=\"text-align: right;\">506761          </td><td style=\"text-align: right;\">496083          </td><td style=\"text-align: right;\">491420          </td><td style=\"text-align: right;\">480452          </td><td style=\"text-align: right;\">574450          </td><td style=\"text-align: right;\">514732          </td><td style=\"text-align: right;\">561145          </td><td style=\"text-align: right;\">484263          </td><td style=\"text-align: right;\">406228          </td><td style=\"text-align: right;\">404751          </td><td style=\"text-align: right;\">373656          </td><td style=\"text-align: right;\">395454          </td><td style=\"text-align: right;\">372674          </td><td style=\"text-align: right;\">395196          </td><td style=\"text-align: right;\">442735          </td><td style=\"text-align: right;\">509183          </td><td style=\"text-align: right;\">498581          </td><td style=\"text-align: right;\">481144          </td><td style=\"text-align: right;\">553715          </td><td style=\"text-align: right;\">575571          </td><td style=\"text-align: right;\">593462          </td><td style=\"text-align: right;\">557166          </td><td style=\"text-align: right;\">570231          </td><td style=\"text-align: right;\">603547          </td><td style=\"text-align: right;\">643854          </td><td style=\"text-align: right;\">598185          </td><td style=\"text-align: right;\">582353          </td><td style=\"text-align: right;\">554309          </td><td style=\"text-align: right;\">532765          </td><td style=\"text-align: right;\">535769          </td><td style=\"text-align: right;\">489409          </td><td style=\"text-align: right;\">488009          </td><td style=\"text-align: right;\">448999          </td><td style=\"text-align: right;\">480240          </td><td style=\"text-align: right;\">463370          </td><td style=\"text-align: right;\">472451          </td><td style=\"text-align: right;\">465493          </td><td style=\"text-align: right;\">480512          </td><td style=\"text-align: right;\">507584          </td><td style=\"text-align: right;\">482528          </td><td style=\"text-align: right;\">835189          </td><td style=\"text-align: right;\">552812          </td><td style=\"text-align: right;\">599730          </td><td style=\"text-align: right;\">716389          </td><td style=\"text-align: right;\">     1.04512e+06</td><td style=\"text-align: right;\">729572          </td><td style=\"text-align: right;\">661164          </td><td style=\"text-align: right;\">547385          </td><td style=\"text-align: right;\">521539          </td><td style=\"text-align: right;\">513372          </td><td style=\"text-align: right;\">558028          </td><td style=\"text-align: right;\">559903          </td><td style=\"text-align: right;\">572387          </td><td style=\"text-align: right;\">546691          </td><td style=\"text-align: right;\">551378          </td><td style=\"text-align: right;\">558964          </td><td style=\"text-align: right;\">635015          </td><td style=\"text-align: right;\">559062          </td><td style=\"text-align: right;\">513410          </td><td style=\"text-align: right;\">500552          </td><td style=\"text-align: right;\">423380          </td><td style=\"text-align: right;\">466595          </td><td style=\"text-align: right;\">410430          </td><td style=\"text-align: right;\">407012          </td><td style=\"text-align: right;\">414094          </td><td style=\"text-align: right;\">424671          </td><td style=\"text-align: right;\">457217          </td><td style=\"text-align: right;\">542295          </td><td style=\"text-align: right;\">621100          </td><td style=\"text-align: right;\">610991          </td><td style=\"text-align: right;\">640044          </td><td style=\"text-align: right;\">704344          </td><td style=\"text-align: right;\">761794          </td><td style=\"text-align: right;\">642748          </td><td style=\"text-align: right;\">688044          </td><td style=\"text-align: right;\">653383          </td><td style=\"text-align: right;\">695393          </td><td style=\"text-align: right;\">670670          </td><td style=\"text-align: right;\">645156          </td><td style=\"text-align: right;\">629994          </td><td style=\"text-align: right;\">592355          </td><td style=\"text-align: right;\">613135          </td><td style=\"text-align: right;\">558981          </td><td style=\"text-align: right;\">536145          </td><td style=\"text-align: right;\">488880          </td><td style=\"text-align: right;\">525866          </td><td style=\"text-align: right;\">501959          </td><td style=\"text-align: right;\">558691          </td><td style=\"text-align: right;\">527340          </td><td style=\"text-align: right;\">564536          </td><td style=\"text-align: right;\">556016          </td><td style=\"text-align: right;\">539827          </td><td style=\"text-align: right;\">949076          </td><td style=\"text-align: right;\">591908          </td><td style=\"text-align: right;\">653845          </td><td style=\"text-align: right;\">720242          </td><td style=\"text-align: right;\">     1.05972e+06</td><td style=\"text-align: right;\">815916          </td><td style=\"text-align: right;\">713118          </td><td style=\"text-align: right;\">593875          </td><td style=\"text-align: right;\">578003          </td><td style=\"text-align: right;\">541038          </td><td style=\"text-align: right;\">580453          </td><td style=\"text-align: right;\">563461          </td><td style=\"text-align: right;\">620908          </td><td style=\"text-align: right;\">603041          </td><td style=\"text-align: right;\">551058          </td><td style=\"text-align: right;\">579166          </td><td style=\"text-align: right;\">669206          </td><td style=\"text-align: right;\">615997          </td><td style=\"text-align: right;\">583322          </td><td style=\"text-align: right;\">621426          </td><td style=\"text-align: right;\">517420          </td><td style=\"text-align: right;\">457340          </td><td style=\"text-align: right;\">467828          </td><td style=\"text-align: right;\">465199          </td><td style=\"text-align: right;\">460397          </td><td style=\"text-align: right;\">468428          </td><td style=\"text-align: right;\">532740          </td><td style=\"text-align: right;\">598495          </td><td style=\"text-align: right;\">642964          </td><td style=\"text-align: right;\">666942          </td><td style=\"text-align: right;\">687345          </td><td style=\"text-align: right;\">704335          </td><td style=\"text-align: right;\">805643          </td><td style=\"text-align: right;\">694151          </td><td style=\"text-align: right;\">686346          </td><td style=\"text-align: right;\">686365          </td><td style=\"text-align: right;\">680955          </td><td style=\"text-align: right;\">675926          </td><td style=\"text-align: right;\">642450          </td><td style=\"text-align: right;\">609099          </td><td style=\"text-align: right;\">586467          </td><td style=\"text-align: right;\">        0</td></tr>\n",
       "<tr><td style=\"text-align: right;\">     1.00414e+06</td><td style=\"text-align: right;\">994801          </td><td style=\"text-align: right;\">963960          </td><td style=\"text-align: right;\">847592          </td><td style=\"text-align: right;\">881504          </td><td style=\"text-align: right;\">860336          </td><td style=\"text-align: right;\">839911          </td><td style=\"text-align: right;\">772539          </td><td style=\"text-align: right;\">914501          </td><td style=\"text-align: right;\">916034          </td><td style=\"text-align: right;\">882917          </td><td style=\"text-align: right;\">850440          </td><td style=\"text-align: right;\">778673          </td><td style=\"text-align: right;\">916821          </td><td style=\"text-align: right;\">873338          </td><td style=\"text-align: right;\">818333          </td><td style=\"text-align: right;\">868042          </td><td style=\"text-align: right;\">958225          </td><td style=\"text-align: right;\">914836          </td><td style=\"text-align: right;\">869923          </td><td style=\"text-align: right;\">814919          </td><td style=\"text-align: right;\">852334          </td><td style=\"text-align: right;\">845290          </td><td style=\"text-align: right;\">848631          </td><td style=\"text-align: right;\">785516          </td><td style=\"text-align: right;\">787295          </td><td style=\"text-align: right;\">893400          </td><td style=\"text-align: right;\">867919          </td><td style=\"text-align: right;\">870676          </td><td style=\"text-align: right;\">888817          </td><td style=\"text-align: right;\">899036          </td><td style=\"text-align: right;\">831425          </td><td style=\"text-align: right;\">836708          </td><td style=\"text-align: right;\">773725          </td><td style=\"text-align: right;\">804105          </td><td style=\"text-align: right;\">870350          </td><td style=\"text-align: right;\">826547          </td><td style=\"text-align: right;\">836419          </td><td style=\"text-align: right;\">830757          </td><td style=\"text-align: right;\">927266          </td><td style=\"text-align: right;\">911539          </td><td style=\"text-align: right;\">885608          </td><td style=\"text-align: right;\">     1.26169e+06</td><td style=\"text-align: right;\">952767          </td><td style=\"text-align: right;\">     1.06906e+06</td><td style=\"text-align: right;\">     1.22058e+06</td><td style=\"text-align: right;\">     1.51164e+06</td><td style=\"text-align: right;\">773586          </td><td style=\"text-align: right;\">873065          </td><td style=\"text-align: right;\">809647          </td><td style=\"text-align: right;\">822668          </td><td style=\"text-align: right;\">782257          </td><td style=\"text-align: right;\">944595          </td><td style=\"text-align: right;\">996147          </td><td style=\"text-align: right;\">     1.06511e+06</td><td style=\"text-align: right;\">917317          </td><td style=\"text-align: right;\">935266          </td><td style=\"text-align: right;\">900387          </td><td style=\"text-align: right;\">898289          </td><td style=\"text-align: right;\">827968          </td><td style=\"text-align: right;\">878762          </td><td style=\"text-align: right;\">949826          </td><td style=\"text-align: right;\">908279          </td><td style=\"text-align: right;\">937473          </td><td style=\"text-align: right;\">855015          </td><td style=\"text-align: right;\">941457          </td><td style=\"text-align: right;\">895763          </td><td style=\"text-align: right;\">836050          </td><td style=\"text-align: right;\">857939          </td><td style=\"text-align: right;\">929222          </td><td style=\"text-align: right;\">897309          </td><td style=\"text-align: right;\">922048          </td><td style=\"text-align: right;\">864881          </td><td style=\"text-align: right;\">883683          </td><td style=\"text-align: right;\">861965          </td><td style=\"text-align: right;\">849925          </td><td style=\"text-align: right;\">829902          </td><td style=\"text-align: right;\">807082          </td><td style=\"text-align: right;\">892394          </td><td style=\"text-align: right;\">856796          </td><td style=\"text-align: right;\">895066          </td><td style=\"text-align: right;\">912543          </td><td style=\"text-align: right;\">891387          </td><td style=\"text-align: right;\">848358          </td><td style=\"text-align: right;\">870972          </td><td style=\"text-align: right;\">806444          </td><td style=\"text-align: right;\">809049          </td><td style=\"text-align: right;\">929977          </td><td style=\"text-align: right;\">863188          </td><td style=\"text-align: right;\">905984          </td><td style=\"text-align: right;\">876712          </td><td style=\"text-align: right;\">947815          </td><td style=\"text-align: right;\">917088          </td><td style=\"text-align: right;\">897032          </td><td style=\"text-align: right;\">     1.23516e+06</td><td style=\"text-align: right;\">986601          </td><td style=\"text-align: right;\">     1.05192e+06</td><td style=\"text-align: right;\">     1.11816e+06</td><td style=\"text-align: right;\">     1.46225e+06</td><td style=\"text-align: right;\">858572          </td><td style=\"text-align: right;\">872113          </td><td style=\"text-align: right;\">817662          </td><td style=\"text-align: right;\">813955          </td><td style=\"text-align: right;\">778179          </td><td style=\"text-align: right;\">927611          </td><td style=\"text-align: right;\">     1.0214e+06 </td><td style=\"text-align: right;\">     1.09623e+06</td><td style=\"text-align: right;\">928538          </td><td style=\"text-align: right;\">952265          </td><td style=\"text-align: right;\">960116          </td><td style=\"text-align: right;\">921178          </td><td style=\"text-align: right;\">874223          </td><td style=\"text-align: right;\">905935          </td><td style=\"text-align: right;\">     1.04682e+06</td><td style=\"text-align: right;\">909989          </td><td style=\"text-align: right;\">872288          </td><td style=\"text-align: right;\">879448          </td><td style=\"text-align: right;\">937232          </td><td style=\"text-align: right;\">920129          </td><td style=\"text-align: right;\">913922          </td><td style=\"text-align: right;\">895157          </td><td style=\"text-align: right;\">921161          </td><td style=\"text-align: right;\">928820          </td><td style=\"text-align: right;\">916919          </td><td style=\"text-align: right;\">899450          </td><td style=\"text-align: right;\">878298          </td><td style=\"text-align: right;\">936206          </td><td style=\"text-align: right;\">890488          </td><td style=\"text-align: right;\">888834          </td><td style=\"text-align: right;\">838228          </td><td style=\"text-align: right;\">897077          </td><td style=\"text-align: right;\">930746          </td><td style=\"text-align: right;\">896613          </td><td style=\"text-align: right;\">936374          </td><td style=\"text-align: right;\">976138          </td><td style=\"text-align: right;\">        1</td></tr>\n",
       "<tr><td style=\"text-align: right;\">549506          </td><td style=\"text-align: right;\">552677          </td><td style=\"text-align: right;\">511328          </td><td style=\"text-align: right;\">473773          </td><td style=\"text-align: right;\">507298          </td><td style=\"text-align: right;\">494146          </td><td style=\"text-align: right;\">485745          </td><td style=\"text-align: right;\">484947          </td><td style=\"text-align: right;\">545206          </td><td style=\"text-align: right;\">529384          </td><td style=\"text-align: right;\">485764          </td><td style=\"text-align: right;\">488684          </td><td style=\"text-align: right;\">491723          </td><td style=\"text-align: right;\">526129          </td><td style=\"text-align: right;\">492793          </td><td style=\"text-align: right;\">506275          </td><td style=\"text-align: right;\">558144          </td><td style=\"text-align: right;\">586061          </td><td style=\"text-align: right;\">522716          </td><td style=\"text-align: right;\">513074          </td><td style=\"text-align: right;\">509263          </td><td style=\"text-align: right;\">528833          </td><td style=\"text-align: right;\">485389          </td><td style=\"text-align: right;\">474031          </td><td style=\"text-align: right;\">462676          </td><td style=\"text-align: right;\">468675          </td><td style=\"text-align: right;\">522815          </td><td style=\"text-align: right;\">481898          </td><td style=\"text-align: right;\">499325          </td><td style=\"text-align: right;\">506790          </td><td style=\"text-align: right;\">511049          </td><td style=\"text-align: right;\">484835          </td><td style=\"text-align: right;\">463449          </td><td style=\"text-align: right;\">452905          </td><td style=\"text-align: right;\">495692          </td><td style=\"text-align: right;\">505069          </td><td style=\"text-align: right;\">454770          </td><td style=\"text-align: right;\">466323          </td><td style=\"text-align: right;\">508802          </td><td style=\"text-align: right;\">517870          </td><td style=\"text-align: right;\">520847          </td><td style=\"text-align: right;\">519823          </td><td style=\"text-align: right;\">768071          </td><td style=\"text-align: right;\">578165          </td><td style=\"text-align: right;\">618122          </td><td style=\"text-align: right;\">685243          </td><td style=\"text-align: right;\">873348          </td><td style=\"text-align: right;\">459771          </td><td style=\"text-align: right;\">490982          </td><td style=\"text-align: right;\">458087          </td><td style=\"text-align: right;\">454022          </td><td style=\"text-align: right;\">463561          </td><td style=\"text-align: right;\">544612          </td><td style=\"text-align: right;\">555279          </td><td style=\"text-align: right;\">610986          </td><td style=\"text-align: right;\">513107          </td><td style=\"text-align: right;\">542016          </td><td style=\"text-align: right;\">517784          </td><td style=\"text-align: right;\">515226          </td><td style=\"text-align: right;\">497488          </td><td style=\"text-align: right;\">520962          </td><td style=\"text-align: right;\">561626          </td><td style=\"text-align: right;\">528420          </td><td style=\"text-align: right;\">549502          </td><td style=\"text-align: right;\">532226          </td><td style=\"text-align: right;\">545251          </td><td style=\"text-align: right;\">539126          </td><td style=\"text-align: right;\">518267          </td><td style=\"text-align: right;\">553834          </td><td style=\"text-align: right;\">587004          </td><td style=\"text-align: right;\">550076          </td><td style=\"text-align: right;\">558671          </td><td style=\"text-align: right;\">538746          </td><td style=\"text-align: right;\">537064          </td><td style=\"text-align: right;\">535983          </td><td style=\"text-align: right;\">512834          </td><td style=\"text-align: right;\">491450          </td><td style=\"text-align: right;\">471450          </td><td style=\"text-align: right;\">554880          </td><td style=\"text-align: right;\">520285          </td><td style=\"text-align: right;\">540819          </td><td style=\"text-align: right;\">542664          </td><td style=\"text-align: right;\">544643          </td><td style=\"text-align: right;\">528785          </td><td style=\"text-align: right;\">500274          </td><td style=\"text-align: right;\">506744          </td><td style=\"text-align: right;\">508567          </td><td style=\"text-align: right;\">553837          </td><td style=\"text-align: right;\">529516          </td><td style=\"text-align: right;\">557075          </td><td style=\"text-align: right;\">548527          </td><td style=\"text-align: right;\">597855          </td><td style=\"text-align: right;\">594574          </td><td style=\"text-align: right;\">542414          </td><td style=\"text-align: right;\">814753          </td><td style=\"text-align: right;\">613115          </td><td style=\"text-align: right;\">630327          </td><td style=\"text-align: right;\">705558          </td><td style=\"text-align: right;\">905325          </td><td style=\"text-align: right;\">549788          </td><td style=\"text-align: right;\">519586          </td><td style=\"text-align: right;\">474965          </td><td style=\"text-align: right;\">480130          </td><td style=\"text-align: right;\">482451          </td><td style=\"text-align: right;\">549968          </td><td style=\"text-align: right;\">609736          </td><td style=\"text-align: right;\">658965          </td><td style=\"text-align: right;\">563579          </td><td style=\"text-align: right;\">619498          </td><td style=\"text-align: right;\">574956          </td><td style=\"text-align: right;\">550374          </td><td style=\"text-align: right;\">550791          </td><td style=\"text-align: right;\">574985          </td><td style=\"text-align: right;\">677886          </td><td style=\"text-align: right;\">578540          </td><td style=\"text-align: right;\">542819          </td><td style=\"text-align: right;\">550415          </td><td style=\"text-align: right;\">586289          </td><td style=\"text-align: right;\">592572          </td><td style=\"text-align: right;\">571464          </td><td style=\"text-align: right;\">547226          </td><td style=\"text-align: right;\">583649          </td><td style=\"text-align: right;\">582525          </td><td style=\"text-align: right;\">564606          </td><td style=\"text-align: right;\">562173          </td><td style=\"text-align: right;\">544771          </td><td style=\"text-align: right;\">578790          </td><td style=\"text-align: right;\">536538          </td><td style=\"text-align: right;\">513992          </td><td style=\"text-align: right;\">495951          </td><td style=\"text-align: right;\">533888          </td><td style=\"text-align: right;\">538713          </td><td style=\"text-align: right;\">535153          </td><td style=\"text-align: right;\">572888          </td><td style=\"text-align: right;\">576879          </td><td style=\"text-align: right;\">        0</td></tr>\n",
       "<tr><td style=\"text-align: right;\">     2.19305e+06</td><td style=\"text-align: right;\">     2.17603e+06</td><td style=\"text-align: right;\">     2.11343e+06</td><td style=\"text-align: right;\">     2.00677e+06</td><td style=\"text-align: right;\">     1.98709e+06</td><td style=\"text-align: right;\">     1.94135e+06</td><td style=\"text-align: right;\">     1.94688e+06</td><td style=\"text-align: right;\">     1.89353e+06</td><td style=\"text-align: right;\">     2.13865e+06</td><td style=\"text-align: right;\">     2.04107e+06</td><td style=\"text-align: right;\">     1.82624e+06</td><td style=\"text-align: right;\">     1.82952e+06</td><td style=\"text-align: right;\">     1.79069e+06</td><td style=\"text-align: right;\">     1.92143e+06</td><td style=\"text-align: right;\">     1.80806e+06</td><td style=\"text-align: right;\">     1.84761e+06</td><td style=\"text-align: right;\">     1.90462e+06</td><td style=\"text-align: right;\">     1.93141e+06</td><td style=\"text-align: right;\">     1.82752e+06</td><td style=\"text-align: right;\">     1.83764e+06</td><td style=\"text-align: right;\">     1.76817e+06</td><td style=\"text-align: right;\">     1.84589e+06</td><td style=\"text-align: right;\">     1.76979e+06</td><td style=\"text-align: right;\">     1.82805e+06</td><td style=\"text-align: right;\">     1.83168e+06</td><td style=\"text-align: right;\">     1.83266e+06</td><td style=\"text-align: right;\">     1.94924e+06</td><td style=\"text-align: right;\">     1.963e+06  </td><td style=\"text-align: right;\">     1.98319e+06</td><td style=\"text-align: right;\">     1.72757e+06</td><td style=\"text-align: right;\">     1.76633e+06</td><td style=\"text-align: right;\">     1.72053e+06</td><td style=\"text-align: right;\">     1.71676e+06</td><td style=\"text-align: right;\">     1.65504e+06</td><td style=\"text-align: right;\">     1.64589e+06</td><td style=\"text-align: right;\">     1.77219e+06</td><td style=\"text-align: right;\">     1.70385e+06</td><td style=\"text-align: right;\">     1.74023e+06</td><td style=\"text-align: right;\">     1.74131e+06</td><td style=\"text-align: right;\">     1.83221e+06</td><td style=\"text-align: right;\">     1.8959e+06 </td><td style=\"text-align: right;\">     1.94918e+06</td><td style=\"text-align: right;\">     2.93995e+06</td><td style=\"text-align: right;\">     2.25121e+06</td><td style=\"text-align: right;\">     2.41179e+06</td><td style=\"text-align: right;\">     2.81165e+06</td><td style=\"text-align: right;\">     3.74906e+06</td><td style=\"text-align: right;\">     1.7073e+06 </td><td style=\"text-align: right;\">     1.71431e+06</td><td style=\"text-align: right;\">     1.7108e+06 </td><td style=\"text-align: right;\">     1.67756e+06</td><td style=\"text-align: right;\">     1.71577e+06</td><td style=\"text-align: right;\">     1.96805e+06</td><td style=\"text-align: right;\">     2.11541e+06</td><td style=\"text-align: right;\">     2.10693e+06</td><td style=\"text-align: right;\">     1.968e+06  </td><td style=\"text-align: right;\">     1.958e+06  </td><td style=\"text-align: right;\">     1.93347e+06</td><td style=\"text-align: right;\">     1.88473e+06</td><td style=\"text-align: right;\">     1.8158e+06 </td><td style=\"text-align: right;\">     1.82773e+06</td><td style=\"text-align: right;\">     1.87072e+06</td><td style=\"text-align: right;\">     1.78177e+06</td><td style=\"text-align: right;\">     2.00483e+06</td><td style=\"text-align: right;\">     1.87365e+06</td><td style=\"text-align: right;\">     1.84137e+06</td><td style=\"text-align: right;\">     1.713e+06  </td><td style=\"text-align: right;\">     1.72091e+06</td><td style=\"text-align: right;\">     1.743e+06  </td><td style=\"text-align: right;\">     1.79221e+06</td><td style=\"text-align: right;\">     1.74006e+06</td><td style=\"text-align: right;\">     1.81793e+06</td><td style=\"text-align: right;\">     1.71181e+06</td><td style=\"text-align: right;\">     1.75137e+06</td><td style=\"text-align: right;\">     1.69971e+06</td><td style=\"text-align: right;\">     1.77507e+06</td><td style=\"text-align: right;\">     1.77434e+06</td><td style=\"text-align: right;\">     1.74584e+06</td><td style=\"text-align: right;\">     1.8863e+06 </td><td style=\"text-align: right;\">     1.9174e+06 </td><td style=\"text-align: right;\">     1.95485e+06</td><td style=\"text-align: right;\">     1.7284e+06 </td><td style=\"text-align: right;\">     1.75859e+06</td><td style=\"text-align: right;\">     1.67058e+06</td><td style=\"text-align: right;\">     1.65089e+06</td><td style=\"text-align: right;\">     1.68591e+06</td><td style=\"text-align: right;\">     1.62771e+06</td><td style=\"text-align: right;\">     1.78823e+06</td><td style=\"text-align: right;\">     1.70475e+06</td><td style=\"text-align: right;\">     1.74593e+06</td><td style=\"text-align: right;\">     1.77179e+06</td><td style=\"text-align: right;\">     1.90444e+06</td><td style=\"text-align: right;\">     2.07657e+06</td><td style=\"text-align: right;\">     1.86909e+06</td><td style=\"text-align: right;\">     2.9502e+06 </td><td style=\"text-align: right;\">     2.0681e+06 </td><td style=\"text-align: right;\">     2.42931e+06</td><td style=\"text-align: right;\">     2.55503e+06</td><td style=\"text-align: right;\">     3.48799e+06</td><td style=\"text-align: right;\">     1.93069e+06</td><td style=\"text-align: right;\">     1.6834e+06 </td><td style=\"text-align: right;\">     1.71156e+06</td><td style=\"text-align: right;\">     1.67556e+06</td><td style=\"text-align: right;\">     1.63241e+06</td><td style=\"text-align: right;\">     1.8674e+06 </td><td style=\"text-align: right;\">     2.2186e+06 </td><td style=\"text-align: right;\">     2.16871e+06</td><td style=\"text-align: right;\">     2.03942e+06</td><td style=\"text-align: right;\">     1.99037e+06</td><td style=\"text-align: right;\">     1.91748e+06</td><td style=\"text-align: right;\">     1.93081e+06</td><td style=\"text-align: right;\">     1.83746e+06</td><td style=\"text-align: right;\">     1.81576e+06</td><td style=\"text-align: right;\">     2.16338e+06</td><td style=\"text-align: right;\">     1.97469e+06</td><td style=\"text-align: right;\">     1.77717e+06</td><td style=\"text-align: right;\">     1.71299e+06</td><td style=\"text-align: right;\">     1.82136e+06</td><td style=\"text-align: right;\">     1.79235e+06</td><td style=\"text-align: right;\">     1.79515e+06</td><td style=\"text-align: right;\">     1.83094e+06</td><td style=\"text-align: right;\">     1.76747e+06</td><td style=\"text-align: right;\">     1.84049e+06</td><td style=\"text-align: right;\">     1.81156e+06</td><td style=\"text-align: right;\">     1.75533e+06</td><td style=\"text-align: right;\">     1.70748e+06</td><td style=\"text-align: right;\">     1.806e+06  </td><td style=\"text-align: right;\">     1.76557e+06</td><td style=\"text-align: right;\">     1.86997e+06</td><td style=\"text-align: right;\">     1.8176e+06 </td><td style=\"text-align: right;\">     1.93944e+06</td><td style=\"text-align: right;\">     1.88044e+06</td><td style=\"text-align: right;\">     1.8278e+06 </td><td style=\"text-align: right;\">     1.76498e+06</td><td style=\"text-align: right;\">     1.65029e+06</td><td style=\"text-align: right;\">        2</td></tr>\n",
       "</tbody>\n",
       "</table>"
      ]
     },
     "metadata": {},
     "output_type": "display_data"
    },
    {
     "data": {
      "text/plain": []
     },
     "execution_count": 150,
     "metadata": {},
     "output_type": "execute_result"
    }
   ],
   "source": [
    "tbl_data.head()"
   ]
  },
  {
   "cell_type": "code",
   "execution_count": 105,
   "id": "a862657a",
   "metadata": {},
   "outputs": [
    {
     "name": "stdout",
     "output_type": "stream",
     "text": [
      "kmeans prediction progress: |████████████████████████████████████████████████████| (done) 100%\n"
     ]
    }
   ],
   "source": [
    "clusters = get_cluster_plot(df_h2o, kmeans_default)"
   ]
  },
  {
   "cell_type": "code",
   "execution_count": 107,
   "id": "620e9628",
   "metadata": {},
   "outputs": [
    {
     "name": "stdout",
     "output_type": "stream",
     "text": [
      "Export File progress: |██████████████████████████████████████████████████████████| (done) 100%\n"
     ]
    }
   ],
   "source": [
    "h2o.export_file(clusters, \"/Users/megankurka/AutoML/h2o3_apps/clustering/static/ts_clusters.csv\", force=True)"
   ]
  },
  {
   "cell_type": "code",
   "execution_count": 174,
   "id": "2be29b05",
   "metadata": {},
   "outputs": [
    {
     "name": "stdout",
     "output_type": "stream",
     "text": [
      "kmeans prediction progress: |████████████████████████████████████████████████████| (done) 100%\n",
      "Export File progress: |██████████████████████████████████████████████████████████| (done) 100%\n"
     ]
    }
   ],
   "source": [
    "tbl_data = get_table_data(df_h2o, kmeans_default)\n",
    "h2o.export_file(tbl_data, \"/Users/megankurka/AutoML/h2o3_apps/clustering/static/data.csv\", force=True)"
   ]
  },
  {
   "cell_type": "code",
   "execution_count": 175,
   "id": "f8abbfd4",
   "metadata": {},
   "outputs": [],
   "source": [
    "df = pd.read_csv(\"/Users/megankurka/AutoML/h2o3_apps/clustering/static/data.csv\")"
   ]
  },
  {
   "cell_type": "code",
   "execution_count": 177,
   "id": "f02fc886",
   "metadata": {},
   "outputs": [],
   "source": [
    "df = df[df.Store == 1]"
   ]
  },
  {
   "cell_type": "code",
   "execution_count": 181,
   "id": "b136cc31",
   "metadata": {},
   "outputs": [
    {
     "data": {
      "text/html": [
       "<div>\n",
       "<style scoped>\n",
       "    .dataframe tbody tr th:only-of-type {\n",
       "        vertical-align: middle;\n",
       "    }\n",
       "\n",
       "    .dataframe tbody tr th {\n",
       "        vertical-align: top;\n",
       "    }\n",
       "\n",
       "    .dataframe thead th {\n",
       "        text-align: right;\n",
       "    }\n",
       "</style>\n",
       "<table border=\"1\" class=\"dataframe\">\n",
       "  <thead>\n",
       "    <tr style=\"text-align: right;\">\n",
       "      <th></th>\n",
       "      <th>index</th>\n",
       "      <th>0</th>\n",
       "    </tr>\n",
       "  </thead>\n",
       "  <tbody>\n",
       "    <tr>\n",
       "      <th>0</th>\n",
       "      <td>2010-02-05</td>\n",
       "      <td>1643690.90</td>\n",
       "    </tr>\n",
       "    <tr>\n",
       "      <th>1</th>\n",
       "      <td>2010-02-12</td>\n",
       "      <td>1641957.44</td>\n",
       "    </tr>\n",
       "    <tr>\n",
       "      <th>2</th>\n",
       "      <td>2010-02-19</td>\n",
       "      <td>1611968.17</td>\n",
       "    </tr>\n",
       "    <tr>\n",
       "      <th>3</th>\n",
       "      <td>2010-02-26</td>\n",
       "      <td>1409727.59</td>\n",
       "    </tr>\n",
       "    <tr>\n",
       "      <th>4</th>\n",
       "      <td>2010-03-05</td>\n",
       "      <td>1554806.68</td>\n",
       "    </tr>\n",
       "    <tr>\n",
       "      <th>...</th>\n",
       "      <td>...</td>\n",
       "      <td>...</td>\n",
       "    </tr>\n",
       "    <tr>\n",
       "      <th>130</th>\n",
       "      <td>2012-08-03</td>\n",
       "      <td>1631135.81</td>\n",
       "    </tr>\n",
       "    <tr>\n",
       "      <th>131</th>\n",
       "      <td>2012-08-10</td>\n",
       "      <td>1592409.96</td>\n",
       "    </tr>\n",
       "    <tr>\n",
       "      <th>132</th>\n",
       "      <td>2012-08-17</td>\n",
       "      <td>1597868.07</td>\n",
       "    </tr>\n",
       "    <tr>\n",
       "      <th>133</th>\n",
       "      <td>2012-08-24</td>\n",
       "      <td>1494122.29</td>\n",
       "    </tr>\n",
       "    <tr>\n",
       "      <th>134</th>\n",
       "      <td>2012-08-31</td>\n",
       "      <td>1582083.39</td>\n",
       "    </tr>\n",
       "  </tbody>\n",
       "</table>\n",
       "<p>135 rows × 2 columns</p>\n",
       "</div>"
      ],
      "text/plain": [
       "          index           0\n",
       "0    2010-02-05  1643690.90\n",
       "1    2010-02-12  1641957.44\n",
       "2    2010-02-19  1611968.17\n",
       "3    2010-02-26  1409727.59\n",
       "4    2010-03-05  1554806.68\n",
       "..          ...         ...\n",
       "130  2012-08-03  1631135.81\n",
       "131  2012-08-10  1592409.96\n",
       "132  2012-08-17  1597868.07\n",
       "133  2012-08-24  1494122.29\n",
       "134  2012-08-31  1582083.39\n",
       "\n",
       "[135 rows x 2 columns]"
      ]
     },
     "execution_count": 181,
     "metadata": {},
     "output_type": "execute_result"
    }
   ],
   "source": [
    "df = df[[i for i in df.columns if i not in ['cluster', 'Store']]].transpose().reset_index()\n",
    "df.columns = ['Date', 'Weekly_Sales']"
   ]
  },
  {
   "cell_type": "code",
   "execution_count": 139,
   "id": "fb194c7f",
   "metadata": {},
   "outputs": [],
   "source": [
    "plot_data = pd.read_csv(\"/Users/megankurka/AutoML/h2o3_apps/clustering/static/ts_clusters.csv\")"
   ]
  },
  {
   "cell_type": "code",
   "execution_count": 140,
   "id": "f614ff74",
   "metadata": {
    "scrolled": true
   },
   "outputs": [],
   "source": [
    "plot_data = plot_data.transpose().reset_index()\n",
    "plot_data = plot_data.iloc[1::]\n",
    "plot_data.columns = ['Date'] + [\"cluster: {}\".format(i) for i in plot_data.columns[1::]]\n",
    "plot_data = pd.melt(plot_data, id_vars=['Date'], value_vars=['cluster: 0', 'cluster: 1', 'cluster: 2', 'cluster: 3'])"
   ]
  },
  {
   "cell_type": "code",
   "execution_count": 141,
   "id": "f22bfc21",
   "metadata": {},
   "outputs": [
    {
     "data": {
      "text/html": [
       "<div>\n",
       "<style scoped>\n",
       "    .dataframe tbody tr th:only-of-type {\n",
       "        vertical-align: middle;\n",
       "    }\n",
       "\n",
       "    .dataframe tbody tr th {\n",
       "        vertical-align: top;\n",
       "    }\n",
       "\n",
       "    .dataframe thead th {\n",
       "        text-align: right;\n",
       "    }\n",
       "</style>\n",
       "<table border=\"1\" class=\"dataframe\">\n",
       "  <thead>\n",
       "    <tr style=\"text-align: right;\">\n",
       "      <th></th>\n",
       "      <th>Date</th>\n",
       "      <th>variable</th>\n",
       "      <th>value</th>\n",
       "    </tr>\n",
       "  </thead>\n",
       "  <tbody>\n",
       "    <tr>\n",
       "      <th>0</th>\n",
       "      <td>2010-02-05</td>\n",
       "      <td>cluster: 0</td>\n",
       "      <td>483979.996250</td>\n",
       "    </tr>\n",
       "    <tr>\n",
       "      <th>1</th>\n",
       "      <td>2010-02-12</td>\n",
       "      <td>cluster: 0</td>\n",
       "      <td>484765.011875</td>\n",
       "    </tr>\n",
       "    <tr>\n",
       "      <th>2</th>\n",
       "      <td>2010-02-19</td>\n",
       "      <td>cluster: 0</td>\n",
       "      <td>474784.978125</td>\n",
       "    </tr>\n",
       "    <tr>\n",
       "      <th>3</th>\n",
       "      <td>2010-02-26</td>\n",
       "      <td>cluster: 0</td>\n",
       "      <td>450464.778750</td>\n",
       "    </tr>\n",
       "    <tr>\n",
       "      <th>4</th>\n",
       "      <td>2010-03-05</td>\n",
       "      <td>cluster: 0</td>\n",
       "      <td>474192.820625</td>\n",
       "    </tr>\n",
       "  </tbody>\n",
       "</table>\n",
       "</div>"
      ],
      "text/plain": [
       "         Date    variable          value\n",
       "0  2010-02-05  cluster: 0  483979.996250\n",
       "1  2010-02-12  cluster: 0  484765.011875\n",
       "2  2010-02-19  cluster: 0  474784.978125\n",
       "3  2010-02-26  cluster: 0  450464.778750\n",
       "4  2010-03-05  cluster: 0  474192.820625"
      ]
     },
     "execution_count": 141,
     "metadata": {},
     "output_type": "execute_result"
    }
   ],
   "source": [
    "plot_data.head()"
   ]
  },
  {
   "cell_type": "code",
   "execution_count": 132,
   "id": "bd26a425",
   "metadata": {},
   "outputs": [
    {
     "data": {
      "application/vnd.plotly.v1+json": {
       "config": {
        "plotlyServerURL": "https://plot.ly"
       },
       "data": [
        {
         "hovertemplate": "variable=cluster: 0<br>Date=%{x}<br>value=%{y}<extra></extra>",
         "legendgroup": "cluster: 0",
         "line": {
          "color": "#636efa",
          "dash": "solid"
         },
         "marker": {
          "symbol": "circle"
         },
         "mode": "lines",
         "name": "cluster: 0",
         "orientation": "v",
         "showlegend": true,
         "type": "scatter",
         "x": [
          "2010-02-05",
          "2010-02-12",
          "2010-02-19",
          "2010-02-26",
          "2010-03-05",
          "2010-03-12",
          "2010-03-19",
          "2010-03-26",
          "2010-04-02",
          "2010-04-09",
          "2010-04-16",
          "2010-04-23",
          "2010-04-30",
          "2010-05-07",
          "2010-05-14",
          "2010-05-21",
          "2010-05-28",
          "2010-06-04",
          "2010-06-11",
          "2010-06-18",
          "2010-06-25",
          "2010-07-02",
          "2010-07-09",
          "2010-07-16",
          "2010-07-23",
          "2010-07-30",
          "2010-08-06",
          "2010-08-13",
          "2010-08-20",
          "2010-08-27",
          "2010-09-03",
          "2010-09-10",
          "2010-09-17",
          "2010-09-24",
          "2010-10-01",
          "2010-10-08",
          "2010-10-15",
          "2010-10-22",
          "2010-10-29",
          "2010-11-05",
          "2010-11-12",
          "2010-11-19",
          "2010-11-26",
          "2010-12-03",
          "2010-12-10",
          "2010-12-17",
          "2010-12-24",
          "2010-12-31",
          "2011-01-07",
          "2011-01-14",
          "2011-01-21",
          "2011-01-28",
          "2011-02-04",
          "2011-02-11",
          "2011-02-18",
          "2011-02-25",
          "2011-03-04",
          "2011-03-11",
          "2011-03-18",
          "2011-03-25",
          "2011-04-01",
          "2011-04-08",
          "2011-04-15",
          "2011-04-22",
          "2011-04-29",
          "2011-05-06",
          "2011-05-13",
          "2011-05-20",
          "2011-05-27",
          "2011-06-03",
          "2011-06-10",
          "2011-06-17",
          "2011-06-24",
          "2011-07-01",
          "2011-07-08",
          "2011-07-15",
          "2011-07-22",
          "2011-07-29",
          "2011-08-05",
          "2011-08-12",
          "2011-08-19",
          "2011-08-26",
          "2011-09-02",
          "2011-09-09",
          "2011-09-16",
          "2011-09-23",
          "2011-09-30",
          "2011-10-07",
          "2011-10-14",
          "2011-10-21",
          "2011-10-28",
          "2011-11-04",
          "2011-11-11",
          "2011-11-18",
          "2011-11-25",
          "2011-12-02",
          "2011-12-09",
          "2011-12-16",
          "2011-12-23",
          "2011-12-30",
          "2012-01-06",
          "2012-01-13",
          "2012-01-20",
          "2012-01-27",
          "2012-02-03",
          "2012-02-10",
          "2012-02-17",
          "2012-02-24",
          "2012-03-02",
          "2012-03-09",
          "2012-03-16",
          "2012-03-23",
          "2012-03-30",
          "2012-04-06",
          "2012-04-13",
          "2012-04-20",
          "2012-04-27",
          "2012-05-04",
          "2012-05-11",
          "2012-05-18",
          "2012-05-25",
          "2012-06-01",
          "2012-06-08",
          "2012-06-15",
          "2012-06-22",
          "2012-06-29",
          "2012-07-06",
          "2012-07-13",
          "2012-07-20",
          "2012-07-27",
          "2012-08-03",
          "2012-08-10",
          "2012-08-17",
          "2012-08-24",
          "2012-08-31"
         ],
         "xaxis": "x",
         "y": [
          483979.99625,
          484765.0118750001,
          474784.978125,
          450464.7787500001,
          474192.82062499993,
          466755.48625,
          461212.64875000005,
          456043.551875,
          500747.515,
          482485.1325,
          467839.92125,
          447939.13062499993,
          444669.506875,
          485794.01875,
          463907.989375,
          457771.205625,
          481814.92875,
          498876.4831250001,
          484662.910625,
          485870.689375,
          475637.2475,
          496194.90125000005,
          495918.37125,
          480367.65375000006,
          463601.1775,
          460398.5662500001,
          496991.51375,
          478403.965625,
          472849.65,
          470570.8925000001,
          481714.50375,
          475602.738125,
          458643.5306250001,
          441945.73125,
          448235.8499999999,
          471939.9943750001,
          449762.0775,
          457680.513125,
          448095.8062500001,
          470196.639375,
          467584.97125,
          455633.496875,
          623360.4450000001,
          494127.92,
          534360.8987499999,
          574582.9975,
          718953.93625,
          439060.93875,
          463514.18875,
          445944.6075,
          432907.51875,
          424967.22125000006,
          481986.856875,
          480814.63812500006,
          484566.149375,
          447027.630625,
          475013.815,
          460230.016875,
          462980.82,
          446727.78687499993,
          449632.906875,
          473596.675625,
          462582.94625,
          469830.6875,
          434210.349375,
          472257.51,
          467419.394375,
          452102.166875,
          456180.365625,
          490468.7168750001,
          495459.560625,
          488537.6156250001,
          476594.7618750001,
          488543.910625,
          500501.498125,
          478675.764375,
          469164.33,
          449666.531875,
          490153.705625,
          475064.89,
          474439.376875,
          474993.74375,
          475179.64,
          479020.350625,
          456877.975,
          445527.14875000005,
          430958.778125,
          477709.0325,
          455062.4731250001,
          470654.975625,
          460111.240625,
          497643.47,
          484193.38875,
          471677.43875,
          634435.3812499999,
          499178.6056249999,
          533925.0843749999,
          572216.855625,
          696412.954375,
          470494.108125,
          490803.48625,
          463257.925,
          449972.89125,
          431744.329375,
          473931.51125,
          501970.26375,
          499404.14875000005,
          466188.574375,
          483971.9018749999,
          486088.45375,
          483889.51562500006,
          471796.65125000005,
          472116.1006250001,
          534793.3475,
          481060.36625,
          463155.133125,
          450422.6225,
          481021.87875,
          487079.1675,
          483230.92749999993,
          489856.545625,
          490848.3825,
          511091.24875,
          505901.521875,
          496405.70375,
          486359.970625,
          526440.60125,
          491888.485,
          481132.641875,
          462941.105,
          491126.6625,
          487864.676875,
          475417.21875,
          486971.895,
          481192.169375
         ],
         "yaxis": "y"
        },
        {
         "hovertemplate": "variable=cluster: 1<br>Date=%{x}<br>value=%{y}<extra></extra>",
         "legendgroup": "cluster: 1",
         "line": {
          "color": "#EF553B",
          "dash": "solid"
         },
         "marker": {
          "symbol": "circle"
         },
         "mode": "lines",
         "name": "cluster: 1",
         "orientation": "v",
         "showlegend": true,
         "type": "scatter",
         "x": [
          "2010-02-05",
          "2010-02-12",
          "2010-02-19",
          "2010-02-26",
          "2010-03-05",
          "2010-03-12",
          "2010-03-19",
          "2010-03-26",
          "2010-04-02",
          "2010-04-09",
          "2010-04-16",
          "2010-04-23",
          "2010-04-30",
          "2010-05-07",
          "2010-05-14",
          "2010-05-21",
          "2010-05-28",
          "2010-06-04",
          "2010-06-11",
          "2010-06-18",
          "2010-06-25",
          "2010-07-02",
          "2010-07-09",
          "2010-07-16",
          "2010-07-23",
          "2010-07-30",
          "2010-08-06",
          "2010-08-13",
          "2010-08-20",
          "2010-08-27",
          "2010-09-03",
          "2010-09-10",
          "2010-09-17",
          "2010-09-24",
          "2010-10-01",
          "2010-10-08",
          "2010-10-15",
          "2010-10-22",
          "2010-10-29",
          "2010-11-05",
          "2010-11-12",
          "2010-11-19",
          "2010-11-26",
          "2010-12-03",
          "2010-12-10",
          "2010-12-17",
          "2010-12-24",
          "2010-12-31",
          "2011-01-07",
          "2011-01-14",
          "2011-01-21",
          "2011-01-28",
          "2011-02-04",
          "2011-02-11",
          "2011-02-18",
          "2011-02-25",
          "2011-03-04",
          "2011-03-11",
          "2011-03-18",
          "2011-03-25",
          "2011-04-01",
          "2011-04-08",
          "2011-04-15",
          "2011-04-22",
          "2011-04-29",
          "2011-05-06",
          "2011-05-13",
          "2011-05-20",
          "2011-05-27",
          "2011-06-03",
          "2011-06-10",
          "2011-06-17",
          "2011-06-24",
          "2011-07-01",
          "2011-07-08",
          "2011-07-15",
          "2011-07-22",
          "2011-07-29",
          "2011-08-05",
          "2011-08-12",
          "2011-08-19",
          "2011-08-26",
          "2011-09-02",
          "2011-09-09",
          "2011-09-16",
          "2011-09-23",
          "2011-09-30",
          "2011-10-07",
          "2011-10-14",
          "2011-10-21",
          "2011-10-28",
          "2011-11-04",
          "2011-11-11",
          "2011-11-18",
          "2011-11-25",
          "2011-12-02",
          "2011-12-09",
          "2011-12-16",
          "2011-12-23",
          "2011-12-30",
          "2012-01-06",
          "2012-01-13",
          "2012-01-20",
          "2012-01-27",
          "2012-02-03",
          "2012-02-10",
          "2012-02-17",
          "2012-02-24",
          "2012-03-02",
          "2012-03-09",
          "2012-03-16",
          "2012-03-23",
          "2012-03-30",
          "2012-04-06",
          "2012-04-13",
          "2012-04-20",
          "2012-04-27",
          "2012-05-04",
          "2012-05-11",
          "2012-05-18",
          "2012-05-25",
          "2012-06-01",
          "2012-06-08",
          "2012-06-15",
          "2012-06-22",
          "2012-06-29",
          "2012-07-06",
          "2012-07-13",
          "2012-07-20",
          "2012-07-27",
          "2012-08-03",
          "2012-08-10",
          "2012-08-17",
          "2012-08-24",
          "2012-08-31"
         ],
         "xaxis": "x",
         "y": [
          1010945.7833333332,
          990782.7891666666,
          996716.0716666668,
          900343.6699999999,
          966621.0175,
          935127.1950000002,
          915516.3708333336,
          910310.3866666668,
          1017413.5575,
          975567.0766666668,
          926019.0716666668,
          934423.7133333334,
          895133.8916666667,
          999152.3783333332,
          933211.2825,
          932848.355,
          1005274.1325,
          1029027.5416666666,
          998204.6675,
          983725.6233333334,
          976044.1925,
          1014337.7058333332,
          985777.9825,
          948881.4541666668,
          925518.2808333334,
          921300.3166666664,
          984442.905,
          940464.3558333332,
          955661.985,
          948544.4808333332,
          967661.2491666664,
          933201.9591666666,
          868153.285,
          840677.5066666667,
          851551.4641666667,
          919212.8208333332,
          879964.3816666667,
          885747.5933333333,
          903857.5425,
          922776.0225,
          936189.9299999998,
          898501.8383333333,
          1391155.475833333,
          1025049.9666666668,
          1143040.9025,
          1285689.326666667,
          1701764.1125,
          786492.2366666665,
          867695.8583333334,
          788984.5216666666,
          803173.2558333334,
          781493.7691666667,
          897572.1000000001,
          958943.7841666668,
          989555.9716666668,
          899868.3224999999,
          941616.2925,
          898778.3158333334,
          896647.995,
          864152.7791666667,
          866944.5874999999,
          922282.3408333332,
          904174.6291666664,
          989874.49,
          888584.0866666666,
          957971.3025,
          921808.6824999998,
          896161.1941666668,
          941643.2808333331,
          995806.4583333334,
          967196.4658333332,
          955656.7941666666,
          941479.0266666664,
          969274.93,
          949623.9583333334,
          911586.7291666666,
          920904.19,
          886767.3025000002,
          952088.6891666664,
          921750.3483333336,
          925002.4691666669,
          978230.5891666668,
          880503.7975,
          946791.6025000002,
          884181.7566666667,
          853968.6683333333,
          856493.8616666665,
          943739.445,
          895811.2208333333,
          923831.5741666668,
          949738.1866666664,
          965533.0508333334,
          982901.0325,
          926853.9324999998,
          1406580.6766666668,
          1014341.845,
          1125590.4741666669,
          1231807.8624999998,
          1603440,
          939052.11,
          907881.0725,
          819789.4141666667,
          831345.7333333334,
          782211.9525,
          921612.7275,
          998243.475,
          1017561.3316666668,
          918304.045,
          943237.4,
          951809.1275,
          929032.78,
          907386.9066666664,
          905564.0775,
          1057752.5083333335,
          921250.8608333332,
          937558.9641666668,
          887963.4691666667,
          947187.8841666668,
          946191.4500000002,
          942372.0791666666,
          973081.9841666664,
          976275.7716666666,
          998541.4291666668,
          970035.7566666664,
          984332.4266666666,
          958134.4616666666,
          1030099.8891666668,
          932522.2416666668,
          933960.1633333334,
          896612.0283333332,
          949558.0825,
          949056.7000000002,
          954266.6208333336,
          974842.9275,
          969253.755
         ],
         "yaxis": "y"
        },
        {
         "hovertemplate": "variable=cluster: 2<br>Date=%{x}<br>value=%{y}<extra></extra>",
         "legendgroup": "cluster: 2",
         "line": {
          "color": "#00cc96",
          "dash": "solid"
         },
         "marker": {
          "symbol": "circle"
         },
         "mode": "lines",
         "name": "cluster: 2",
         "orientation": "v",
         "showlegend": true,
         "type": "scatter",
         "x": [
          "2010-02-05",
          "2010-02-12",
          "2010-02-19",
          "2010-02-26",
          "2010-03-05",
          "2010-03-12",
          "2010-03-19",
          "2010-03-26",
          "2010-04-02",
          "2010-04-09",
          "2010-04-16",
          "2010-04-23",
          "2010-04-30",
          "2010-05-07",
          "2010-05-14",
          "2010-05-21",
          "2010-05-28",
          "2010-06-04",
          "2010-06-11",
          "2010-06-18",
          "2010-06-25",
          "2010-07-02",
          "2010-07-09",
          "2010-07-16",
          "2010-07-23",
          "2010-07-30",
          "2010-08-06",
          "2010-08-13",
          "2010-08-20",
          "2010-08-27",
          "2010-09-03",
          "2010-09-10",
          "2010-09-17",
          "2010-09-24",
          "2010-10-01",
          "2010-10-08",
          "2010-10-15",
          "2010-10-22",
          "2010-10-29",
          "2010-11-05",
          "2010-11-12",
          "2010-11-19",
          "2010-11-26",
          "2010-12-03",
          "2010-12-10",
          "2010-12-17",
          "2010-12-24",
          "2010-12-31",
          "2011-01-07",
          "2011-01-14",
          "2011-01-21",
          "2011-01-28",
          "2011-02-04",
          "2011-02-11",
          "2011-02-18",
          "2011-02-25",
          "2011-03-04",
          "2011-03-11",
          "2011-03-18",
          "2011-03-25",
          "2011-04-01",
          "2011-04-08",
          "2011-04-15",
          "2011-04-22",
          "2011-04-29",
          "2011-05-06",
          "2011-05-13",
          "2011-05-20",
          "2011-05-27",
          "2011-06-03",
          "2011-06-10",
          "2011-06-17",
          "2011-06-24",
          "2011-07-01",
          "2011-07-08",
          "2011-07-15",
          "2011-07-22",
          "2011-07-29",
          "2011-08-05",
          "2011-08-12",
          "2011-08-19",
          "2011-08-26",
          "2011-09-02",
          "2011-09-09",
          "2011-09-16",
          "2011-09-23",
          "2011-09-30",
          "2011-10-07",
          "2011-10-14",
          "2011-10-21",
          "2011-10-28",
          "2011-11-04",
          "2011-11-11",
          "2011-11-18",
          "2011-11-25",
          "2011-12-02",
          "2011-12-09",
          "2011-12-16",
          "2011-12-23",
          "2011-12-30",
          "2012-01-06",
          "2012-01-13",
          "2012-01-20",
          "2012-01-27",
          "2012-02-03",
          "2012-02-10",
          "2012-02-17",
          "2012-02-24",
          "2012-03-02",
          "2012-03-09",
          "2012-03-16",
          "2012-03-23",
          "2012-03-30",
          "2012-04-06",
          "2012-04-13",
          "2012-04-20",
          "2012-04-27",
          "2012-05-04",
          "2012-05-11",
          "2012-05-18",
          "2012-05-25",
          "2012-06-01",
          "2012-06-08",
          "2012-06-15",
          "2012-06-22",
          "2012-06-29",
          "2012-07-06",
          "2012-07-13",
          "2012-07-20",
          "2012-07-27",
          "2012-08-03",
          "2012-08-10",
          "2012-08-17",
          "2012-08-24",
          "2012-08-31"
         ],
         "xaxis": "x",
         "y": [
          2190222.5457142857,
          2013109.761428572,
          2081313.687142857,
          1857167.32,
          1937089.8971428573,
          1965566.28,
          1912695.1271428573,
          1867174.23,
          2183078.235714286,
          1990703.4714285715,
          1905350.524285714,
          1890104.89,
          1857647.842857143,
          2059556.601428572,
          1922875.431428572,
          1905782.922857143,
          1978890.0571428568,
          2085752.2028571428,
          1997919.06,
          2000025.1928571423,
          1958147.484285714,
          2036072.2457142856,
          1970915.1571428569,
          1935346.005714286,
          1874587.6742857147,
          1868380.6328571425,
          1979419.0942857144,
          1961669.2042857143,
          1987356.5485714283,
          1883639.1357142853,
          1961555.0957142855,
          1902548.7385714285,
          1818968.1171428573,
          1737502.1757142858,
          1773527.8,
          1900749.7314285715,
          1832601.3014285716,
          1818179,
          1847261.652857143,
          1941157.2785714287,
          1980062.5442857144,
          1958203.8342857144,
          2787970.81,
          2144540.348571429,
          2435266.4271428576,
          2694952.9271428576,
          3567316.845714286,
          1684615.8357142855,
          1765045.387142857,
          1731223.6157142855,
          1732505.2528571428,
          1665054.4885714282,
          1977114.34,
          2034821.985714286,
          2070686.9514285717,
          1887827.082857143,
          1968399.7771428572,
          1891446.3842857145,
          1892130.0614285716,
          1798926.3057142857,
          1831194.5157142857,
          1919341.6242857145,
          1901337.1214285716,
          2104009.511428572,
          1835346.1085714283,
          1953236.7057142856,
          1902474.087142857,
          1846332.774285714,
          1891364.472857143,
          2006113.1857142856,
          1975201.0442857144,
          1994480.7985714283,
          1907435.9600000004,
          1970714.184285714,
          1975479.3957142856,
          1903098.8857142853,
          1875619.2971428572,
          1824476.442857143,
          2000279.587142857,
          1935090.5928571431,
          1970139.1957142856,
          1973531.7371428567,
          1857733.0257142857,
          1935628.1614285717,
          1828365.182857143,
          1799990.218571429,
          1771239.2557142857,
          1963838.594285715,
          1862353.437142857,
          1937819.0542857144,
          1924874.6828571428,
          2037279.1442857145,
          2066307.937142857,
          1985022.0585714283,
          2789894.2171428567,
          2072020.9057142856,
          2388995.107142857,
          2583230.205714286,
          3372710.1885714284,
          1912725.4528571428,
          1822224.9842857143,
          1756155.0542857142,
          1775436.6242857142,
          1653704.1957142856,
          1935576.728571428,
          2136814.765714286,
          2134759.032857143,
          1946732.69,
          1957591.448571429,
          1973065.1314285717,
          1969923.3228571431,
          1875804.9628571428,
          1900979.24,
          2267790.9214285715,
          1954600.972857143,
          1874950.0985714288,
          1821048.652857143,
          1960076.8542857144,
          1964032.3185714283,
          1973403.3085714283,
          1986568.9528571428,
          1997943.847142857,
          2053533.9057142856,
          2000757.407142857,
          1927634.634285714,
          1892128.1942857143,
          2077056.5628571429,
          1876234.6657142856,
          1881802.9485714284,
          1793647.0357142857,
          1937345.7285714285,
          1927842.44,
          1939422.48,
          1890585.492857143,
          1880023.5157142857
         ],
         "yaxis": "y"
        },
        {
         "hovertemplate": "variable=cluster: 3<br>Date=%{x}<br>value=%{y}<extra></extra>",
         "legendgroup": "cluster: 3",
         "line": {
          "color": "#ab63fa",
          "dash": "solid"
         },
         "marker": {
          "symbol": "circle"
         },
         "mode": "lines",
         "name": "cluster: 3",
         "orientation": "v",
         "showlegend": true,
         "type": "scatter",
         "x": [
          "2010-02-05",
          "2010-02-12",
          "2010-02-19",
          "2010-02-26",
          "2010-03-05",
          "2010-03-12",
          "2010-03-19",
          "2010-03-26",
          "2010-04-02",
          "2010-04-09",
          "2010-04-16",
          "2010-04-23",
          "2010-04-30",
          "2010-05-07",
          "2010-05-14",
          "2010-05-21",
          "2010-05-28",
          "2010-06-04",
          "2010-06-11",
          "2010-06-18",
          "2010-06-25",
          "2010-07-02",
          "2010-07-09",
          "2010-07-16",
          "2010-07-23",
          "2010-07-30",
          "2010-08-06",
          "2010-08-13",
          "2010-08-20",
          "2010-08-27",
          "2010-09-03",
          "2010-09-10",
          "2010-09-17",
          "2010-09-24",
          "2010-10-01",
          "2010-10-08",
          "2010-10-15",
          "2010-10-22",
          "2010-10-29",
          "2010-11-05",
          "2010-11-12",
          "2010-11-19",
          "2010-11-26",
          "2010-12-03",
          "2010-12-10",
          "2010-12-17",
          "2010-12-24",
          "2010-12-31",
          "2011-01-07",
          "2011-01-14",
          "2011-01-21",
          "2011-01-28",
          "2011-02-04",
          "2011-02-11",
          "2011-02-18",
          "2011-02-25",
          "2011-03-04",
          "2011-03-11",
          "2011-03-18",
          "2011-03-25",
          "2011-04-01",
          "2011-04-08",
          "2011-04-15",
          "2011-04-22",
          "2011-04-29",
          "2011-05-06",
          "2011-05-13",
          "2011-05-20",
          "2011-05-27",
          "2011-06-03",
          "2011-06-10",
          "2011-06-17",
          "2011-06-24",
          "2011-07-01",
          "2011-07-08",
          "2011-07-15",
          "2011-07-22",
          "2011-07-29",
          "2011-08-05",
          "2011-08-12",
          "2011-08-19",
          "2011-08-26",
          "2011-09-02",
          "2011-09-09",
          "2011-09-16",
          "2011-09-23",
          "2011-09-30",
          "2011-10-07",
          "2011-10-14",
          "2011-10-21",
          "2011-10-28",
          "2011-11-04",
          "2011-11-11",
          "2011-11-18",
          "2011-11-25",
          "2011-12-02",
          "2011-12-09",
          "2011-12-16",
          "2011-12-23",
          "2011-12-30",
          "2012-01-06",
          "2012-01-13",
          "2012-01-20",
          "2012-01-27",
          "2012-02-03",
          "2012-02-10",
          "2012-02-17",
          "2012-02-24",
          "2012-03-02",
          "2012-03-09",
          "2012-03-16",
          "2012-03-23",
          "2012-03-30",
          "2012-04-06",
          "2012-04-13",
          "2012-04-20",
          "2012-04-27",
          "2012-05-04",
          "2012-05-11",
          "2012-05-18",
          "2012-05-25",
          "2012-06-01",
          "2012-06-08",
          "2012-06-15",
          "2012-06-22",
          "2012-06-29",
          "2012-07-06",
          "2012-07-13",
          "2012-07-20",
          "2012-07-27",
          "2012-08-03",
          "2012-08-10",
          "2012-08-17",
          "2012-08-24",
          "2012-08-31"
         ],
         "xaxis": "x",
         "y": [
          1454415.334,
          1459927.564,
          1415064.546,
          1295683.939,
          1412530.3679999998,
          1347681.843,
          1323450.992,
          1284331.997,
          1492136.068,
          1400379.91,
          1324854.5809999998,
          1312360.768,
          1284527.2999999998,
          1432381.4470000004,
          1324888.896,
          1326110.8050000002,
          1413294.371,
          1525792.3469999998,
          1410805.0720000002,
          1404323.137,
          1357927.7630000005,
          1455380.7889999996,
          1433909.3540000005,
          1362401.7629999998,
          1324289.718,
          1312971.8129999998,
          1458388.638,
          1379269.826,
          1411591.886,
          1381259.844,
          1414400.489,
          1350848.935,
          1259181.378,
          1203673.7399999998,
          1243479.01,
          1321613.235,
          1256549.852,
          1238755.719,
          1265617.597,
          1359742.244,
          1354872.432,
          1334599.933,
          1963757.474,
          1469059.912,
          1635364.019,
          1833452.948,
          2403576.535,
          1217732.64,
          1259189.26,
          1195218.447,
          1196251.207,
          1176707.0939999998,
          1383065.56,
          1389207.9159999995,
          1459362.5529999998,
          1296020.8400000003,
          1430218.897,
          1323817.4670000002,
          1345994.645,
          1276623.7,
          1304316.816,
          1380714.062,
          1341254.578,
          1455284.0810000002,
          1307223.555,
          1413752.5400000005,
          1358841.17,
          1313469.9619999998,
          1345530.0280000002,
          1493202.5,
          1430961.664,
          1420171.2730000005,
          1360877.827,
          1433551.826,
          1462739.6379999998,
          1359638.4959999998,
          1358759.705,
          1307606.693,
          1474598.6179999998,
          1404189.2569999998,
          1443531.333,
          1426355.9300000002,
          1420357.224,
          1418800.546,
          1307517.5229999998,
          1274210.66,
          1262388.9190000002,
          1449660.0359999998,
          1330761.189,
          1363776.181,
          1362306.025,
          1484589.8050000002,
          1446816.252,
          1387473.9789999998,
          2003441.149,
          1472745.0340000002,
          1678829.53,
          1806592.071,
          2300538.256,
          1385685.179,
          1345241.8180000002,
          1248039.327,
          1247722.517,
          1196459.257,
          1389431.42,
          1504125.8409999995,
          1505254.132,
          1366571.198,
          1409549.5510000002,
          1446987.331,
          1422141.62,
          1342577.018,
          1354538.082,
          1637805.5629999998,
          1419507.8269999998,
          1328668.943,
          1310713.463,
          1434105.5340000002,
          1403008.89,
          1396995.6549999998,
          1447179.1999999995,
          1472715.95,
          1511647.731,
          1467195.574,
          1442036.221,
          1407284.142,
          1592937.7610000002,
          1390560.6719999998,
          1398127.87,
          1337522.3809999998,
          1467175.5810000002,
          1471403.8619999995,
          1472062.004,
          1472355.971,
          1466935.4840000004
         ],
         "yaxis": "y"
        }
       ],
       "layout": {
        "legend": {
         "title": {
          "text": "variable"
         },
         "tracegroupgap": 0
        },
        "template": {
         "data": {
          "bar": [
           {
            "error_x": {
             "color": "#2a3f5f"
            },
            "error_y": {
             "color": "#2a3f5f"
            },
            "marker": {
             "line": {
              "color": "#E5ECF6",
              "width": 0.5
             },
             "pattern": {
              "fillmode": "overlay",
              "size": 10,
              "solidity": 0.2
             }
            },
            "type": "bar"
           }
          ],
          "barpolar": [
           {
            "marker": {
             "line": {
              "color": "#E5ECF6",
              "width": 0.5
             },
             "pattern": {
              "fillmode": "overlay",
              "size": 10,
              "solidity": 0.2
             }
            },
            "type": "barpolar"
           }
          ],
          "carpet": [
           {
            "aaxis": {
             "endlinecolor": "#2a3f5f",
             "gridcolor": "white",
             "linecolor": "white",
             "minorgridcolor": "white",
             "startlinecolor": "#2a3f5f"
            },
            "baxis": {
             "endlinecolor": "#2a3f5f",
             "gridcolor": "white",
             "linecolor": "white",
             "minorgridcolor": "white",
             "startlinecolor": "#2a3f5f"
            },
            "type": "carpet"
           }
          ],
          "choropleth": [
           {
            "colorbar": {
             "outlinewidth": 0,
             "ticks": ""
            },
            "type": "choropleth"
           }
          ],
          "contour": [
           {
            "colorbar": {
             "outlinewidth": 0,
             "ticks": ""
            },
            "colorscale": [
             [
              0,
              "#0d0887"
             ],
             [
              0.1111111111111111,
              "#46039f"
             ],
             [
              0.2222222222222222,
              "#7201a8"
             ],
             [
              0.3333333333333333,
              "#9c179e"
             ],
             [
              0.4444444444444444,
              "#bd3786"
             ],
             [
              0.5555555555555556,
              "#d8576b"
             ],
             [
              0.6666666666666666,
              "#ed7953"
             ],
             [
              0.7777777777777778,
              "#fb9f3a"
             ],
             [
              0.8888888888888888,
              "#fdca26"
             ],
             [
              1,
              "#f0f921"
             ]
            ],
            "type": "contour"
           }
          ],
          "contourcarpet": [
           {
            "colorbar": {
             "outlinewidth": 0,
             "ticks": ""
            },
            "type": "contourcarpet"
           }
          ],
          "heatmap": [
           {
            "colorbar": {
             "outlinewidth": 0,
             "ticks": ""
            },
            "colorscale": [
             [
              0,
              "#0d0887"
             ],
             [
              0.1111111111111111,
              "#46039f"
             ],
             [
              0.2222222222222222,
              "#7201a8"
             ],
             [
              0.3333333333333333,
              "#9c179e"
             ],
             [
              0.4444444444444444,
              "#bd3786"
             ],
             [
              0.5555555555555556,
              "#d8576b"
             ],
             [
              0.6666666666666666,
              "#ed7953"
             ],
             [
              0.7777777777777778,
              "#fb9f3a"
             ],
             [
              0.8888888888888888,
              "#fdca26"
             ],
             [
              1,
              "#f0f921"
             ]
            ],
            "type": "heatmap"
           }
          ],
          "heatmapgl": [
           {
            "colorbar": {
             "outlinewidth": 0,
             "ticks": ""
            },
            "colorscale": [
             [
              0,
              "#0d0887"
             ],
             [
              0.1111111111111111,
              "#46039f"
             ],
             [
              0.2222222222222222,
              "#7201a8"
             ],
             [
              0.3333333333333333,
              "#9c179e"
             ],
             [
              0.4444444444444444,
              "#bd3786"
             ],
             [
              0.5555555555555556,
              "#d8576b"
             ],
             [
              0.6666666666666666,
              "#ed7953"
             ],
             [
              0.7777777777777778,
              "#fb9f3a"
             ],
             [
              0.8888888888888888,
              "#fdca26"
             ],
             [
              1,
              "#f0f921"
             ]
            ],
            "type": "heatmapgl"
           }
          ],
          "histogram": [
           {
            "marker": {
             "pattern": {
              "fillmode": "overlay",
              "size": 10,
              "solidity": 0.2
             }
            },
            "type": "histogram"
           }
          ],
          "histogram2d": [
           {
            "colorbar": {
             "outlinewidth": 0,
             "ticks": ""
            },
            "colorscale": [
             [
              0,
              "#0d0887"
             ],
             [
              0.1111111111111111,
              "#46039f"
             ],
             [
              0.2222222222222222,
              "#7201a8"
             ],
             [
              0.3333333333333333,
              "#9c179e"
             ],
             [
              0.4444444444444444,
              "#bd3786"
             ],
             [
              0.5555555555555556,
              "#d8576b"
             ],
             [
              0.6666666666666666,
              "#ed7953"
             ],
             [
              0.7777777777777778,
              "#fb9f3a"
             ],
             [
              0.8888888888888888,
              "#fdca26"
             ],
             [
              1,
              "#f0f921"
             ]
            ],
            "type": "histogram2d"
           }
          ],
          "histogram2dcontour": [
           {
            "colorbar": {
             "outlinewidth": 0,
             "ticks": ""
            },
            "colorscale": [
             [
              0,
              "#0d0887"
             ],
             [
              0.1111111111111111,
              "#46039f"
             ],
             [
              0.2222222222222222,
              "#7201a8"
             ],
             [
              0.3333333333333333,
              "#9c179e"
             ],
             [
              0.4444444444444444,
              "#bd3786"
             ],
             [
              0.5555555555555556,
              "#d8576b"
             ],
             [
              0.6666666666666666,
              "#ed7953"
             ],
             [
              0.7777777777777778,
              "#fb9f3a"
             ],
             [
              0.8888888888888888,
              "#fdca26"
             ],
             [
              1,
              "#f0f921"
             ]
            ],
            "type": "histogram2dcontour"
           }
          ],
          "mesh3d": [
           {
            "colorbar": {
             "outlinewidth": 0,
             "ticks": ""
            },
            "type": "mesh3d"
           }
          ],
          "parcoords": [
           {
            "line": {
             "colorbar": {
              "outlinewidth": 0,
              "ticks": ""
             }
            },
            "type": "parcoords"
           }
          ],
          "pie": [
           {
            "automargin": true,
            "type": "pie"
           }
          ],
          "scatter": [
           {
            "fillpattern": {
             "fillmode": "overlay",
             "size": 10,
             "solidity": 0.2
            },
            "type": "scatter"
           }
          ],
          "scatter3d": [
           {
            "line": {
             "colorbar": {
              "outlinewidth": 0,
              "ticks": ""
             }
            },
            "marker": {
             "colorbar": {
              "outlinewidth": 0,
              "ticks": ""
             }
            },
            "type": "scatter3d"
           }
          ],
          "scattercarpet": [
           {
            "marker": {
             "colorbar": {
              "outlinewidth": 0,
              "ticks": ""
             }
            },
            "type": "scattercarpet"
           }
          ],
          "scattergeo": [
           {
            "marker": {
             "colorbar": {
              "outlinewidth": 0,
              "ticks": ""
             }
            },
            "type": "scattergeo"
           }
          ],
          "scattergl": [
           {
            "marker": {
             "colorbar": {
              "outlinewidth": 0,
              "ticks": ""
             }
            },
            "type": "scattergl"
           }
          ],
          "scattermapbox": [
           {
            "marker": {
             "colorbar": {
              "outlinewidth": 0,
              "ticks": ""
             }
            },
            "type": "scattermapbox"
           }
          ],
          "scatterpolar": [
           {
            "marker": {
             "colorbar": {
              "outlinewidth": 0,
              "ticks": ""
             }
            },
            "type": "scatterpolar"
           }
          ],
          "scatterpolargl": [
           {
            "marker": {
             "colorbar": {
              "outlinewidth": 0,
              "ticks": ""
             }
            },
            "type": "scatterpolargl"
           }
          ],
          "scatterternary": [
           {
            "marker": {
             "colorbar": {
              "outlinewidth": 0,
              "ticks": ""
             }
            },
            "type": "scatterternary"
           }
          ],
          "surface": [
           {
            "colorbar": {
             "outlinewidth": 0,
             "ticks": ""
            },
            "colorscale": [
             [
              0,
              "#0d0887"
             ],
             [
              0.1111111111111111,
              "#46039f"
             ],
             [
              0.2222222222222222,
              "#7201a8"
             ],
             [
              0.3333333333333333,
              "#9c179e"
             ],
             [
              0.4444444444444444,
              "#bd3786"
             ],
             [
              0.5555555555555556,
              "#d8576b"
             ],
             [
              0.6666666666666666,
              "#ed7953"
             ],
             [
              0.7777777777777778,
              "#fb9f3a"
             ],
             [
              0.8888888888888888,
              "#fdca26"
             ],
             [
              1,
              "#f0f921"
             ]
            ],
            "type": "surface"
           }
          ],
          "table": [
           {
            "cells": {
             "fill": {
              "color": "#EBF0F8"
             },
             "line": {
              "color": "white"
             }
            },
            "header": {
             "fill": {
              "color": "#C8D4E3"
             },
             "line": {
              "color": "white"
             }
            },
            "type": "table"
           }
          ]
         },
         "layout": {
          "annotationdefaults": {
           "arrowcolor": "#2a3f5f",
           "arrowhead": 0,
           "arrowwidth": 1
          },
          "autotypenumbers": "strict",
          "coloraxis": {
           "colorbar": {
            "outlinewidth": 0,
            "ticks": ""
           }
          },
          "colorscale": {
           "diverging": [
            [
             0,
             "#8e0152"
            ],
            [
             0.1,
             "#c51b7d"
            ],
            [
             0.2,
             "#de77ae"
            ],
            [
             0.3,
             "#f1b6da"
            ],
            [
             0.4,
             "#fde0ef"
            ],
            [
             0.5,
             "#f7f7f7"
            ],
            [
             0.6,
             "#e6f5d0"
            ],
            [
             0.7,
             "#b8e186"
            ],
            [
             0.8,
             "#7fbc41"
            ],
            [
             0.9,
             "#4d9221"
            ],
            [
             1,
             "#276419"
            ]
           ],
           "sequential": [
            [
             0,
             "#0d0887"
            ],
            [
             0.1111111111111111,
             "#46039f"
            ],
            [
             0.2222222222222222,
             "#7201a8"
            ],
            [
             0.3333333333333333,
             "#9c179e"
            ],
            [
             0.4444444444444444,
             "#bd3786"
            ],
            [
             0.5555555555555556,
             "#d8576b"
            ],
            [
             0.6666666666666666,
             "#ed7953"
            ],
            [
             0.7777777777777778,
             "#fb9f3a"
            ],
            [
             0.8888888888888888,
             "#fdca26"
            ],
            [
             1,
             "#f0f921"
            ]
           ],
           "sequentialminus": [
            [
             0,
             "#0d0887"
            ],
            [
             0.1111111111111111,
             "#46039f"
            ],
            [
             0.2222222222222222,
             "#7201a8"
            ],
            [
             0.3333333333333333,
             "#9c179e"
            ],
            [
             0.4444444444444444,
             "#bd3786"
            ],
            [
             0.5555555555555556,
             "#d8576b"
            ],
            [
             0.6666666666666666,
             "#ed7953"
            ],
            [
             0.7777777777777778,
             "#fb9f3a"
            ],
            [
             0.8888888888888888,
             "#fdca26"
            ],
            [
             1,
             "#f0f921"
            ]
           ]
          },
          "colorway": [
           "#636efa",
           "#EF553B",
           "#00cc96",
           "#ab63fa",
           "#FFA15A",
           "#19d3f3",
           "#FF6692",
           "#B6E880",
           "#FF97FF",
           "#FECB52"
          ],
          "font": {
           "color": "#2a3f5f"
          },
          "geo": {
           "bgcolor": "white",
           "lakecolor": "white",
           "landcolor": "#E5ECF6",
           "showlakes": true,
           "showland": true,
           "subunitcolor": "white"
          },
          "hoverlabel": {
           "align": "left"
          },
          "hovermode": "closest",
          "mapbox": {
           "style": "light"
          },
          "paper_bgcolor": "white",
          "plot_bgcolor": "#E5ECF6",
          "polar": {
           "angularaxis": {
            "gridcolor": "white",
            "linecolor": "white",
            "ticks": ""
           },
           "bgcolor": "#E5ECF6",
           "radialaxis": {
            "gridcolor": "white",
            "linecolor": "white",
            "ticks": ""
           }
          },
          "scene": {
           "xaxis": {
            "backgroundcolor": "#E5ECF6",
            "gridcolor": "white",
            "gridwidth": 2,
            "linecolor": "white",
            "showbackground": true,
            "ticks": "",
            "zerolinecolor": "white"
           },
           "yaxis": {
            "backgroundcolor": "#E5ECF6",
            "gridcolor": "white",
            "gridwidth": 2,
            "linecolor": "white",
            "showbackground": true,
            "ticks": "",
            "zerolinecolor": "white"
           },
           "zaxis": {
            "backgroundcolor": "#E5ECF6",
            "gridcolor": "white",
            "gridwidth": 2,
            "linecolor": "white",
            "showbackground": true,
            "ticks": "",
            "zerolinecolor": "white"
           }
          },
          "shapedefaults": {
           "line": {
            "color": "#2a3f5f"
           }
          },
          "ternary": {
           "aaxis": {
            "gridcolor": "white",
            "linecolor": "white",
            "ticks": ""
           },
           "baxis": {
            "gridcolor": "white",
            "linecolor": "white",
            "ticks": ""
           },
           "bgcolor": "#E5ECF6",
           "caxis": {
            "gridcolor": "white",
            "linecolor": "white",
            "ticks": ""
           }
          },
          "title": {
           "x": 0.05
          },
          "xaxis": {
           "automargin": true,
           "gridcolor": "white",
           "linecolor": "white",
           "ticks": "",
           "title": {
            "standoff": 15
           },
           "zerolinecolor": "white",
           "zerolinewidth": 2
          },
          "yaxis": {
           "automargin": true,
           "gridcolor": "white",
           "linecolor": "white",
           "ticks": "",
           "title": {
            "standoff": 15
           },
           "zerolinecolor": "white",
           "zerolinewidth": 2
          }
         }
        },
        "title": {
         "text": "Clusters"
        },
        "xaxis": {
         "anchor": "y",
         "domain": [
          0,
          1
         ],
         "title": {
          "text": "Date"
         }
        },
        "yaxis": {
         "anchor": "x",
         "domain": [
          0,
          1
         ],
         "title": {
          "text": "Weekly_Sales"
         }
        }
       }
      },
      "text/html": [
       "<div>                            <div id=\"f5039223-e368-4686-9cfc-60b2fbbf7cf7\" class=\"plotly-graph-div\" style=\"height:525px; width:100%;\"></div>            <script type=\"text/javascript\">                require([\"plotly\"], function(Plotly) {                    window.PLOTLYENV=window.PLOTLYENV || {};                                    if (document.getElementById(\"f5039223-e368-4686-9cfc-60b2fbbf7cf7\")) {                    Plotly.newPlot(                        \"f5039223-e368-4686-9cfc-60b2fbbf7cf7\",                        [{\"hovertemplate\":\"variable=cluster: 0<br>Date=%{x}<br>value=%{y}<extra></extra>\",\"legendgroup\":\"cluster: 0\",\"line\":{\"color\":\"#636efa\",\"dash\":\"solid\"},\"marker\":{\"symbol\":\"circle\"},\"mode\":\"lines\",\"name\":\"cluster: 0\",\"orientation\":\"v\",\"showlegend\":true,\"x\":[\"2010-02-05\",\"2010-02-12\",\"2010-02-19\",\"2010-02-26\",\"2010-03-05\",\"2010-03-12\",\"2010-03-19\",\"2010-03-26\",\"2010-04-02\",\"2010-04-09\",\"2010-04-16\",\"2010-04-23\",\"2010-04-30\",\"2010-05-07\",\"2010-05-14\",\"2010-05-21\",\"2010-05-28\",\"2010-06-04\",\"2010-06-11\",\"2010-06-18\",\"2010-06-25\",\"2010-07-02\",\"2010-07-09\",\"2010-07-16\",\"2010-07-23\",\"2010-07-30\",\"2010-08-06\",\"2010-08-13\",\"2010-08-20\",\"2010-08-27\",\"2010-09-03\",\"2010-09-10\",\"2010-09-17\",\"2010-09-24\",\"2010-10-01\",\"2010-10-08\",\"2010-10-15\",\"2010-10-22\",\"2010-10-29\",\"2010-11-05\",\"2010-11-12\",\"2010-11-19\",\"2010-11-26\",\"2010-12-03\",\"2010-12-10\",\"2010-12-17\",\"2010-12-24\",\"2010-12-31\",\"2011-01-07\",\"2011-01-14\",\"2011-01-21\",\"2011-01-28\",\"2011-02-04\",\"2011-02-11\",\"2011-02-18\",\"2011-02-25\",\"2011-03-04\",\"2011-03-11\",\"2011-03-18\",\"2011-03-25\",\"2011-04-01\",\"2011-04-08\",\"2011-04-15\",\"2011-04-22\",\"2011-04-29\",\"2011-05-06\",\"2011-05-13\",\"2011-05-20\",\"2011-05-27\",\"2011-06-03\",\"2011-06-10\",\"2011-06-17\",\"2011-06-24\",\"2011-07-01\",\"2011-07-08\",\"2011-07-15\",\"2011-07-22\",\"2011-07-29\",\"2011-08-05\",\"2011-08-12\",\"2011-08-19\",\"2011-08-26\",\"2011-09-02\",\"2011-09-09\",\"2011-09-16\",\"2011-09-23\",\"2011-09-30\",\"2011-10-07\",\"2011-10-14\",\"2011-10-21\",\"2011-10-28\",\"2011-11-04\",\"2011-11-11\",\"2011-11-18\",\"2011-11-25\",\"2011-12-02\",\"2011-12-09\",\"2011-12-16\",\"2011-12-23\",\"2011-12-30\",\"2012-01-06\",\"2012-01-13\",\"2012-01-20\",\"2012-01-27\",\"2012-02-03\",\"2012-02-10\",\"2012-02-17\",\"2012-02-24\",\"2012-03-02\",\"2012-03-09\",\"2012-03-16\",\"2012-03-23\",\"2012-03-30\",\"2012-04-06\",\"2012-04-13\",\"2012-04-20\",\"2012-04-27\",\"2012-05-04\",\"2012-05-11\",\"2012-05-18\",\"2012-05-25\",\"2012-06-01\",\"2012-06-08\",\"2012-06-15\",\"2012-06-22\",\"2012-06-29\",\"2012-07-06\",\"2012-07-13\",\"2012-07-20\",\"2012-07-27\",\"2012-08-03\",\"2012-08-10\",\"2012-08-17\",\"2012-08-24\",\"2012-08-31\"],\"xaxis\":\"x\",\"y\":[483979.99625,484765.0118750001,474784.978125,450464.7787500001,474192.82062499993,466755.48625,461212.64875000005,456043.551875,500747.515,482485.1325,467839.92125,447939.13062499993,444669.506875,485794.01875,463907.989375,457771.205625,481814.92875,498876.4831250001,484662.910625,485870.689375,475637.2475,496194.90125000005,495918.37125,480367.65375000006,463601.1775,460398.5662500001,496991.51375,478403.965625,472849.65,470570.8925000001,481714.50375,475602.738125,458643.5306250001,441945.73125,448235.8499999999,471939.9943750001,449762.0775,457680.513125,448095.8062500001,470196.639375,467584.97125,455633.496875,623360.4450000001,494127.92,534360.8987499999,574582.9975,718953.93625,439060.93875,463514.18875,445944.6075,432907.51875,424967.22125000006,481986.856875,480814.63812500006,484566.149375,447027.630625,475013.815,460230.016875,462980.82,446727.78687499993,449632.906875,473596.675625,462582.94625,469830.6875,434210.349375,472257.51,467419.394375,452102.166875,456180.365625,490468.7168750001,495459.560625,488537.6156250001,476594.7618750001,488543.910625,500501.498125,478675.764375,469164.33,449666.531875,490153.705625,475064.89,474439.376875,474993.74375,475179.64,479020.350625,456877.975,445527.14875000005,430958.778125,477709.0325,455062.4731250001,470654.975625,460111.240625,497643.47,484193.38875,471677.43875,634435.3812499999,499178.6056249999,533925.0843749999,572216.855625,696412.954375,470494.108125,490803.48625,463257.925,449972.89125,431744.329375,473931.51125,501970.26375,499404.14875000005,466188.574375,483971.9018749999,486088.45375,483889.51562500006,471796.65125000005,472116.1006250001,534793.3475,481060.36625,463155.133125,450422.6225,481021.87875,487079.1675,483230.92749999993,489856.545625,490848.3825,511091.24875,505901.521875,496405.70375,486359.970625,526440.60125,491888.485,481132.641875,462941.105,491126.6625,487864.676875,475417.21875,486971.895,481192.169375],\"yaxis\":\"y\",\"type\":\"scatter\"},{\"hovertemplate\":\"variable=cluster: 1<br>Date=%{x}<br>value=%{y}<extra></extra>\",\"legendgroup\":\"cluster: 1\",\"line\":{\"color\":\"#EF553B\",\"dash\":\"solid\"},\"marker\":{\"symbol\":\"circle\"},\"mode\":\"lines\",\"name\":\"cluster: 1\",\"orientation\":\"v\",\"showlegend\":true,\"x\":[\"2010-02-05\",\"2010-02-12\",\"2010-02-19\",\"2010-02-26\",\"2010-03-05\",\"2010-03-12\",\"2010-03-19\",\"2010-03-26\",\"2010-04-02\",\"2010-04-09\",\"2010-04-16\",\"2010-04-23\",\"2010-04-30\",\"2010-05-07\",\"2010-05-14\",\"2010-05-21\",\"2010-05-28\",\"2010-06-04\",\"2010-06-11\",\"2010-06-18\",\"2010-06-25\",\"2010-07-02\",\"2010-07-09\",\"2010-07-16\",\"2010-07-23\",\"2010-07-30\",\"2010-08-06\",\"2010-08-13\",\"2010-08-20\",\"2010-08-27\",\"2010-09-03\",\"2010-09-10\",\"2010-09-17\",\"2010-09-24\",\"2010-10-01\",\"2010-10-08\",\"2010-10-15\",\"2010-10-22\",\"2010-10-29\",\"2010-11-05\",\"2010-11-12\",\"2010-11-19\",\"2010-11-26\",\"2010-12-03\",\"2010-12-10\",\"2010-12-17\",\"2010-12-24\",\"2010-12-31\",\"2011-01-07\",\"2011-01-14\",\"2011-01-21\",\"2011-01-28\",\"2011-02-04\",\"2011-02-11\",\"2011-02-18\",\"2011-02-25\",\"2011-03-04\",\"2011-03-11\",\"2011-03-18\",\"2011-03-25\",\"2011-04-01\",\"2011-04-08\",\"2011-04-15\",\"2011-04-22\",\"2011-04-29\",\"2011-05-06\",\"2011-05-13\",\"2011-05-20\",\"2011-05-27\",\"2011-06-03\",\"2011-06-10\",\"2011-06-17\",\"2011-06-24\",\"2011-07-01\",\"2011-07-08\",\"2011-07-15\",\"2011-07-22\",\"2011-07-29\",\"2011-08-05\",\"2011-08-12\",\"2011-08-19\",\"2011-08-26\",\"2011-09-02\",\"2011-09-09\",\"2011-09-16\",\"2011-09-23\",\"2011-09-30\",\"2011-10-07\",\"2011-10-14\",\"2011-10-21\",\"2011-10-28\",\"2011-11-04\",\"2011-11-11\",\"2011-11-18\",\"2011-11-25\",\"2011-12-02\",\"2011-12-09\",\"2011-12-16\",\"2011-12-23\",\"2011-12-30\",\"2012-01-06\",\"2012-01-13\",\"2012-01-20\",\"2012-01-27\",\"2012-02-03\",\"2012-02-10\",\"2012-02-17\",\"2012-02-24\",\"2012-03-02\",\"2012-03-09\",\"2012-03-16\",\"2012-03-23\",\"2012-03-30\",\"2012-04-06\",\"2012-04-13\",\"2012-04-20\",\"2012-04-27\",\"2012-05-04\",\"2012-05-11\",\"2012-05-18\",\"2012-05-25\",\"2012-06-01\",\"2012-06-08\",\"2012-06-15\",\"2012-06-22\",\"2012-06-29\",\"2012-07-06\",\"2012-07-13\",\"2012-07-20\",\"2012-07-27\",\"2012-08-03\",\"2012-08-10\",\"2012-08-17\",\"2012-08-24\",\"2012-08-31\"],\"xaxis\":\"x\",\"y\":[1010945.7833333332,990782.7891666666,996716.0716666668,900343.6699999999,966621.0175,935127.1950000002,915516.3708333336,910310.3866666668,1017413.5575,975567.0766666668,926019.0716666668,934423.7133333334,895133.8916666667,999152.3783333332,933211.2825,932848.355,1005274.1325,1029027.5416666666,998204.6675,983725.6233333334,976044.1925,1014337.7058333332,985777.9825,948881.4541666668,925518.2808333334,921300.3166666664,984442.905,940464.3558333332,955661.985,948544.4808333332,967661.2491666664,933201.9591666666,868153.285,840677.5066666667,851551.4641666667,919212.8208333332,879964.3816666667,885747.5933333333,903857.5425,922776.0225,936189.9299999998,898501.8383333333,1391155.475833333,1025049.9666666668,1143040.9025,1285689.326666667,1701764.1125,786492.2366666665,867695.8583333334,788984.5216666666,803173.2558333334,781493.7691666667,897572.1000000001,958943.7841666668,989555.9716666668,899868.3224999999,941616.2925,898778.3158333334,896647.995,864152.7791666667,866944.5874999999,922282.3408333332,904174.6291666664,989874.49,888584.0866666666,957971.3025,921808.6824999998,896161.1941666668,941643.2808333331,995806.4583333334,967196.4658333332,955656.7941666666,941479.0266666664,969274.93,949623.9583333334,911586.7291666666,920904.19,886767.3025000002,952088.6891666664,921750.3483333336,925002.4691666669,978230.5891666668,880503.7975,946791.6025000002,884181.7566666667,853968.6683333333,856493.8616666665,943739.445,895811.2208333333,923831.5741666668,949738.1866666664,965533.0508333334,982901.0325,926853.9324999998,1406580.6766666668,1014341.845,1125590.4741666669,1231807.8624999998,1603440.0,939052.11,907881.0725,819789.4141666667,831345.7333333334,782211.9525,921612.7275,998243.475,1017561.3316666668,918304.045,943237.4,951809.1275,929032.78,907386.9066666664,905564.0775,1057752.5083333335,921250.8608333332,937558.9641666668,887963.4691666667,947187.8841666668,946191.4500000002,942372.0791666666,973081.9841666664,976275.7716666666,998541.4291666668,970035.7566666664,984332.4266666666,958134.4616666666,1030099.8891666668,932522.2416666668,933960.1633333334,896612.0283333332,949558.0825,949056.7000000002,954266.6208333336,974842.9275,969253.755],\"yaxis\":\"y\",\"type\":\"scatter\"},{\"hovertemplate\":\"variable=cluster: 2<br>Date=%{x}<br>value=%{y}<extra></extra>\",\"legendgroup\":\"cluster: 2\",\"line\":{\"color\":\"#00cc96\",\"dash\":\"solid\"},\"marker\":{\"symbol\":\"circle\"},\"mode\":\"lines\",\"name\":\"cluster: 2\",\"orientation\":\"v\",\"showlegend\":true,\"x\":[\"2010-02-05\",\"2010-02-12\",\"2010-02-19\",\"2010-02-26\",\"2010-03-05\",\"2010-03-12\",\"2010-03-19\",\"2010-03-26\",\"2010-04-02\",\"2010-04-09\",\"2010-04-16\",\"2010-04-23\",\"2010-04-30\",\"2010-05-07\",\"2010-05-14\",\"2010-05-21\",\"2010-05-28\",\"2010-06-04\",\"2010-06-11\",\"2010-06-18\",\"2010-06-25\",\"2010-07-02\",\"2010-07-09\",\"2010-07-16\",\"2010-07-23\",\"2010-07-30\",\"2010-08-06\",\"2010-08-13\",\"2010-08-20\",\"2010-08-27\",\"2010-09-03\",\"2010-09-10\",\"2010-09-17\",\"2010-09-24\",\"2010-10-01\",\"2010-10-08\",\"2010-10-15\",\"2010-10-22\",\"2010-10-29\",\"2010-11-05\",\"2010-11-12\",\"2010-11-19\",\"2010-11-26\",\"2010-12-03\",\"2010-12-10\",\"2010-12-17\",\"2010-12-24\",\"2010-12-31\",\"2011-01-07\",\"2011-01-14\",\"2011-01-21\",\"2011-01-28\",\"2011-02-04\",\"2011-02-11\",\"2011-02-18\",\"2011-02-25\",\"2011-03-04\",\"2011-03-11\",\"2011-03-18\",\"2011-03-25\",\"2011-04-01\",\"2011-04-08\",\"2011-04-15\",\"2011-04-22\",\"2011-04-29\",\"2011-05-06\",\"2011-05-13\",\"2011-05-20\",\"2011-05-27\",\"2011-06-03\",\"2011-06-10\",\"2011-06-17\",\"2011-06-24\",\"2011-07-01\",\"2011-07-08\",\"2011-07-15\",\"2011-07-22\",\"2011-07-29\",\"2011-08-05\",\"2011-08-12\",\"2011-08-19\",\"2011-08-26\",\"2011-09-02\",\"2011-09-09\",\"2011-09-16\",\"2011-09-23\",\"2011-09-30\",\"2011-10-07\",\"2011-10-14\",\"2011-10-21\",\"2011-10-28\",\"2011-11-04\",\"2011-11-11\",\"2011-11-18\",\"2011-11-25\",\"2011-12-02\",\"2011-12-09\",\"2011-12-16\",\"2011-12-23\",\"2011-12-30\",\"2012-01-06\",\"2012-01-13\",\"2012-01-20\",\"2012-01-27\",\"2012-02-03\",\"2012-02-10\",\"2012-02-17\",\"2012-02-24\",\"2012-03-02\",\"2012-03-09\",\"2012-03-16\",\"2012-03-23\",\"2012-03-30\",\"2012-04-06\",\"2012-04-13\",\"2012-04-20\",\"2012-04-27\",\"2012-05-04\",\"2012-05-11\",\"2012-05-18\",\"2012-05-25\",\"2012-06-01\",\"2012-06-08\",\"2012-06-15\",\"2012-06-22\",\"2012-06-29\",\"2012-07-06\",\"2012-07-13\",\"2012-07-20\",\"2012-07-27\",\"2012-08-03\",\"2012-08-10\",\"2012-08-17\",\"2012-08-24\",\"2012-08-31\"],\"xaxis\":\"x\",\"y\":[2190222.5457142857,2013109.761428572,2081313.687142857,1857167.32,1937089.8971428573,1965566.28,1912695.1271428573,1867174.23,2183078.235714286,1990703.4714285715,1905350.524285714,1890104.89,1857647.842857143,2059556.601428572,1922875.431428572,1905782.922857143,1978890.0571428568,2085752.2028571428,1997919.06,2000025.1928571423,1958147.484285714,2036072.2457142856,1970915.1571428569,1935346.005714286,1874587.6742857147,1868380.6328571425,1979419.0942857144,1961669.2042857143,1987356.5485714283,1883639.1357142853,1961555.0957142855,1902548.7385714285,1818968.1171428573,1737502.1757142858,1773527.8,1900749.7314285715,1832601.3014285716,1818179.0,1847261.652857143,1941157.2785714287,1980062.5442857144,1958203.8342857144,2787970.81,2144540.348571429,2435266.4271428576,2694952.9271428576,3567316.845714286,1684615.8357142855,1765045.387142857,1731223.6157142855,1732505.2528571428,1665054.4885714282,1977114.34,2034821.985714286,2070686.9514285717,1887827.082857143,1968399.7771428572,1891446.3842857145,1892130.0614285716,1798926.3057142857,1831194.5157142857,1919341.6242857145,1901337.1214285716,2104009.511428572,1835346.1085714283,1953236.7057142856,1902474.087142857,1846332.774285714,1891364.472857143,2006113.1857142856,1975201.0442857144,1994480.7985714283,1907435.9600000004,1970714.184285714,1975479.3957142856,1903098.8857142853,1875619.2971428572,1824476.442857143,2000279.587142857,1935090.5928571431,1970139.1957142856,1973531.7371428567,1857733.0257142857,1935628.1614285717,1828365.182857143,1799990.218571429,1771239.2557142857,1963838.594285715,1862353.437142857,1937819.0542857144,1924874.6828571428,2037279.1442857145,2066307.937142857,1985022.0585714283,2789894.2171428567,2072020.9057142856,2388995.107142857,2583230.205714286,3372710.1885714284,1912725.4528571428,1822224.9842857143,1756155.0542857142,1775436.6242857142,1653704.1957142856,1935576.728571428,2136814.765714286,2134759.032857143,1946732.69,1957591.448571429,1973065.1314285717,1969923.3228571431,1875804.9628571428,1900979.24,2267790.9214285715,1954600.972857143,1874950.0985714288,1821048.652857143,1960076.8542857144,1964032.3185714283,1973403.3085714283,1986568.9528571428,1997943.847142857,2053533.9057142856,2000757.407142857,1927634.634285714,1892128.1942857143,2077056.5628571429,1876234.6657142856,1881802.9485714284,1793647.0357142857,1937345.7285714285,1927842.44,1939422.48,1890585.492857143,1880023.5157142857],\"yaxis\":\"y\",\"type\":\"scatter\"},{\"hovertemplate\":\"variable=cluster: 3<br>Date=%{x}<br>value=%{y}<extra></extra>\",\"legendgroup\":\"cluster: 3\",\"line\":{\"color\":\"#ab63fa\",\"dash\":\"solid\"},\"marker\":{\"symbol\":\"circle\"},\"mode\":\"lines\",\"name\":\"cluster: 3\",\"orientation\":\"v\",\"showlegend\":true,\"x\":[\"2010-02-05\",\"2010-02-12\",\"2010-02-19\",\"2010-02-26\",\"2010-03-05\",\"2010-03-12\",\"2010-03-19\",\"2010-03-26\",\"2010-04-02\",\"2010-04-09\",\"2010-04-16\",\"2010-04-23\",\"2010-04-30\",\"2010-05-07\",\"2010-05-14\",\"2010-05-21\",\"2010-05-28\",\"2010-06-04\",\"2010-06-11\",\"2010-06-18\",\"2010-06-25\",\"2010-07-02\",\"2010-07-09\",\"2010-07-16\",\"2010-07-23\",\"2010-07-30\",\"2010-08-06\",\"2010-08-13\",\"2010-08-20\",\"2010-08-27\",\"2010-09-03\",\"2010-09-10\",\"2010-09-17\",\"2010-09-24\",\"2010-10-01\",\"2010-10-08\",\"2010-10-15\",\"2010-10-22\",\"2010-10-29\",\"2010-11-05\",\"2010-11-12\",\"2010-11-19\",\"2010-11-26\",\"2010-12-03\",\"2010-12-10\",\"2010-12-17\",\"2010-12-24\",\"2010-12-31\",\"2011-01-07\",\"2011-01-14\",\"2011-01-21\",\"2011-01-28\",\"2011-02-04\",\"2011-02-11\",\"2011-02-18\",\"2011-02-25\",\"2011-03-04\",\"2011-03-11\",\"2011-03-18\",\"2011-03-25\",\"2011-04-01\",\"2011-04-08\",\"2011-04-15\",\"2011-04-22\",\"2011-04-29\",\"2011-05-06\",\"2011-05-13\",\"2011-05-20\",\"2011-05-27\",\"2011-06-03\",\"2011-06-10\",\"2011-06-17\",\"2011-06-24\",\"2011-07-01\",\"2011-07-08\",\"2011-07-15\",\"2011-07-22\",\"2011-07-29\",\"2011-08-05\",\"2011-08-12\",\"2011-08-19\",\"2011-08-26\",\"2011-09-02\",\"2011-09-09\",\"2011-09-16\",\"2011-09-23\",\"2011-09-30\",\"2011-10-07\",\"2011-10-14\",\"2011-10-21\",\"2011-10-28\",\"2011-11-04\",\"2011-11-11\",\"2011-11-18\",\"2011-11-25\",\"2011-12-02\",\"2011-12-09\",\"2011-12-16\",\"2011-12-23\",\"2011-12-30\",\"2012-01-06\",\"2012-01-13\",\"2012-01-20\",\"2012-01-27\",\"2012-02-03\",\"2012-02-10\",\"2012-02-17\",\"2012-02-24\",\"2012-03-02\",\"2012-03-09\",\"2012-03-16\",\"2012-03-23\",\"2012-03-30\",\"2012-04-06\",\"2012-04-13\",\"2012-04-20\",\"2012-04-27\",\"2012-05-04\",\"2012-05-11\",\"2012-05-18\",\"2012-05-25\",\"2012-06-01\",\"2012-06-08\",\"2012-06-15\",\"2012-06-22\",\"2012-06-29\",\"2012-07-06\",\"2012-07-13\",\"2012-07-20\",\"2012-07-27\",\"2012-08-03\",\"2012-08-10\",\"2012-08-17\",\"2012-08-24\",\"2012-08-31\"],\"xaxis\":\"x\",\"y\":[1454415.334,1459927.564,1415064.546,1295683.939,1412530.3679999998,1347681.843,1323450.992,1284331.997,1492136.068,1400379.91,1324854.5809999998,1312360.768,1284527.2999999998,1432381.4470000004,1324888.896,1326110.8050000002,1413294.371,1525792.3469999998,1410805.0720000002,1404323.137,1357927.7630000005,1455380.7889999996,1433909.3540000005,1362401.7629999998,1324289.718,1312971.8129999998,1458388.638,1379269.826,1411591.886,1381259.844,1414400.489,1350848.935,1259181.378,1203673.7399999998,1243479.01,1321613.235,1256549.852,1238755.719,1265617.597,1359742.244,1354872.432,1334599.933,1963757.474,1469059.912,1635364.019,1833452.948,2403576.535,1217732.64,1259189.26,1195218.447,1196251.207,1176707.0939999998,1383065.56,1389207.9159999995,1459362.5529999998,1296020.8400000003,1430218.897,1323817.4670000002,1345994.645,1276623.7,1304316.816,1380714.062,1341254.578,1455284.0810000002,1307223.555,1413752.5400000005,1358841.17,1313469.9619999998,1345530.0280000002,1493202.5,1430961.664,1420171.2730000005,1360877.827,1433551.826,1462739.6379999998,1359638.4959999998,1358759.705,1307606.693,1474598.6179999998,1404189.2569999998,1443531.333,1426355.9300000002,1420357.224,1418800.546,1307517.5229999998,1274210.66,1262388.9190000002,1449660.0359999998,1330761.189,1363776.181,1362306.025,1484589.8050000002,1446816.252,1387473.9789999998,2003441.149,1472745.0340000002,1678829.53,1806592.071,2300538.256,1385685.179,1345241.8180000002,1248039.327,1247722.517,1196459.257,1389431.42,1504125.8409999995,1505254.132,1366571.198,1409549.5510000002,1446987.331,1422141.62,1342577.018,1354538.082,1637805.5629999998,1419507.8269999998,1328668.943,1310713.463,1434105.5340000002,1403008.89,1396995.6549999998,1447179.1999999995,1472715.95,1511647.731,1467195.574,1442036.221,1407284.142,1592937.7610000002,1390560.6719999998,1398127.87,1337522.3809999998,1467175.5810000002,1471403.8619999995,1472062.004,1472355.971,1466935.4840000004],\"yaxis\":\"y\",\"type\":\"scatter\"}],                        {\"template\":{\"data\":{\"histogram2dcontour\":[{\"type\":\"histogram2dcontour\",\"colorbar\":{\"outlinewidth\":0,\"ticks\":\"\"},\"colorscale\":[[0.0,\"#0d0887\"],[0.1111111111111111,\"#46039f\"],[0.2222222222222222,\"#7201a8\"],[0.3333333333333333,\"#9c179e\"],[0.4444444444444444,\"#bd3786\"],[0.5555555555555556,\"#d8576b\"],[0.6666666666666666,\"#ed7953\"],[0.7777777777777778,\"#fb9f3a\"],[0.8888888888888888,\"#fdca26\"],[1.0,\"#f0f921\"]]}],\"choropleth\":[{\"type\":\"choropleth\",\"colorbar\":{\"outlinewidth\":0,\"ticks\":\"\"}}],\"histogram2d\":[{\"type\":\"histogram2d\",\"colorbar\":{\"outlinewidth\":0,\"ticks\":\"\"},\"colorscale\":[[0.0,\"#0d0887\"],[0.1111111111111111,\"#46039f\"],[0.2222222222222222,\"#7201a8\"],[0.3333333333333333,\"#9c179e\"],[0.4444444444444444,\"#bd3786\"],[0.5555555555555556,\"#d8576b\"],[0.6666666666666666,\"#ed7953\"],[0.7777777777777778,\"#fb9f3a\"],[0.8888888888888888,\"#fdca26\"],[1.0,\"#f0f921\"]]}],\"heatmap\":[{\"type\":\"heatmap\",\"colorbar\":{\"outlinewidth\":0,\"ticks\":\"\"},\"colorscale\":[[0.0,\"#0d0887\"],[0.1111111111111111,\"#46039f\"],[0.2222222222222222,\"#7201a8\"],[0.3333333333333333,\"#9c179e\"],[0.4444444444444444,\"#bd3786\"],[0.5555555555555556,\"#d8576b\"],[0.6666666666666666,\"#ed7953\"],[0.7777777777777778,\"#fb9f3a\"],[0.8888888888888888,\"#fdca26\"],[1.0,\"#f0f921\"]]}],\"heatmapgl\":[{\"type\":\"heatmapgl\",\"colorbar\":{\"outlinewidth\":0,\"ticks\":\"\"},\"colorscale\":[[0.0,\"#0d0887\"],[0.1111111111111111,\"#46039f\"],[0.2222222222222222,\"#7201a8\"],[0.3333333333333333,\"#9c179e\"],[0.4444444444444444,\"#bd3786\"],[0.5555555555555556,\"#d8576b\"],[0.6666666666666666,\"#ed7953\"],[0.7777777777777778,\"#fb9f3a\"],[0.8888888888888888,\"#fdca26\"],[1.0,\"#f0f921\"]]}],\"contourcarpet\":[{\"type\":\"contourcarpet\",\"colorbar\":{\"outlinewidth\":0,\"ticks\":\"\"}}],\"contour\":[{\"type\":\"contour\",\"colorbar\":{\"outlinewidth\":0,\"ticks\":\"\"},\"colorscale\":[[0.0,\"#0d0887\"],[0.1111111111111111,\"#46039f\"],[0.2222222222222222,\"#7201a8\"],[0.3333333333333333,\"#9c179e\"],[0.4444444444444444,\"#bd3786\"],[0.5555555555555556,\"#d8576b\"],[0.6666666666666666,\"#ed7953\"],[0.7777777777777778,\"#fb9f3a\"],[0.8888888888888888,\"#fdca26\"],[1.0,\"#f0f921\"]]}],\"surface\":[{\"type\":\"surface\",\"colorbar\":{\"outlinewidth\":0,\"ticks\":\"\"},\"colorscale\":[[0.0,\"#0d0887\"],[0.1111111111111111,\"#46039f\"],[0.2222222222222222,\"#7201a8\"],[0.3333333333333333,\"#9c179e\"],[0.4444444444444444,\"#bd3786\"],[0.5555555555555556,\"#d8576b\"],[0.6666666666666666,\"#ed7953\"],[0.7777777777777778,\"#fb9f3a\"],[0.8888888888888888,\"#fdca26\"],[1.0,\"#f0f921\"]]}],\"mesh3d\":[{\"type\":\"mesh3d\",\"colorbar\":{\"outlinewidth\":0,\"ticks\":\"\"}}],\"scatter\":[{\"fillpattern\":{\"fillmode\":\"overlay\",\"size\":10,\"solidity\":0.2},\"type\":\"scatter\"}],\"parcoords\":[{\"type\":\"parcoords\",\"line\":{\"colorbar\":{\"outlinewidth\":0,\"ticks\":\"\"}}}],\"scatterpolargl\":[{\"type\":\"scatterpolargl\",\"marker\":{\"colorbar\":{\"outlinewidth\":0,\"ticks\":\"\"}}}],\"bar\":[{\"error_x\":{\"color\":\"#2a3f5f\"},\"error_y\":{\"color\":\"#2a3f5f\"},\"marker\":{\"line\":{\"color\":\"#E5ECF6\",\"width\":0.5},\"pattern\":{\"fillmode\":\"overlay\",\"size\":10,\"solidity\":0.2}},\"type\":\"bar\"}],\"scattergeo\":[{\"type\":\"scattergeo\",\"marker\":{\"colorbar\":{\"outlinewidth\":0,\"ticks\":\"\"}}}],\"scatterpolar\":[{\"type\":\"scatterpolar\",\"marker\":{\"colorbar\":{\"outlinewidth\":0,\"ticks\":\"\"}}}],\"histogram\":[{\"marker\":{\"pattern\":{\"fillmode\":\"overlay\",\"size\":10,\"solidity\":0.2}},\"type\":\"histogram\"}],\"scattergl\":[{\"type\":\"scattergl\",\"marker\":{\"colorbar\":{\"outlinewidth\":0,\"ticks\":\"\"}}}],\"scatter3d\":[{\"type\":\"scatter3d\",\"line\":{\"colorbar\":{\"outlinewidth\":0,\"ticks\":\"\"}},\"marker\":{\"colorbar\":{\"outlinewidth\":0,\"ticks\":\"\"}}}],\"scattermapbox\":[{\"type\":\"scattermapbox\",\"marker\":{\"colorbar\":{\"outlinewidth\":0,\"ticks\":\"\"}}}],\"scatterternary\":[{\"type\":\"scatterternary\",\"marker\":{\"colorbar\":{\"outlinewidth\":0,\"ticks\":\"\"}}}],\"scattercarpet\":[{\"type\":\"scattercarpet\",\"marker\":{\"colorbar\":{\"outlinewidth\":0,\"ticks\":\"\"}}}],\"carpet\":[{\"aaxis\":{\"endlinecolor\":\"#2a3f5f\",\"gridcolor\":\"white\",\"linecolor\":\"white\",\"minorgridcolor\":\"white\",\"startlinecolor\":\"#2a3f5f\"},\"baxis\":{\"endlinecolor\":\"#2a3f5f\",\"gridcolor\":\"white\",\"linecolor\":\"white\",\"minorgridcolor\":\"white\",\"startlinecolor\":\"#2a3f5f\"},\"type\":\"carpet\"}],\"table\":[{\"cells\":{\"fill\":{\"color\":\"#EBF0F8\"},\"line\":{\"color\":\"white\"}},\"header\":{\"fill\":{\"color\":\"#C8D4E3\"},\"line\":{\"color\":\"white\"}},\"type\":\"table\"}],\"barpolar\":[{\"marker\":{\"line\":{\"color\":\"#E5ECF6\",\"width\":0.5},\"pattern\":{\"fillmode\":\"overlay\",\"size\":10,\"solidity\":0.2}},\"type\":\"barpolar\"}],\"pie\":[{\"automargin\":true,\"type\":\"pie\"}]},\"layout\":{\"autotypenumbers\":\"strict\",\"colorway\":[\"#636efa\",\"#EF553B\",\"#00cc96\",\"#ab63fa\",\"#FFA15A\",\"#19d3f3\",\"#FF6692\",\"#B6E880\",\"#FF97FF\",\"#FECB52\"],\"font\":{\"color\":\"#2a3f5f\"},\"hovermode\":\"closest\",\"hoverlabel\":{\"align\":\"left\"},\"paper_bgcolor\":\"white\",\"plot_bgcolor\":\"#E5ECF6\",\"polar\":{\"bgcolor\":\"#E5ECF6\",\"angularaxis\":{\"gridcolor\":\"white\",\"linecolor\":\"white\",\"ticks\":\"\"},\"radialaxis\":{\"gridcolor\":\"white\",\"linecolor\":\"white\",\"ticks\":\"\"}},\"ternary\":{\"bgcolor\":\"#E5ECF6\",\"aaxis\":{\"gridcolor\":\"white\",\"linecolor\":\"white\",\"ticks\":\"\"},\"baxis\":{\"gridcolor\":\"white\",\"linecolor\":\"white\",\"ticks\":\"\"},\"caxis\":{\"gridcolor\":\"white\",\"linecolor\":\"white\",\"ticks\":\"\"}},\"coloraxis\":{\"colorbar\":{\"outlinewidth\":0,\"ticks\":\"\"}},\"colorscale\":{\"sequential\":[[0.0,\"#0d0887\"],[0.1111111111111111,\"#46039f\"],[0.2222222222222222,\"#7201a8\"],[0.3333333333333333,\"#9c179e\"],[0.4444444444444444,\"#bd3786\"],[0.5555555555555556,\"#d8576b\"],[0.6666666666666666,\"#ed7953\"],[0.7777777777777778,\"#fb9f3a\"],[0.8888888888888888,\"#fdca26\"],[1.0,\"#f0f921\"]],\"sequentialminus\":[[0.0,\"#0d0887\"],[0.1111111111111111,\"#46039f\"],[0.2222222222222222,\"#7201a8\"],[0.3333333333333333,\"#9c179e\"],[0.4444444444444444,\"#bd3786\"],[0.5555555555555556,\"#d8576b\"],[0.6666666666666666,\"#ed7953\"],[0.7777777777777778,\"#fb9f3a\"],[0.8888888888888888,\"#fdca26\"],[1.0,\"#f0f921\"]],\"diverging\":[[0,\"#8e0152\"],[0.1,\"#c51b7d\"],[0.2,\"#de77ae\"],[0.3,\"#f1b6da\"],[0.4,\"#fde0ef\"],[0.5,\"#f7f7f7\"],[0.6,\"#e6f5d0\"],[0.7,\"#b8e186\"],[0.8,\"#7fbc41\"],[0.9,\"#4d9221\"],[1,\"#276419\"]]},\"xaxis\":{\"gridcolor\":\"white\",\"linecolor\":\"white\",\"ticks\":\"\",\"title\":{\"standoff\":15},\"zerolinecolor\":\"white\",\"automargin\":true,\"zerolinewidth\":2},\"yaxis\":{\"gridcolor\":\"white\",\"linecolor\":\"white\",\"ticks\":\"\",\"title\":{\"standoff\":15},\"zerolinecolor\":\"white\",\"automargin\":true,\"zerolinewidth\":2},\"scene\":{\"xaxis\":{\"backgroundcolor\":\"#E5ECF6\",\"gridcolor\":\"white\",\"linecolor\":\"white\",\"showbackground\":true,\"ticks\":\"\",\"zerolinecolor\":\"white\",\"gridwidth\":2},\"yaxis\":{\"backgroundcolor\":\"#E5ECF6\",\"gridcolor\":\"white\",\"linecolor\":\"white\",\"showbackground\":true,\"ticks\":\"\",\"zerolinecolor\":\"white\",\"gridwidth\":2},\"zaxis\":{\"backgroundcolor\":\"#E5ECF6\",\"gridcolor\":\"white\",\"linecolor\":\"white\",\"showbackground\":true,\"ticks\":\"\",\"zerolinecolor\":\"white\",\"gridwidth\":2}},\"shapedefaults\":{\"line\":{\"color\":\"#2a3f5f\"}},\"annotationdefaults\":{\"arrowcolor\":\"#2a3f5f\",\"arrowhead\":0,\"arrowwidth\":1},\"geo\":{\"bgcolor\":\"white\",\"landcolor\":\"#E5ECF6\",\"subunitcolor\":\"white\",\"showland\":true,\"showlakes\":true,\"lakecolor\":\"white\"},\"title\":{\"x\":0.05},\"mapbox\":{\"style\":\"light\"}}},\"xaxis\":{\"anchor\":\"y\",\"domain\":[0.0,1.0],\"title\":{\"text\":\"Date\"}},\"yaxis\":{\"anchor\":\"x\",\"domain\":[0.0,1.0],\"title\":{\"text\":\"Weekly_Sales\"}},\"legend\":{\"title\":{\"text\":\"variable\"},\"tracegroupgap\":0},\"title\":{\"text\":\"Clusters\"}},                        {\"responsive\": true}                    ).then(function(){\n",
       "                            \n",
       "var gd = document.getElementById('f5039223-e368-4686-9cfc-60b2fbbf7cf7');\n",
       "var x = new MutationObserver(function (mutations, observer) {{\n",
       "        var display = window.getComputedStyle(gd).display;\n",
       "        if (!display || display === 'none') {{\n",
       "            console.log([gd, 'removed!']);\n",
       "            Plotly.purge(gd);\n",
       "            observer.disconnect();\n",
       "        }}\n",
       "}});\n",
       "\n",
       "// Listen for the removal of the full notebook cells\n",
       "var notebookContainer = gd.closest('#notebook-container');\n",
       "if (notebookContainer) {{\n",
       "    x.observe(notebookContainer, {childList: true});\n",
       "}}\n",
       "\n",
       "// Listen for the clearing of the current output cell\n",
       "var outputEl = gd.closest('.output');\n",
       "if (outputEl) {{\n",
       "    x.observe(outputEl, {childList: true});\n",
       "}}\n",
       "\n",
       "                        })                };                });            </script>        </div>"
      ]
     },
     "metadata": {},
     "output_type": "display_data"
    }
   ],
   "source": [
    "import plotly.express as px\n",
    "fig = px.line(plot_data, x=\"Date\", y=plot_data.columns,\n",
    "              title='Clusters')\n",
    "fig.update_yaxes(\n",
    "    title='Weekly_Sales'\n",
    "    )\n",
    "fig.show()"
   ]
  },
  {
   "cell_type": "code",
   "execution_count": 113,
   "id": "fd479e37",
   "metadata": {},
   "outputs": [
    {
     "data": {
      "text/html": [
       "<div>\n",
       "<style scoped>\n",
       "    .dataframe tbody tr th:only-of-type {\n",
       "        vertical-align: middle;\n",
       "    }\n",
       "\n",
       "    .dataframe tbody tr th {\n",
       "        vertical-align: top;\n",
       "    }\n",
       "\n",
       "    .dataframe thead th {\n",
       "        text-align: right;\n",
       "    }\n",
       "</style>\n",
       "<table border=\"1\" class=\"dataframe\">\n",
       "  <thead>\n",
       "    <tr style=\"text-align: right;\">\n",
       "      <th></th>\n",
       "      <th>date</th>\n",
       "      <th>GOOG</th>\n",
       "      <th>AAPL</th>\n",
       "      <th>AMZN</th>\n",
       "      <th>FB</th>\n",
       "      <th>NFLX</th>\n",
       "      <th>MSFT</th>\n",
       "    </tr>\n",
       "  </thead>\n",
       "  <tbody>\n",
       "    <tr>\n",
       "      <th>0</th>\n",
       "      <td>2018-01-01</td>\n",
       "      <td>1.000000</td>\n",
       "      <td>1.000000</td>\n",
       "      <td>1.000000</td>\n",
       "      <td>1.000000</td>\n",
       "      <td>1.000000</td>\n",
       "      <td>1.000000</td>\n",
       "    </tr>\n",
       "    <tr>\n",
       "      <th>1</th>\n",
       "      <td>2018-01-08</td>\n",
       "      <td>1.018172</td>\n",
       "      <td>1.011943</td>\n",
       "      <td>1.061881</td>\n",
       "      <td>0.959968</td>\n",
       "      <td>1.053526</td>\n",
       "      <td>1.015988</td>\n",
       "    </tr>\n",
       "    <tr>\n",
       "      <th>2</th>\n",
       "      <td>2018-01-15</td>\n",
       "      <td>1.032008</td>\n",
       "      <td>1.019771</td>\n",
       "      <td>1.053240</td>\n",
       "      <td>0.970243</td>\n",
       "      <td>1.049860</td>\n",
       "      <td>1.020524</td>\n",
       "    </tr>\n",
       "    <tr>\n",
       "      <th>3</th>\n",
       "      <td>2018-01-22</td>\n",
       "      <td>1.066783</td>\n",
       "      <td>0.980057</td>\n",
       "      <td>1.140676</td>\n",
       "      <td>1.016858</td>\n",
       "      <td>1.307681</td>\n",
       "      <td>1.066561</td>\n",
       "    </tr>\n",
       "    <tr>\n",
       "      <th>4</th>\n",
       "      <td>2018-01-29</td>\n",
       "      <td>1.008773</td>\n",
       "      <td>0.917143</td>\n",
       "      <td>1.163374</td>\n",
       "      <td>1.018357</td>\n",
       "      <td>1.273537</td>\n",
       "      <td>1.040708</td>\n",
       "    </tr>\n",
       "  </tbody>\n",
       "</table>\n",
       "</div>"
      ],
      "text/plain": [
       "         date      GOOG      AAPL      AMZN        FB      NFLX      MSFT\n",
       "0  2018-01-01  1.000000  1.000000  1.000000  1.000000  1.000000  1.000000\n",
       "1  2018-01-08  1.018172  1.011943  1.061881  0.959968  1.053526  1.015988\n",
       "2  2018-01-15  1.032008  1.019771  1.053240  0.970243  1.049860  1.020524\n",
       "3  2018-01-22  1.066783  0.980057  1.140676  1.016858  1.307681  1.066561\n",
       "4  2018-01-29  1.008773  0.917143  1.163374  1.018357  1.273537  1.040708"
      ]
     },
     "execution_count": 113,
     "metadata": {},
     "output_type": "execute_result"
    }
   ],
   "source": [
    "df.head()"
   ]
  },
  {
   "cell_type": "code",
   "execution_count": null,
   "id": "40cb3706",
   "metadata": {},
   "outputs": [],
   "source": []
  }
 ],
 "metadata": {
  "kernelspec": {
   "display_name": "Python 3 (ipykernel)",
   "language": "python",
   "name": "python3"
  },
  "language_info": {
   "codemirror_mode": {
    "name": "ipython",
    "version": 3
   },
   "file_extension": ".py",
   "mimetype": "text/x-python",
   "name": "python",
   "nbconvert_exporter": "python",
   "pygments_lexer": "ipython3",
   "version": "3.7.10"
  }
 },
 "nbformat": 4,
 "nbformat_minor": 5
}
